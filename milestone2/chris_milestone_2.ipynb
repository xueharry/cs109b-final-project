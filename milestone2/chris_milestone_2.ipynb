{
 "cells": [
  {
   "cell_type": "code",
   "execution_count": 1,
   "metadata": {
    "collapsed": true
   },
   "outputs": [],
   "source": [
    "# import modules\n",
    "import requests\n",
    "import shutil\n",
    "from IPython.display import Image\n",
    "from IPython.core.display import HTML \n",
    "from sklearn.feature_extraction.text import CountVectorizer\n",
    "import numpy as np \n",
    "import pandas as pd\n",
    "import seaborn as sns\n",
    "import matplotlib.pyplot as plt\n",
    "from collections import Counter\n",
    "%matplotlib inline\n",
    "\n",
    "df = pd.read_csv(\"../milestone2/data/movie_metadata.csv\")\n",
    "\n",
    "df.head()\n",
    "\n",
    "split_genres = [genres.split(\"|\") for genres in df[\"genres\"]]\n",
    "\n",
    "# guarantee that each genre list is sorted alphabetically\n",
    "split_genres = [sorted(genres) for genres in split_genres]\n",
    "\n",
    "df[\"genres\"] = split_genres\n",
    "\n",
    "from sklearn.preprocessing import LabelEncoder\n",
    "\n",
    "le_genres = LabelEncoder()\n",
    "\n",
    "le_genres.fit(df[\"genres\"])\n",
    "\n",
    "df[\"genres_id\"] = le_genres.transform(df[\"genres\"])\n",
    "\n",
    "len(df[\"genres_id\"].unique())\n",
    "\n",
    "label_set_counts = df[\"genres_id\"].value_counts()\n",
    "\n",
    "label_set_counts.sort_values(inplace=True)\n",
    "\n",
    "label_set_counts.plot.bar(figsize=(100, 10))\n",
    "\n",
    "top_10_most_popular_genres = list(label_set_counts.nlargest(10).index)\n",
    "\n",
    "le_genres.inverse_transform(top_10_most_popular_genres)\n",
    "\n",
    "# get list of genres\n",
    "genres = list(set([genre for genre_list in split_genres for genre in genre_list]))\n",
    "\n",
    "# one-hot-encoding by genre\n",
    "for genre in genres:\n",
    "    df['i_' + genre] = [int(genre in genre_list) for genre_list in df['genres']]\n",
    "\n",
    "np.mean(df[\"i_Action\"])\n",
    "\n",
    "np.mean(df[\"i_Documentary\"])\n",
    "\n",
    "df.columns\n",
    "\n"
   ]
  }
 ],
 "metadata": {
  "kernelspec": {
   "display_name": "Python 2",
   "language": "python",
   "name": "python2"
  },
  "language_info": {
   "codemirror_mode": {
    "name": "ipython",
    "version": 2
   },
   "file_extension": ".py",
   "mimetype": "text/x-python",
   "name": "python",
   "nbconvert_exporter": "python",
   "pygments_lexer": "ipython2",
   "version": "2.7.13"
  }
 },
 "nbformat": 4,
 "nbformat_minor": 2
}
