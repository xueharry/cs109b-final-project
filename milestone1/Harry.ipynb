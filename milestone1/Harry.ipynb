{
 "cells": [
  {
   "cell_type": "code",
   "execution_count": 33,
   "metadata": {
    "collapsed": true
   },
   "outputs": [],
   "source": [
    "import requests\n",
    "import shutil\n",
    "from IPython.display import Image\n",
    "from IPython.core.display import HTML "
   ]
  },
  {
   "cell_type": "markdown",
   "metadata": {},
   "source": [
    "# API code to access the genre and movie poster path of your favorite movie\n",
    "One of my favorite movies is `The Departed`. Let's access the information for it via the TMDB API.\n",
    "\n",
    "Following the instructions at https://developers.themoviedb.org/3/getting-started, this is pretty straightforward."
   ]
  },
  {
   "cell_type": "markdown",
   "metadata": {},
   "source": [
    "## Accessing the genre of The Departed"
   ]
  },
  {
   "cell_type": "code",
   "execution_count": 17,
   "metadata": {
    "collapsed": false
   },
   "outputs": [
    {
     "data": {
      "text/plain": [
       "{u'page': 1,\n",
       " u'results': [{u'adult': False,\n",
       "   u'backdrop_path': u'/8Od5zV7Q7zNOX0y9tyNgpTmoiGA.jpg',\n",
       "   u'genre_ids': [18, 53, 80],\n",
       "   u'id': 1422,\n",
       "   u'original_language': u'en',\n",
       "   u'original_title': u'The Departed',\n",
       "   u'overview': u\"To take down South Boston's Irish Mafia, the police send in one of their own to infiltrate the underworld, not realizing the syndicate has done likewise. While an undercover cop curries favor with the mob kingpin, a career criminal rises through the police ranks. But both sides soon discover there's a mole among them.\",\n",
       "   u'popularity': 5.297378,\n",
       "   u'poster_path': u'/tGLO9zw5ZtCeyyEWgbYGgsFxC6i.jpg',\n",
       "   u'release_date': u'2006-10-05',\n",
       "   u'title': u'The Departed',\n",
       "   u'video': False,\n",
       "   u'vote_average': 7.8,\n",
       "   u'vote_count': 3271},\n",
       "  {u'adult': False,\n",
       "   u'backdrop_path': None,\n",
       "   u'genre_ids': [27, 18],\n",
       "   u'id': 321724,\n",
       "   u'original_language': u'ko',\n",
       "   u'original_title': u'\\u5996\\u82b1\\uc758 \\u50b3\\u8aaa',\n",
       "   u'overview': u\"A devoted son hears that, he must pay one thousand 'nyang' (old Korean currency) to save his father who is in jail for unknown reason. At that time, a low-grade official seeks for a man who could spend one night to mourn for the spirit of their DEAD daughter. The devoted son spends the night with the dead woman...\",\n",
       "   u'popularity': 1.000002,\n",
       "   u'poster_path': u'/zTc3WdF7HUt4HVe280rcWyth4hl.jpg',\n",
       "   u'release_date': u'1970-01-01',\n",
       "   u'title': u'The Legend of Departed Soul',\n",
       "   u'video': False,\n",
       "   u'vote_average': 0,\n",
       "   u'vote_count': 0},\n",
       "  {u'adult': False,\n",
       "   u'backdrop_path': None,\n",
       "   u'genre_ids': [],\n",
       "   u'id': 425104,\n",
       "   u'original_language': u'en',\n",
       "   u'original_title': u'Ninjago: Masters of Spinjitzu - Day of the Departed',\n",
       "   u'overview': u\"On the Ninjago holiday: Day of the Departed, the ninja remeber those who have departed. Jay visits his parents at the junkyard; Lloyd and Misako remember Garmadon in the Corridor of Elders; Zane remembers his father in Birchwood Forest and Kai and Nya remember their parents too. Cole, unable to fully accept being a ghost, visits Sensei Yang as he begins to fade from existence, but accidentally releases the spirits of the ninjas' past enemies, resulting in an epic fight.\",\n",
       "   u'popularity': 1.05061,\n",
       "   u'poster_path': u'/tPSHCNh5itFSjpzDpluwz2o4phK.jpg',\n",
       "   u'release_date': u'2016-10-28',\n",
       "   u'title': u'Ninjago: Masters of Spinjitzu - Day of the Departed',\n",
       "   u'video': False,\n",
       "   u'vote_average': 0,\n",
       "   u'vote_count': 0}],\n",
       " u'total_pages': 1,\n",
       " u'total_results': 3}"
      ]
     },
     "execution_count": 17,
     "metadata": {},
     "output_type": "execute_result"
    }
   ],
   "source": [
    "# API Key (Harry's)\n",
    "params = {\n",
    "            'api_key': '5eef6423b6f7cea2f5b6cae0838e38f9',\n",
    "            'query': 'The Departed' \n",
    "         }\n",
    "\n",
    "r = requests.get('https://api.themoviedb.org/3/search/movie?api_key=5eef6423b6f7cea2f5b6cae0838e38f9&query=The+Departed').json()\n",
    "r"
   ]
  },
  {
   "cell_type": "markdown",
   "metadata": {},
   "source": [
    "The first result is the one we want, so let's extract the movie's id in order to look up the genre of the film."
   ]
  },
  {
   "cell_type": "code",
   "execution_count": 20,
   "metadata": {
    "collapsed": false
   },
   "outputs": [
    {
     "data": {
      "text/plain": [
       "1422"
      ]
     },
     "execution_count": 20,
     "metadata": {},
     "output_type": "execute_result"
    }
   ],
   "source": [
    "the_departed_id = r['results'][0]['id']\n",
    "# Sanity check to see if we got the right one\n",
    "the_departed_id"
   ]
  },
  {
   "cell_type": "code",
   "execution_count": 29,
   "metadata": {
    "collapsed": false
   },
   "outputs": [
    {
     "name": "stdout",
     "output_type": "stream",
     "text": [
      "Drama\n",
      "Thriller\n",
      "Crime\n"
     ]
    }
   ],
   "source": [
    "# Now let's access the film's information by id in order to lookup the genre\n",
    "r = requests.get('https://api.themoviedb.org/3/movie/' + str(the_departed_id) + '?api_key=5eef6423b6f7cea2f5b6cae0838e38f9').json()\n",
    "genres_list = r['genres']\n",
    "\n",
    "# Unpack the names of the genres\n",
    "for genre in genres_list:\n",
    "    print genre['name']"
   ]
  },
  {
   "cell_type": "markdown",
   "metadata": {},
   "source": [
    "## Accessing the poster for The Departed"
   ]
  },
  {
   "cell_type": "code",
   "execution_count": 34,
   "metadata": {
    "collapsed": false
   },
   "outputs": [
    {
     "data": {
      "text/html": [
       "<img src=\"http://image.tmdb.org/t/p/w500//tGLO9zw5ZtCeyyEWgbYGgsFxC6i.jpg\"/>"
      ],
      "text/plain": [
       "<IPython.core.display.Image object>"
      ]
     },
     "execution_count": 34,
     "metadata": {},
     "output_type": "execute_result"
    }
   ],
   "source": [
    "poster_path = r['poster_path']\n",
    "url = 'http://image.tmdb.org/t/p/w500/' + poster_path\n",
    "Image(url=url)"
   ]
  },
  {
   "cell_type": "markdown",
   "metadata": {},
   "source": [
    "# Genre for this movie listed by TMDb and IMDb"
   ]
  },
  {
   "cell_type": "markdown",
   "metadata": {},
   "source": [
    "Let's compare the genres fetched from TMDb with those from IMDb.\n",
    "http://www.imdb.com/title/tt0407887/\n",
    "\n",
    "IMDb lists the genres:\n",
    "Crime, Drama, Thriller\n",
    "\n",
    "We have a match!"
   ]
  },
  {
   "cell_type": "markdown",
   "metadata": {},
   "source": [
    "# A list of the 10 most popular movies of 2016 from TMDb and their genre obtained via the API"
   ]
  },
  {
   "cell_type": "code",
   "execution_count": 44,
   "metadata": {
    "collapsed": false
   },
   "outputs": [
    {
     "name": "stdout",
     "output_type": "stream",
     "text": [
      "Names of most popular films in 2016:\n",
      "1 Sing\n",
      "2 Fantastic Beasts and Where to Find Them\n",
      "3 Finding Dory\n",
      "4 Rogue One: A Star Wars Story\n",
      "5 Arrival\n",
      "6 Deadpool\n",
      "7 Doctor Strange\n",
      "8 Underworld: Blood Wars\n",
      "9 Captain America: Civil War\n",
      "10 Zootopia\n",
      "\n",
      "\n",
      "Genres for Sing :\n",
      "Animation\n",
      "Comedy\n",
      "Drama\n",
      "Family\n",
      "Music\n",
      "\n",
      "\n",
      "Genres for Fantastic Beasts and Where to Find Them :\n",
      "Adventure\n",
      "Action\n",
      "Fantasy\n",
      "\n",
      "\n",
      "Genres for Finding Dory :\n",
      "Adventure\n",
      "Animation\n",
      "Comedy\n",
      "Family\n",
      "\n",
      "\n",
      "Genres for Rogue One: A Star Wars Story :\n",
      "Action\n",
      "Drama\n",
      "Science Fiction\n",
      "War\n",
      "\n",
      "\n",
      "Genres for Arrival :\n",
      "Drama\n",
      "Science Fiction\n",
      "\n",
      "\n",
      "Genres for Deadpool :\n",
      "Action\n",
      "Adventure\n",
      "Comedy\n",
      "Romance\n",
      "\n",
      "\n",
      "Genres for Doctor Strange :\n",
      "Action\n",
      "Adventure\n",
      "Fantasy\n",
      "Science Fiction\n",
      "\n",
      "\n",
      "Genres for Underworld: Blood Wars :\n",
      "Action\n",
      "Horror\n",
      "\n",
      "\n",
      "Genres for Captain America: Civil War :\n",
      "Action\n",
      "Science Fiction\n",
      "\n",
      "\n",
      "Genres for Zootopia :\n",
      "Animation\n",
      "Adventure\n",
      "Family\n",
      "Comedy\n",
      "\n",
      "\n"
     ]
    }
   ],
   "source": [
    "popular_r = requests.get('https://api.themoviedb.org/3/discover/movie?' + 'api_key=5eef6423b6f7cea2f5b6cae0838e38f9' + '&primary_release_year=2016').json()\n",
    "\n",
    "# Print names of most popular movies\n",
    "print \"Names of most popular films in 2016:\"\n",
    "titles = []\n",
    "# Get list of ids for genre lookup\n",
    "ids = []\n",
    "for i, film in enumerate(popular_r['results'][:10]):\n",
    "    titles.append(film['original_title'])\n",
    "    ids.append(film['id'])\n",
    "    print i+1, film['original_title']\n",
    "\n",
    "print \"\\n\"\n",
    "    \n",
    "# Look up genres for each of the films\n",
    "for i, id in enumerate(ids):\n",
    "    print \"Genres for\", titles[i], ':' \n",
    "    \n",
    "    # Now let's access the film's information by id in order to lookup the genre\n",
    "    r = requests.get('https://api.themoviedb.org/3/movie/' + str(id) + '?api_key=5eef6423b6f7cea2f5b6cae0838e38f9').json()\n",
    "    genres_list = r['genres']\n",
    "\n",
    "    # Unpack the names of the genres\n",
    "    for genre in genres_list:\n",
    "        print genre['name']\n",
    "    \n",
    "    print \"\\n\""
   ]
  },
  {
   "cell_type": "code",
   "execution_count": null,
   "metadata": {
    "collapsed": true
   },
   "outputs": [],
   "source": []
  }
 ],
 "metadata": {
  "anaconda-cloud": {},
  "kernelspec": {
   "display_name": "Python [Root]",
   "language": "python",
   "name": "Python [Root]"
  },
  "language_info": {
   "codemirror_mode": {
    "name": "ipython",
    "version": 2
   },
   "file_extension": ".py",
   "mimetype": "text/x-python",
   "name": "python",
   "nbconvert_exporter": "python",
   "pygments_lexer": "ipython2",
   "version": "2.7.12"
  }
 },
 "nbformat": 4,
 "nbformat_minor": 0
}
