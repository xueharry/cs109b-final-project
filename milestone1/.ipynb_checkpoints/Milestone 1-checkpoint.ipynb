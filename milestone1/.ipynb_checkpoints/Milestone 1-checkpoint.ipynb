{
 "cells": [
  {
   "cell_type": "markdown",
   "metadata": {},
   "source": [
    "# CS109b Final Project: Milestone 1\n",
    "---\n",
    "Group 6: Chris Chen, Phillip Huang, Harry Xue, Ted Zhu"
   ]
  },
  {
   "cell_type": "code",
   "execution_count": 1,
   "metadata": {
    "collapsed": true
   },
   "outputs": [],
   "source": [
    "# import modules\n",
    "import requests\n",
    "import shutil\n",
    "from IPython.display import Image\n",
    "from IPython.core.display import HTML \n",
    "from sklearn.feature_extraction.text import CountVectorizer\n",
    "import numpy as np \n",
    "import pandas as pd\n",
    "import seaborn as sns\n",
    "import matplotlib.pyplot as plt\n",
    "from collections import Counter\n",
    "%matplotlib inline"
   ]
  },
  {
   "cell_type": "markdown",
   "metadata": {},
   "source": [
    "## API code to access the genre and movie poster path of your favorite movie\n",
    "One of my favorite movies is `The Departed`. Let's access the information for it via the TMDB API.\n",
    "\n",
    "Following the instructions at https://developers.themoviedb.org/3/getting-started, this is pretty straightforward."
   ]
  },
  {
   "cell_type": "markdown",
   "metadata": {},
   "source": [
    "### Accessing the genre of The Departed"
   ]
  },
  {
   "cell_type": "code",
   "execution_count": 2,
   "metadata": {},
   "outputs": [
    {
     "data": {
      "text/plain": [
       "{u'page': 1,\n",
       " u'results': [{u'adult': False,\n",
       "   u'backdrop_path': u'/8Od5zV7Q7zNOX0y9tyNgpTmoiGA.jpg',\n",
       "   u'genre_ids': [18, 53, 80],\n",
       "   u'id': 1422,\n",
       "   u'original_language': u'en',\n",
       "   u'original_title': u'The Departed',\n",
       "   u'overview': u\"To take down South Boston's Irish Mafia, the police send in one of their own to infiltrate the underworld, not realizing the syndicate has done likewise. While an undercover cop curries favor with the mob kingpin, a career criminal rises through the police ranks. But both sides soon discover there's a mole among them.\",\n",
       "   u'popularity': 4.587519,\n",
       "   u'poster_path': u'/tGLO9zw5ZtCeyyEWgbYGgsFxC6i.jpg',\n",
       "   u'release_date': u'2006-10-05',\n",
       "   u'title': u'The Departed',\n",
       "   u'video': False,\n",
       "   u'vote_average': 7.8,\n",
       "   u'vote_count': 3344},\n",
       "  {u'adult': False,\n",
       "   u'backdrop_path': None,\n",
       "   u'genre_ids': [27, 18],\n",
       "   u'id': 321724,\n",
       "   u'original_language': u'ko',\n",
       "   u'original_title': u'\\u5996\\u82b1\\uc758 \\u50b3\\u8aaa',\n",
       "   u'overview': u\"A devoted son hears that, he must pay one thousand 'nyang' (old Korean currency) to save his father who is in jail for unknown reason. At that time, a low-grade official seeks for a man who could spend one night to mourn for the spirit of their DEAD daughter. The devoted son spends the night with the dead woman...\",\n",
       "   u'popularity': 1.00123,\n",
       "   u'poster_path': u'/zTc3WdF7HUt4HVe280rcWyth4hl.jpg',\n",
       "   u'release_date': u'1970-01-01',\n",
       "   u'title': u'The Legend of Departed Soul',\n",
       "   u'video': False,\n",
       "   u'vote_average': 0,\n",
       "   u'vote_count': 0},\n",
       "  {u'adult': False,\n",
       "   u'backdrop_path': None,\n",
       "   u'genre_ids': [],\n",
       "   u'id': 425104,\n",
       "   u'original_language': u'en',\n",
       "   u'original_title': u'Ninjago: Masters of Spinjitzu - Day of the Departed',\n",
       "   u'overview': u\"On the Ninjago holiday: Day of the Departed, the ninja remeber those who have departed. Jay visits his parents at the junkyard; Lloyd and Misako remember Garmadon in the Corridor of Elders; Zane remembers his father in Birchwood Forest and Kai and Nya remember their parents too. Cole, unable to fully accept being a ghost, visits Sensei Yang as he begins to fade from existence, but accidentally releases the spirits of the ninjas' past enemies, resulting in an epic fight.\",\n",
       "   u'popularity': 1.157098,\n",
       "   u'poster_path': u'/tPSHCNh5itFSjpzDpluwz2o4phK.jpg',\n",
       "   u'release_date': u'2016-10-28',\n",
       "   u'title': u'Ninjago: Masters of Spinjitzu - Day of the Departed',\n",
       "   u'video': False,\n",
       "   u'vote_average': 0,\n",
       "   u'vote_count': 0}],\n",
       " u'total_pages': 1,\n",
       " u'total_results': 3}"
      ]
     },
     "execution_count": 2,
     "metadata": {},
     "output_type": "execute_result"
    }
   ],
   "source": [
    "# API Key (Harry's)\n",
    "payload = {\n",
    "            'api_key': '5eef6423b6f7cea2f5b6cae0838e38f9',\n",
    "            'query': 'The Departed' \n",
    "         }\n",
    "\n",
    "r = requests.get('https://api.themoviedb.org/3/search/movie', params = payload).json()\n",
    "r"
   ]
  },
  {
   "cell_type": "markdown",
   "metadata": {},
   "source": [
    "The first result is the one we want, so let's extract the movie's id in order to look up the genre of the film."
   ]
  },
  {
   "cell_type": "code",
   "execution_count": 3,
   "metadata": {},
   "outputs": [
    {
     "data": {
      "text/plain": [
       "1422"
      ]
     },
     "execution_count": 3,
     "metadata": {},
     "output_type": "execute_result"
    }
   ],
   "source": [
    "the_departed_id = r['results'][0]['id']\n",
    "# Sanity check to see if we got the right one\n",
    "the_departed_id"
   ]
  },
  {
   "cell_type": "code",
   "execution_count": 4,
   "metadata": {},
   "outputs": [
    {
     "name": "stdout",
     "output_type": "stream",
     "text": [
      "Drama\n",
      "Thriller\n",
      "Crime\n"
     ]
    }
   ],
   "source": [
    "# Now let's access the film's information by id in order to lookup the genre\n",
    "r = requests.get('https://api.themoviedb.org/3/movie/' + str(the_departed_id) + '?api_key=5eef6423b6f7cea2f5b6cae0838e38f9').json()\n",
    "genres_list = r['genres']\n",
    "\n",
    "# Unpack the names of the genres\n",
    "for genre in genres_list:\n",
    "    print genre['name']"
   ]
  },
  {
   "cell_type": "markdown",
   "metadata": {},
   "source": [
    "### Accessing the poster for The Departed"
   ]
  },
  {
   "cell_type": "code",
   "execution_count": 5,
   "metadata": {},
   "outputs": [
    {
     "data": {
      "text/html": [
       "<img src=\"http://image.tmdb.org/t/p/w500//tGLO9zw5ZtCeyyEWgbYGgsFxC6i.jpg\"/>"
      ],
      "text/plain": [
       "<IPython.core.display.Image object>"
      ]
     },
     "execution_count": 5,
     "metadata": {},
     "output_type": "execute_result"
    }
   ],
   "source": [
    "poster_path = r['poster_path']\n",
    "url = 'http://image.tmdb.org/t/p/w500/' + poster_path\n",
    "Image(url=url)"
   ]
  },
  {
   "cell_type": "markdown",
   "metadata": {},
   "source": [
    "## Genre for this movie listed by TMDb and IMDb"
   ]
  },
  {
   "cell_type": "markdown",
   "metadata": {},
   "source": [
    "Let's compare the genres fetched from TMDb with those from IMDb.\n",
    "http://www.imdb.com/title/tt0407887/\n",
    "\n",
    "IMDb lists the genres:\n",
    "Crime, Drama, Thriller\n",
    "\n",
    "We have a match!"
   ]
  },
  {
   "cell_type": "markdown",
   "metadata": {},
   "source": [
    "## A list of the 10 most popular movies of 2016 from TMDb and their genre obtained via the API"
   ]
  },
  {
   "cell_type": "code",
   "execution_count": 6,
   "metadata": {
    "scrolled": true
   },
   "outputs": [
    {
     "name": "stdout",
     "output_type": "stream",
     "text": [
      "Names of most popular films in 2016:\n",
      "1 Sing\n",
      "2 Fantastic Beasts and Where to Find Them\n",
      "3 Finding Dory\n",
      "4 Deadpool\n",
      "5 Rogue One: A Star Wars Story\n",
      "6 Doctor Strange\n",
      "7 Arrival\n",
      "8 Captain America: Civil War\n",
      "9 Underworld: Blood Wars\n",
      "10 Lion\n",
      "\n",
      "\n",
      "Genres for Sing :\n",
      "Animation\n",
      "Comedy\n",
      "Drama\n",
      "Family\n",
      "Music\n",
      "\n",
      "\n",
      "Genres for Fantastic Beasts and Where to Find Them :\n",
      "Adventure\n",
      "Action\n",
      "Fantasy\n",
      "\n",
      "\n",
      "Genres for Finding Dory :\n",
      "Adventure\n",
      "Animation\n",
      "Comedy\n",
      "Family\n",
      "\n",
      "\n",
      "Genres for Deadpool :\n",
      "Action\n",
      "Adventure\n",
      "Comedy\n",
      "Romance\n",
      "\n",
      "\n",
      "Genres for Rogue One: A Star Wars Story :\n",
      "Action\n",
      "Drama\n",
      "Science Fiction\n",
      "War\n",
      "\n",
      "\n",
      "Genres for Doctor Strange :\n",
      "Action\n",
      "Adventure\n",
      "Fantasy\n",
      "Science Fiction\n",
      "\n",
      "\n",
      "Genres for Arrival :\n",
      "Drama\n",
      "Science Fiction\n",
      "\n",
      "\n",
      "Genres for Captain America: Civil War :\n",
      "Action\n",
      "Science Fiction\n",
      "\n",
      "\n",
      "Genres for Underworld: Blood Wars :\n",
      "Action\n",
      "Horror\n",
      "\n",
      "\n",
      "Genres for Lion :\n",
      "Drama\n",
      "\n",
      "\n"
     ]
    }
   ],
   "source": [
    "popular_r = requests.get('https://api.themoviedb.org/3/discover/movie?' + 'api_key=5eef6423b6f7cea2f5b6cae0838e38f9' + '&primary_release_year=2016').json()\n",
    "\n",
    "# Print names of most popular movies\n",
    "print \"Names of most popular films in 2016:\"\n",
    "titles = []\n",
    "# Get list of ids for genre lookup\n",
    "ids = []\n",
    "for i, film in enumerate(popular_r['results'][:10]):\n",
    "    titles.append(film['original_title'])\n",
    "    ids.append(film['id'])\n",
    "    print i+1, film['original_title']\n",
    "\n",
    "print \"\\n\"\n",
    "\n",
    "# Create dictionary of {title: genre list} entries\n",
    "# i.e. {'The Departed': ['Crime','Drama',...]...} \n",
    "genres_by_movie = {title: [] for title in titles}\n",
    "\n",
    "# Look up genres for each of the films\n",
    "for i, id in enumerate(ids):\n",
    "    print \"Genres for\", titles[i], ':' \n",
    "    \n",
    "    # Now let's access the film's information by id in order to lookup the genre\n",
    "    r = requests.get('https://api.themoviedb.org/3/movie/' + str(id) + '?api_key=5eef6423b6f7cea2f5b6cae0838e38f9').json()\n",
    "    genres_list = r['genres']\n",
    "\n",
    "    # Unpack the names of the genres\n",
    "    for genre in genres_list:\n",
    "        # Eliminate spaces between words in genre name\n",
    "        genres_by_movie[titles[i]].append(genre['name'].replace(\" \", \"\")) \n",
    "        print genre['name']\n",
    "    \n",
    "    print \"\\n\""
   ]
  },
  {
   "cell_type": "markdown",
   "metadata": {},
   "source": [
    "## Visualization of Movie Genre Pairs\n",
    "We can create a cooccurence matrix of genres across the top 10 movies from 2016, and then visualize via heatmap.\n",
    "\n",
    "Inspiration from: http://stackoverflow.com/questions/35562789/word-word-co-occurrence-matrix"
   ]
  },
  {
   "cell_type": "code",
   "execution_count": 7,
   "metadata": {},
   "outputs": [
    {
     "name": "stdout",
     "output_type": "stream",
     "text": [
      "[[0 3 0 1 1 0 2 1 0 1 3 1]\n",
      " [3 0 1 2 0 1 2 0 0 1 1 0]\n",
      " [0 1 0 2 1 2 0 0 1 0 0 0]\n",
      " [1 2 2 0 1 2 0 0 1 1 0 0]\n",
      " [1 0 1 1 0 1 0 0 1 0 2 1]\n",
      " [0 1 2 2 1 0 0 0 1 0 0 0]\n",
      " [2 2 0 0 0 0 0 0 0 0 1 0]\n",
      " [1 0 0 0 0 0 0 0 0 0 0 0]\n",
      " [0 0 1 1 1 1 0 0 0 0 0 0]\n",
      " [1 1 0 1 0 0 0 0 0 0 0 0]\n",
      " [3 1 0 0 2 0 1 0 0 0 0 1]\n",
      " [1 0 0 0 1 0 0 0 0 0 1 0]]\n"
     ]
    }
   ],
   "source": [
    "# Get genre lists into right format for CountVectorizer\n",
    "docs = [\" \".join(genre_list) for genre_list in genres_by_movie.values()]\n",
    "\n",
    "count_model = CountVectorizer(ngram_range=(1,1)) # default unigram model\n",
    "X = count_model.fit_transform(docs)\n",
    "Xc = (X.T * X) # this is co-occurrence matrix in sparse csr format\n",
    "Xc.setdiag(0) # sometimes you want to fill same word cooccurence to 0\n",
    "print(Xc.todense()) # print out matrix in dense format"
   ]
  },
  {
   "cell_type": "code",
   "execution_count": 8,
   "metadata": {
    "scrolled": true
   },
   "outputs": [
    {
     "data": {
      "text/plain": [
       "<matplotlib.text.Text at 0x113fc3d90>"
      ]
     },
     "execution_count": 8,
     "metadata": {},
     "output_type": "execute_result"
    },
    {
     "data": {
      "image/png": "[encoded data removed]",
      "text/plain": [
       "<matplotlib.figure.Figure at 0x113f630d0>"
      ]
     },
     "metadata": {},
     "output_type": "display_data"
    }
   ],
   "source": [
    "df = pd.DataFrame(Xc.todense(), index=count_model.get_feature_names(), columns=count_model.get_feature_names())\n",
    "\n",
    "ax = plt.axes()\n",
    "\n",
    "# Apply mask to only plot half of matrix\n",
    "mask = np.zeros_like(df)\n",
    "mask[np.triu_indices_from(mask)] = True\n",
    "with sns.axes_style(\"white\"):\n",
    "    sns.heatmap(df, mask=mask, annot=True, fmt=\"d\", square=True)\n",
    "\n",
    "ax.set_title('Co-occurrences of Genres in TMDb 2016 Top 10 Movies')"
   ]
  },
  {
   "cell_type": "markdown",
   "metadata": {
    "collapsed": true
   },
   "source": [
    "This looks a bit sparse, let's expand it to the rest of the pulled data, which totals 20 in length."
   ]
  },
  {
   "cell_type": "code",
   "execution_count": 9,
   "metadata": {},
   "outputs": [
    {
     "name": "stdout",
     "output_type": "stream",
     "text": [
      "[[0 6 0 1 1 0 5 0 1 0 1 5 1]\n",
      " [6 0 2 3 2 2 6 0 0 0 2 4 0]\n",
      " [0 2 0 3 1 3 0 0 0 1 0 0 0]\n",
      " [1 3 3 0 1 3 0 0 0 1 1 0 0]\n",
      " [1 2 1 1 0 1 1 2 0 1 1 3 2]\n",
      " [0 2 3 3 1 0 0 0 0 1 0 0 0]\n",
      " [5 6 0 0 1 0 0 0 0 0 0 3 0]\n",
      " [0 0 0 0 2 0 0 0 0 0 0 0 1]\n",
      " [1 0 0 0 0 0 0 0 0 0 0 0 0]\n",
      " [0 0 1 1 1 1 0 0 0 0 0 0 0]\n",
      " [1 2 0 1 1 0 0 0 0 0 0 1 0]\n",
      " [5 4 0 0 3 0 3 0 0 0 1 0 1]\n",
      " [1 0 0 0 2 0 0 1 0 0 0 1 0]]\n"
     ]
    },
    {
     "data": {
      "text/plain": [
       "<matplotlib.text.Text at 0x117ec7d10>"
      ]
     },
     "execution_count": 9,
     "metadata": {},
     "output_type": "execute_result"
    },
    {
     "data": {
      "image/png": "[encoded data removed]",
      "text/plain": [
       "<matplotlib.figure.Figure at 0x109199f90>"
      ]
     },
     "metadata": {},
     "output_type": "display_data"
    }
   ],
   "source": [
    "#\n",
    "# Repeat above steps with the entire set\n",
    "#\n",
    "\n",
    "titles_full = []\n",
    "ids_full = []\n",
    "for film in popular_r['results']:\n",
    "    titles_full.append(film['original_title'])\n",
    "    ids_full.append(film['id'])\n",
    "\n",
    "# Create dictionary of {title: genre list} entries\n",
    "# i.e. {'The Departed': ['Crime','Drama',...]...} \n",
    "genres_by_movie_full = {title: [] for title in titles_full}\n",
    "\n",
    "# Look up genres for each of the films\n",
    "for i, id in enumerate(ids_full):\n",
    "    \n",
    "    # Now let's access the film's information by id in order to lookup the genre\n",
    "    r = requests.get('https://api.themoviedb.org/3/movie/' + str(id) + '?api_key=5eef6423b6f7cea2f5b6cae0838e38f9').json()\n",
    "    genres_list = r['genres']\n",
    "\n",
    "    # Unpack the names of the genres\n",
    "    for genre in genres_list:\n",
    "        # Eliminate spaces between words in genre name\n",
    "        genres_by_movie_full[titles_full[i]].append(genre['name'].replace(\" \", \"\")) \n",
    "        \n",
    "# Get genre lists into right format for CountVectorizer\n",
    "docs = [\" \".join(genre_list) for genre_list in genres_by_movie_full.values()]\n",
    "\n",
    "count_model = CountVectorizer(ngram_range=(1,1)) # default unigram model\n",
    "X = count_model.fit_transform(docs)\n",
    "Xc = (X.T * X) # this is co-occurrence matrix in sparse csr format\n",
    "Xc.setdiag(0) # sometimes you want to fill same word cooccurence to 0\n",
    "print(Xc.todense()) # print out matrix in dense format\n",
    "\n",
    "df = pd.DataFrame(Xc.todense(), index=count_model.get_feature_names(), columns=count_model.get_feature_names())\n",
    "\n",
    "ax = plt.axes()\n",
    "\n",
    "# Apply mask to only plot half of matrix\n",
    "mask = np.zeros_like(df)\n",
    "mask[np.triu_indices_from(mask)] = True\n",
    "with sns.axes_style(\"white\"):\n",
    "    sns.heatmap(df, mask=mask, annot=True, fmt=\"d\", square=True)\n",
    "\n",
    "ax.set_title('Co-occurrences of Genres in TMDb 2016 Top 20 Movies')"
   ]
  },
  {
   "cell_type": "markdown",
   "metadata": {},
   "source": [
    "This appears more comprehensive. We see that Action, Adventure, and Fantasy seem to group together. Action and Science Fiction are also often paired."
   ]
  },
  {
   "cell_type": "markdown",
   "metadata": {},
   "source": [
    "## Additional visualization sketches and EDA with a focus on movie genres"
   ]
  },
  {
   "cell_type": "code",
   "execution_count": 10,
   "metadata": {},
   "outputs": [
    {
     "data": {
      "text/html": [
       "<div>\n",
       "<table border=\"1\" class=\"dataframe\">\n",
       "  <thead>\n",
       "    <tr style=\"text-align: right;\">\n",
       "      <th></th>\n",
       "      <th>color</th>\n",
       "      <th>director_name</th>\n",
       "      <th>num_critic_for_reviews</th>\n",
       "      <th>duration</th>\n",
       "      <th>director_facebook_likes</th>\n",
       "      <th>actor_3_facebook_likes</th>\n",
       "      <th>actor_2_name</th>\n",
       "      <th>actor_1_facebook_likes</th>\n",
       "      <th>gross</th>\n",
       "      <th>genres</th>\n",
       "      <th>...</th>\n",
       "      <th>num_user_for_reviews</th>\n",
       "      <th>language</th>\n",
       "      <th>country</th>\n",
       "      <th>content_rating</th>\n",
       "      <th>budget</th>\n",
       "      <th>title_year</th>\n",
       "      <th>actor_2_facebook_likes</th>\n",
       "      <th>imdb_score</th>\n",
       "      <th>aspect_ratio</th>\n",
       "      <th>movie_facebook_likes</th>\n",
       "    </tr>\n",
       "  </thead>\n",
       "  <tbody>\n",
       "    <tr>\n",
       "      <th>0</th>\n",
       "      <td>Color</td>\n",
       "      <td>James Cameron</td>\n",
       "      <td>723.0</td>\n",
       "      <td>178.0</td>\n",
       "      <td>0.0</td>\n",
       "      <td>855.0</td>\n",
       "      <td>Joel David Moore</td>\n",
       "      <td>1000.0</td>\n",
       "      <td>760505847.0</td>\n",
       "      <td>Action|Adventure|Fantasy|Sci-Fi</td>\n",
       "      <td>...</td>\n",
       "      <td>3054.0</td>\n",
       "      <td>English</td>\n",
       "      <td>USA</td>\n",
       "      <td>PG-13</td>\n",
       "      <td>237000000.0</td>\n",
       "      <td>2009.0</td>\n",
       "      <td>936.0</td>\n",
       "      <td>7.9</td>\n",
       "      <td>1.78</td>\n",
       "      <td>33000</td>\n",
       "    </tr>\n",
       "    <tr>\n",
       "      <th>1</th>\n",
       "      <td>Color</td>\n",
       "      <td>Gore Verbinski</td>\n",
       "      <td>302.0</td>\n",
       "      <td>169.0</td>\n",
       "      <td>563.0</td>\n",
       "      <td>1000.0</td>\n",
       "      <td>Orlando Bloom</td>\n",
       "      <td>40000.0</td>\n",
       "      <td>309404152.0</td>\n",
       "      <td>Action|Adventure|Fantasy</td>\n",
       "      <td>...</td>\n",
       "      <td>1238.0</td>\n",
       "      <td>English</td>\n",
       "      <td>USA</td>\n",
       "      <td>PG-13</td>\n",
       "      <td>300000000.0</td>\n",
       "      <td>2007.0</td>\n",
       "      <td>5000.0</td>\n",
       "      <td>7.1</td>\n",
       "      <td>2.35</td>\n",
       "      <td>0</td>\n",
       "    </tr>\n",
       "    <tr>\n",
       "      <th>2</th>\n",
       "      <td>Color</td>\n",
       "      <td>Sam Mendes</td>\n",
       "      <td>602.0</td>\n",
       "      <td>148.0</td>\n",
       "      <td>0.0</td>\n",
       "      <td>161.0</td>\n",
       "      <td>Rory Kinnear</td>\n",
       "      <td>11000.0</td>\n",
       "      <td>200074175.0</td>\n",
       "      <td>Action|Adventure|Thriller</td>\n",
       "      <td>...</td>\n",
       "      <td>994.0</td>\n",
       "      <td>English</td>\n",
       "      <td>UK</td>\n",
       "      <td>PG-13</td>\n",
       "      <td>245000000.0</td>\n",
       "      <td>2015.0</td>\n",
       "      <td>393.0</td>\n",
       "      <td>6.8</td>\n",
       "      <td>2.35</td>\n",
       "      <td>85000</td>\n",
       "    </tr>\n",
       "    <tr>\n",
       "      <th>3</th>\n",
       "      <td>Color</td>\n",
       "      <td>Christopher Nolan</td>\n",
       "      <td>813.0</td>\n",
       "      <td>164.0</td>\n",
       "      <td>22000.0</td>\n",
       "      <td>23000.0</td>\n",
       "      <td>Christian Bale</td>\n",
       "      <td>27000.0</td>\n",
       "      <td>448130642.0</td>\n",
       "      <td>Action|Thriller</td>\n",
       "      <td>...</td>\n",
       "      <td>2701.0</td>\n",
       "      <td>English</td>\n",
       "      <td>USA</td>\n",
       "      <td>PG-13</td>\n",
       "      <td>250000000.0</td>\n",
       "      <td>2012.0</td>\n",
       "      <td>23000.0</td>\n",
       "      <td>8.5</td>\n",
       "      <td>2.35</td>\n",
       "      <td>164000</td>\n",
       "    </tr>\n",
       "    <tr>\n",
       "      <th>4</th>\n",
       "      <td>NaN</td>\n",
       "      <td>Doug Walker</td>\n",
       "      <td>NaN</td>\n",
       "      <td>NaN</td>\n",
       "      <td>131.0</td>\n",
       "      <td>NaN</td>\n",
       "      <td>Rob Walker</td>\n",
       "      <td>131.0</td>\n",
       "      <td>NaN</td>\n",
       "      <td>Documentary</td>\n",
       "      <td>...</td>\n",
       "      <td>NaN</td>\n",
       "      <td>NaN</td>\n",
       "      <td>NaN</td>\n",
       "      <td>NaN</td>\n",
       "      <td>NaN</td>\n",
       "      <td>NaN</td>\n",
       "      <td>12.0</td>\n",
       "      <td>7.1</td>\n",
       "      <td>NaN</td>\n",
       "      <td>0</td>\n",
       "    </tr>\n",
       "  </tbody>\n",
       "</table>\n",
       "<p>5 rows × 28 columns</p>\n",
       "</div>"
      ],
      "text/plain": [
       "   color      director_name  num_critic_for_reviews  duration  \\\n",
       "0  Color      James Cameron                   723.0     178.0   \n",
       "1  Color     Gore Verbinski                   302.0     169.0   \n",
       "2  Color         Sam Mendes                   602.0     148.0   \n",
       "3  Color  Christopher Nolan                   813.0     164.0   \n",
       "4    NaN        Doug Walker                     NaN       NaN   \n",
       "\n",
       "   director_facebook_likes  actor_3_facebook_likes      actor_2_name  \\\n",
       "0                      0.0                   855.0  Joel David Moore   \n",
       "1                    563.0                  1000.0     Orlando Bloom   \n",
       "2                      0.0                   161.0      Rory Kinnear   \n",
       "3                  22000.0                 23000.0    Christian Bale   \n",
       "4                    131.0                     NaN        Rob Walker   \n",
       "\n",
       "   actor_1_facebook_likes        gross                           genres  \\\n",
       "0                  1000.0  760505847.0  Action|Adventure|Fantasy|Sci-Fi   \n",
       "1                 40000.0  309404152.0         Action|Adventure|Fantasy   \n",
       "2                 11000.0  200074175.0        Action|Adventure|Thriller   \n",
       "3                 27000.0  448130642.0                  Action|Thriller   \n",
       "4                   131.0          NaN                      Documentary   \n",
       "\n",
       "          ...          num_user_for_reviews language  country  content_rating  \\\n",
       "0         ...                        3054.0  English      USA           PG-13   \n",
       "1         ...                        1238.0  English      USA           PG-13   \n",
       "2         ...                         994.0  English       UK           PG-13   \n",
       "3         ...                        2701.0  English      USA           PG-13   \n",
       "4         ...                           NaN      NaN      NaN             NaN   \n",
       "\n",
       "        budget  title_year actor_2_facebook_likes imdb_score  aspect_ratio  \\\n",
       "0  237000000.0      2009.0                  936.0        7.9          1.78   \n",
       "1  300000000.0      2007.0                 5000.0        7.1          2.35   \n",
       "2  245000000.0      2015.0                  393.0        6.8          2.35   \n",
       "3  250000000.0      2012.0                23000.0        8.5          2.35   \n",
       "4          NaN         NaN                   12.0        7.1           NaN   \n",
       "\n",
       "  movie_facebook_likes  \n",
       "0                33000  \n",
       "1                    0  \n",
       "2                85000  \n",
       "3               164000  \n",
       "4                    0  \n",
       "\n",
       "[5 rows x 28 columns]"
      ]
     },
     "execution_count": 10,
     "metadata": {},
     "output_type": "execute_result"
    }
   ],
   "source": [
    "# load IMDB 5000 data\n",
    "df = pd.read_csv(\"data/movie_metadata.csv\")\n",
    "df.head()"
   ]
  },
  {
   "cell_type": "code",
   "execution_count": 11,
   "metadata": {},
   "outputs": [
    {
     "data": {
      "text/html": [
       "<div>\n",
       "<table border=\"1\" class=\"dataframe\">\n",
       "  <thead>\n",
       "    <tr style=\"text-align: right;\">\n",
       "      <th></th>\n",
       "      <th>color</th>\n",
       "      <th>director_name</th>\n",
       "      <th>num_critic_for_reviews</th>\n",
       "      <th>duration</th>\n",
       "      <th>director_facebook_likes</th>\n",
       "      <th>actor_3_facebook_likes</th>\n",
       "      <th>actor_2_name</th>\n",
       "      <th>actor_1_facebook_likes</th>\n",
       "      <th>gross</th>\n",
       "      <th>genres</th>\n",
       "      <th>...</th>\n",
       "      <th>num_user_for_reviews</th>\n",
       "      <th>language</th>\n",
       "      <th>country</th>\n",
       "      <th>content_rating</th>\n",
       "      <th>budget</th>\n",
       "      <th>title_year</th>\n",
       "      <th>actor_2_facebook_likes</th>\n",
       "      <th>imdb_score</th>\n",
       "      <th>aspect_ratio</th>\n",
       "      <th>movie_facebook_likes</th>\n",
       "    </tr>\n",
       "  </thead>\n",
       "  <tbody>\n",
       "    <tr>\n",
       "      <th>0</th>\n",
       "      <td>Color</td>\n",
       "      <td>James Cameron</td>\n",
       "      <td>723.0</td>\n",
       "      <td>178.0</td>\n",
       "      <td>0.0</td>\n",
       "      <td>855.0</td>\n",
       "      <td>Joel David Moore</td>\n",
       "      <td>1000.0</td>\n",
       "      <td>760505847.0</td>\n",
       "      <td>[Action, Adventure, Fantasy, Sci-Fi]</td>\n",
       "      <td>...</td>\n",
       "      <td>3054.0</td>\n",
       "      <td>English</td>\n",
       "      <td>USA</td>\n",
       "      <td>PG-13</td>\n",
       "      <td>237000000.0</td>\n",
       "      <td>2009.0</td>\n",
       "      <td>936.0</td>\n",
       "      <td>7.9</td>\n",
       "      <td>1.78</td>\n",
       "      <td>33000</td>\n",
       "    </tr>\n",
       "    <tr>\n",
       "      <th>1</th>\n",
       "      <td>Color</td>\n",
       "      <td>Gore Verbinski</td>\n",
       "      <td>302.0</td>\n",
       "      <td>169.0</td>\n",
       "      <td>563.0</td>\n",
       "      <td>1000.0</td>\n",
       "      <td>Orlando Bloom</td>\n",
       "      <td>40000.0</td>\n",
       "      <td>309404152.0</td>\n",
       "      <td>[Action, Adventure, Fantasy]</td>\n",
       "      <td>...</td>\n",
       "      <td>1238.0</td>\n",
       "      <td>English</td>\n",
       "      <td>USA</td>\n",
       "      <td>PG-13</td>\n",
       "      <td>300000000.0</td>\n",
       "      <td>2007.0</td>\n",
       "      <td>5000.0</td>\n",
       "      <td>7.1</td>\n",
       "      <td>2.35</td>\n",
       "      <td>0</td>\n",
       "    </tr>\n",
       "    <tr>\n",
       "      <th>2</th>\n",
       "      <td>Color</td>\n",
       "      <td>Sam Mendes</td>\n",
       "      <td>602.0</td>\n",
       "      <td>148.0</td>\n",
       "      <td>0.0</td>\n",
       "      <td>161.0</td>\n",
       "      <td>Rory Kinnear</td>\n",
       "      <td>11000.0</td>\n",
       "      <td>200074175.0</td>\n",
       "      <td>[Action, Adventure, Thriller]</td>\n",
       "      <td>...</td>\n",
       "      <td>994.0</td>\n",
       "      <td>English</td>\n",
       "      <td>UK</td>\n",
       "      <td>PG-13</td>\n",
       "      <td>245000000.0</td>\n",
       "      <td>2015.0</td>\n",
       "      <td>393.0</td>\n",
       "      <td>6.8</td>\n",
       "      <td>2.35</td>\n",
       "      <td>85000</td>\n",
       "    </tr>\n",
       "    <tr>\n",
       "      <th>3</th>\n",
       "      <td>Color</td>\n",
       "      <td>Christopher Nolan</td>\n",
       "      <td>813.0</td>\n",
       "      <td>164.0</td>\n",
       "      <td>22000.0</td>\n",
       "      <td>23000.0</td>\n",
       "      <td>Christian Bale</td>\n",
       "      <td>27000.0</td>\n",
       "      <td>448130642.0</td>\n",
       "      <td>[Action, Thriller]</td>\n",
       "      <td>...</td>\n",
       "      <td>2701.0</td>\n",
       "      <td>English</td>\n",
       "      <td>USA</td>\n",
       "      <td>PG-13</td>\n",
       "      <td>250000000.0</td>\n",
       "      <td>2012.0</td>\n",
       "      <td>23000.0</td>\n",
       "      <td>8.5</td>\n",
       "      <td>2.35</td>\n",
       "      <td>164000</td>\n",
       "    </tr>\n",
       "    <tr>\n",
       "      <th>4</th>\n",
       "      <td>NaN</td>\n",
       "      <td>Doug Walker</td>\n",
       "      <td>NaN</td>\n",
       "      <td>NaN</td>\n",
       "      <td>131.0</td>\n",
       "      <td>NaN</td>\n",
       "      <td>Rob Walker</td>\n",
       "      <td>131.0</td>\n",
       "      <td>NaN</td>\n",
       "      <td>[Documentary]</td>\n",
       "      <td>...</td>\n",
       "      <td>NaN</td>\n",
       "      <td>NaN</td>\n",
       "      <td>NaN</td>\n",
       "      <td>NaN</td>\n",
       "      <td>NaN</td>\n",
       "      <td>NaN</td>\n",
       "      <td>12.0</td>\n",
       "      <td>7.1</td>\n",
       "      <td>NaN</td>\n",
       "      <td>0</td>\n",
       "    </tr>\n",
       "  </tbody>\n",
       "</table>\n",
       "<p>5 rows × 28 columns</p>\n",
       "</div>"
      ],
      "text/plain": [
       "   color      director_name  num_critic_for_reviews  duration  \\\n",
       "0  Color      James Cameron                   723.0     178.0   \n",
       "1  Color     Gore Verbinski                   302.0     169.0   \n",
       "2  Color         Sam Mendes                   602.0     148.0   \n",
       "3  Color  Christopher Nolan                   813.0     164.0   \n",
       "4    NaN        Doug Walker                     NaN       NaN   \n",
       "\n",
       "   director_facebook_likes  actor_3_facebook_likes      actor_2_name  \\\n",
       "0                      0.0                   855.0  Joel David Moore   \n",
       "1                    563.0                  1000.0     Orlando Bloom   \n",
       "2                      0.0                   161.0      Rory Kinnear   \n",
       "3                  22000.0                 23000.0    Christian Bale   \n",
       "4                    131.0                     NaN        Rob Walker   \n",
       "\n",
       "   actor_1_facebook_likes        gross                                genres  \\\n",
       "0                  1000.0  760505847.0  [Action, Adventure, Fantasy, Sci-Fi]   \n",
       "1                 40000.0  309404152.0          [Action, Adventure, Fantasy]   \n",
       "2                 11000.0  200074175.0         [Action, Adventure, Thriller]   \n",
       "3                 27000.0  448130642.0                    [Action, Thriller]   \n",
       "4                   131.0          NaN                         [Documentary]   \n",
       "\n",
       "          ...          num_user_for_reviews language  country  content_rating  \\\n",
       "0         ...                        3054.0  English      USA           PG-13   \n",
       "1         ...                        1238.0  English      USA           PG-13   \n",
       "2         ...                         994.0  English       UK           PG-13   \n",
       "3         ...                        2701.0  English      USA           PG-13   \n",
       "4         ...                           NaN      NaN      NaN             NaN   \n",
       "\n",
       "        budget  title_year actor_2_facebook_likes imdb_score  aspect_ratio  \\\n",
       "0  237000000.0      2009.0                  936.0        7.9          1.78   \n",
       "1  300000000.0      2007.0                 5000.0        7.1          2.35   \n",
       "2  245000000.0      2015.0                  393.0        6.8          2.35   \n",
       "3  250000000.0      2012.0                23000.0        8.5          2.35   \n",
       "4          NaN         NaN                   12.0        7.1           NaN   \n",
       "\n",
       "  movie_facebook_likes  \n",
       "0                33000  \n",
       "1                    0  \n",
       "2                85000  \n",
       "3               164000  \n",
       "4                    0  \n",
       "\n",
       "[5 rows x 28 columns]"
      ]
     },
     "execution_count": 11,
     "metadata": {},
     "output_type": "execute_result"
    }
   ],
   "source": [
    "# encode genre as list and grab genres\n",
    "genres = set()\n",
    "genre_list = []\n",
    "for i in xrange(len(df[\"genres\"])):\n",
    "    movie_genres = df[\"genres\"].ix[i,].split(\"|\")\n",
    "    genre_list.append(movie_genres)\n",
    "    for genre in movie_genres:\n",
    "        genres.add(genre)\n",
    "df[\"genres\"] = genre_list\n",
    "genres = sorted(list(genres))\n",
    "\n",
    "# check correctness\n",
    "df.head()"
   ]
  },
  {
   "cell_type": "code",
   "execution_count": 12,
   "metadata": {},
   "outputs": [
    {
     "data": {
      "text/plain": [
       "['color',\n",
       " 'director_name',\n",
       " 'num_critic_for_reviews',\n",
       " 'duration',\n",
       " 'director_facebook_likes',\n",
       " 'actor_3_facebook_likes',\n",
       " 'actor_2_name',\n",
       " 'actor_1_facebook_likes',\n",
       " 'gross',\n",
       " 'genres',\n",
       " 'actor_1_name',\n",
       " 'movie_title',\n",
       " 'num_voted_users',\n",
       " 'cast_total_facebook_likes',\n",
       " 'actor_3_name',\n",
       " 'facenumber_in_poster',\n",
       " 'plot_keywords',\n",
       " 'movie_imdb_link',\n",
       " 'num_user_for_reviews',\n",
       " 'language',\n",
       " 'country',\n",
       " 'content_rating',\n",
       " 'budget',\n",
       " 'title_year',\n",
       " 'actor_2_facebook_likes',\n",
       " 'imdb_score',\n",
       " 'aspect_ratio',\n",
       " 'movie_facebook_likes']"
      ]
     },
     "execution_count": 12,
     "metadata": {},
     "output_type": "execute_result"
    }
   ],
   "source": [
    "list(df.columns)"
   ]
  },
  {
   "cell_type": "code",
   "execution_count": 13,
   "metadata": {},
   "outputs": [
    {
     "data": {
      "text/plain": [
       "['Action',\n",
       " 'Adventure',\n",
       " 'Animation',\n",
       " 'Biography',\n",
       " 'Comedy',\n",
       " 'Crime',\n",
       " 'Documentary',\n",
       " 'Drama',\n",
       " 'Family',\n",
       " 'Fantasy',\n",
       " 'Film-Noir',\n",
       " 'Game-Show',\n",
       " 'History',\n",
       " 'Horror',\n",
       " 'Music',\n",
       " 'Musical',\n",
       " 'Mystery',\n",
       " 'News',\n",
       " 'Reality-TV',\n",
       " 'Romance',\n",
       " 'Sci-Fi',\n",
       " 'Short',\n",
       " 'Sport',\n",
       " 'Thriller',\n",
       " 'War',\n",
       " 'Western']"
      ]
     },
     "execution_count": 13,
     "metadata": {},
     "output_type": "execute_result"
    }
   ],
   "source": [
    "genres"
   ]
  },
  {
   "cell_type": "markdown",
   "metadata": {},
   "source": [
    "## Looking at Countries"
   ]
  },
  {
   "cell_type": "code",
   "execution_count": 14,
   "metadata": {},
   "outputs": [
    {
     "data": {
      "text/plain": [
       "<matplotlib.axes._subplots.AxesSubplot at 0x117f22c90>"
      ]
     },
     "execution_count": 14,
     "metadata": {},
     "output_type": "execute_result"
    },
    {
     "data": {
      "image/png": "[encoded data removed]",
      "text/plain": [
       "<matplotlib.figure.Figure at 0x118179390>"
      ]
     },
     "metadata": {},
     "output_type": "display_data"
    }
   ],
   "source": [
    "# grab country names\n",
    "countries = df[\"country\"].unique()\n",
    "# remove NaN\n",
    "countries = np.delete(countries, 2)\n",
    "\n",
    "country_count = df.groupby('country').count()[\"movie_title\"].sort_values(ascending=False)\n",
    "country_count_top = country_count[0:10]\n",
    "country_count_top = country_count_top.append(pd.Series(country_count.sum() - country_count_top.sum(), index=[\"Other\"]))\n",
    "country_count_top.plot(kind='bar',\n",
    "                      title = \"Number of Movies by Country\",\n",
    "                      figsize=(15,10))\n",
    "\n",
    "\n"
   ]
  },
  {
   "cell_type": "markdown",
   "metadata": {},
   "source": [
    "### Movie count by country\n",
    "\n",
    "Here we see that the vast majority of films come from the USA. "
   ]
  },
  {
   "cell_type": "code",
   "execution_count": 15,
   "metadata": {},
   "outputs": [
    {
     "data": {
      "text/html": [
       "<div>\n",
       "<table border=\"1\" class=\"dataframe\">\n",
       "  <thead>\n",
       "    <tr style=\"text-align: right;\">\n",
       "      <th></th>\n",
       "      <th>USA</th>\n",
       "      <th>UK</th>\n",
       "      <th>France</th>\n",
       "      <th>Canada</th>\n",
       "      <th>Germany</th>\n",
       "      <th>Australia</th>\n",
       "      <th>India</th>\n",
       "      <th>Spain</th>\n",
       "      <th>China</th>\n",
       "      <th>Italy</th>\n",
       "      <th>Japan</th>\n",
       "    </tr>\n",
       "    <tr>\n",
       "      <th>Genre</th>\n",
       "      <th></th>\n",
       "      <th></th>\n",
       "      <th></th>\n",
       "      <th></th>\n",
       "      <th></th>\n",
       "      <th></th>\n",
       "      <th></th>\n",
       "      <th></th>\n",
       "      <th></th>\n",
       "      <th></th>\n",
       "      <th></th>\n",
       "    </tr>\n",
       "  </thead>\n",
       "  <tbody>\n",
       "    <tr>\n",
       "      <th>Action</th>\n",
       "      <td>861</td>\n",
       "      <td>91</td>\n",
       "      <td>31</td>\n",
       "      <td>26</td>\n",
       "      <td>26</td>\n",
       "      <td>16</td>\n",
       "      <td>7</td>\n",
       "      <td>2</td>\n",
       "      <td>18</td>\n",
       "      <td>2</td>\n",
       "      <td>12</td>\n",
       "    </tr>\n",
       "    <tr>\n",
       "      <th>Adventure</th>\n",
       "      <td>685</td>\n",
       "      <td>98</td>\n",
       "      <td>20</td>\n",
       "      <td>13</td>\n",
       "      <td>16</td>\n",
       "      <td>16</td>\n",
       "      <td>3</td>\n",
       "      <td>5</td>\n",
       "      <td>12</td>\n",
       "      <td>2</td>\n",
       "      <td>14</td>\n",
       "    </tr>\n",
       "    <tr>\n",
       "      <th>Animation</th>\n",
       "      <td>182</td>\n",
       "      <td>12</td>\n",
       "      <td>12</td>\n",
       "      <td>3</td>\n",
       "      <td>4</td>\n",
       "      <td>2</td>\n",
       "      <td>1</td>\n",
       "      <td>2</td>\n",
       "      <td>2</td>\n",
       "      <td>0</td>\n",
       "      <td>10</td>\n",
       "    </tr>\n",
       "    <tr>\n",
       "      <th>Biography</th>\n",
       "      <td>179</td>\n",
       "      <td>57</td>\n",
       "      <td>13</td>\n",
       "      <td>6</td>\n",
       "      <td>9</td>\n",
       "      <td>5</td>\n",
       "      <td>3</td>\n",
       "      <td>2</td>\n",
       "      <td>1</td>\n",
       "      <td>1</td>\n",
       "      <td>0</td>\n",
       "    </tr>\n",
       "    <tr>\n",
       "      <th>Comedy</th>\n",
       "      <td>1529</td>\n",
       "      <td>128</td>\n",
       "      <td>41</td>\n",
       "      <td>41</td>\n",
       "      <td>32</td>\n",
       "      <td>16</td>\n",
       "      <td>14</td>\n",
       "      <td>4</td>\n",
       "      <td>6</td>\n",
       "      <td>6</td>\n",
       "      <td>4</td>\n",
       "    </tr>\n",
       "    <tr>\n",
       "      <th>Crime</th>\n",
       "      <td>672</td>\n",
       "      <td>77</td>\n",
       "      <td>39</td>\n",
       "      <td>18</td>\n",
       "      <td>29</td>\n",
       "      <td>4</td>\n",
       "      <td>1</td>\n",
       "      <td>4</td>\n",
       "      <td>2</td>\n",
       "      <td>7</td>\n",
       "      <td>1</td>\n",
       "    </tr>\n",
       "    <tr>\n",
       "      <th>Documentary</th>\n",
       "      <td>90</td>\n",
       "      <td>11</td>\n",
       "      <td>4</td>\n",
       "      <td>2</td>\n",
       "      <td>2</td>\n",
       "      <td>1</td>\n",
       "      <td>2</td>\n",
       "      <td>0</td>\n",
       "      <td>0</td>\n",
       "      <td>0</td>\n",
       "      <td>0</td>\n",
       "    </tr>\n",
       "    <tr>\n",
       "      <th>Drama</th>\n",
       "      <td>1852</td>\n",
       "      <td>265</td>\n",
       "      <td>98</td>\n",
       "      <td>65</td>\n",
       "      <td>54</td>\n",
       "      <td>28</td>\n",
       "      <td>23</td>\n",
       "      <td>24</td>\n",
       "      <td>18</td>\n",
       "      <td>15</td>\n",
       "      <td>8</td>\n",
       "    </tr>\n",
       "    <tr>\n",
       "      <th>Family</th>\n",
       "      <td>436</td>\n",
       "      <td>38</td>\n",
       "      <td>12</td>\n",
       "      <td>11</td>\n",
       "      <td>12</td>\n",
       "      <td>8</td>\n",
       "      <td>1</td>\n",
       "      <td>2</td>\n",
       "      <td>2</td>\n",
       "      <td>0</td>\n",
       "      <td>7</td>\n",
       "    </tr>\n",
       "    <tr>\n",
       "      <th>Fantasy</th>\n",
       "      <td>487</td>\n",
       "      <td>46</td>\n",
       "      <td>14</td>\n",
       "      <td>14</td>\n",
       "      <td>11</td>\n",
       "      <td>5</td>\n",
       "      <td>1</td>\n",
       "      <td>2</td>\n",
       "      <td>3</td>\n",
       "      <td>0</td>\n",
       "      <td>6</td>\n",
       "    </tr>\n",
       "    <tr>\n",
       "      <th>Film-Noir</th>\n",
       "      <td>6</td>\n",
       "      <td>0</td>\n",
       "      <td>0</td>\n",
       "      <td>0</td>\n",
       "      <td>0</td>\n",
       "      <td>0</td>\n",
       "      <td>0</td>\n",
       "      <td>0</td>\n",
       "      <td>0</td>\n",
       "      <td>0</td>\n",
       "      <td>0</td>\n",
       "    </tr>\n",
       "    <tr>\n",
       "      <th>Game-Show</th>\n",
       "      <td>1</td>\n",
       "      <td>0</td>\n",
       "      <td>0</td>\n",
       "      <td>0</td>\n",
       "      <td>0</td>\n",
       "      <td>0</td>\n",
       "      <td>0</td>\n",
       "      <td>0</td>\n",
       "      <td>0</td>\n",
       "      <td>0</td>\n",
       "      <td>0</td>\n",
       "    </tr>\n",
       "    <tr>\n",
       "      <th>History</th>\n",
       "      <td>109</td>\n",
       "      <td>39</td>\n",
       "      <td>9</td>\n",
       "      <td>4</td>\n",
       "      <td>3</td>\n",
       "      <td>2</td>\n",
       "      <td>4</td>\n",
       "      <td>3</td>\n",
       "      <td>11</td>\n",
       "      <td>2</td>\n",
       "      <td>1</td>\n",
       "    </tr>\n",
       "    <tr>\n",
       "      <th>Horror</th>\n",
       "      <td>438</td>\n",
       "      <td>40</td>\n",
       "      <td>13</td>\n",
       "      <td>29</td>\n",
       "      <td>10</td>\n",
       "      <td>10</td>\n",
       "      <td>0</td>\n",
       "      <td>5</td>\n",
       "      <td>0</td>\n",
       "      <td>3</td>\n",
       "      <td>4</td>\n",
       "    </tr>\n",
       "    <tr>\n",
       "      <th>Music</th>\n",
       "      <td>173</td>\n",
       "      <td>22</td>\n",
       "      <td>7</td>\n",
       "      <td>3</td>\n",
       "      <td>2</td>\n",
       "      <td>2</td>\n",
       "      <td>0</td>\n",
       "      <td>0</td>\n",
       "      <td>0</td>\n",
       "      <td>0</td>\n",
       "      <td>0</td>\n",
       "    </tr>\n",
       "    <tr>\n",
       "      <th>Musical</th>\n",
       "      <td>110</td>\n",
       "      <td>9</td>\n",
       "      <td>3</td>\n",
       "      <td>2</td>\n",
       "      <td>0</td>\n",
       "      <td>2</td>\n",
       "      <td>4</td>\n",
       "      <td>1</td>\n",
       "      <td>0</td>\n",
       "      <td>0</td>\n",
       "      <td>0</td>\n",
       "    </tr>\n",
       "    <tr>\n",
       "      <th>Mystery</th>\n",
       "      <td>371</td>\n",
       "      <td>50</td>\n",
       "      <td>15</td>\n",
       "      <td>18</td>\n",
       "      <td>11</td>\n",
       "      <td>7</td>\n",
       "      <td>0</td>\n",
       "      <td>9</td>\n",
       "      <td>0</td>\n",
       "      <td>2</td>\n",
       "      <td>2</td>\n",
       "    </tr>\n",
       "    <tr>\n",
       "      <th>News</th>\n",
       "      <td>2</td>\n",
       "      <td>0</td>\n",
       "      <td>0</td>\n",
       "      <td>0</td>\n",
       "      <td>0</td>\n",
       "      <td>0</td>\n",
       "      <td>0</td>\n",
       "      <td>0</td>\n",
       "      <td>0</td>\n",
       "      <td>0</td>\n",
       "      <td>0</td>\n",
       "    </tr>\n",
       "    <tr>\n",
       "      <th>Reality-TV</th>\n",
       "      <td>1</td>\n",
       "      <td>0</td>\n",
       "      <td>0</td>\n",
       "      <td>0</td>\n",
       "      <td>0</td>\n",
       "      <td>0</td>\n",
       "      <td>0</td>\n",
       "      <td>0</td>\n",
       "      <td>0</td>\n",
       "      <td>0</td>\n",
       "      <td>0</td>\n",
       "    </tr>\n",
       "    <tr>\n",
       "      <th>Romance</th>\n",
       "      <td>839</td>\n",
       "      <td>108</td>\n",
       "      <td>33</td>\n",
       "      <td>17</td>\n",
       "      <td>24</td>\n",
       "      <td>13</td>\n",
       "      <td>18</td>\n",
       "      <td>8</td>\n",
       "      <td>5</td>\n",
       "      <td>6</td>\n",
       "      <td>1</td>\n",
       "    </tr>\n",
       "    <tr>\n",
       "      <th>Sci-Fi</th>\n",
       "      <td>480</td>\n",
       "      <td>46</td>\n",
       "      <td>13</td>\n",
       "      <td>22</td>\n",
       "      <td>11</td>\n",
       "      <td>13</td>\n",
       "      <td>1</td>\n",
       "      <td>2</td>\n",
       "      <td>0</td>\n",
       "      <td>0</td>\n",
       "      <td>8</td>\n",
       "    </tr>\n",
       "    <tr>\n",
       "      <th>Short</th>\n",
       "      <td>4</td>\n",
       "      <td>1</td>\n",
       "      <td>0</td>\n",
       "      <td>0</td>\n",
       "      <td>0</td>\n",
       "      <td>0</td>\n",
       "      <td>0</td>\n",
       "      <td>0</td>\n",
       "      <td>0</td>\n",
       "      <td>0</td>\n",
       "      <td>0</td>\n",
       "    </tr>\n",
       "    <tr>\n",
       "      <th>Sport</th>\n",
       "      <td>151</td>\n",
       "      <td>14</td>\n",
       "      <td>1</td>\n",
       "      <td>7</td>\n",
       "      <td>4</td>\n",
       "      <td>1</td>\n",
       "      <td>0</td>\n",
       "      <td>1</td>\n",
       "      <td>0</td>\n",
       "      <td>0</td>\n",
       "      <td>0</td>\n",
       "    </tr>\n",
       "    <tr>\n",
       "      <th>Thriller</th>\n",
       "      <td>1050</td>\n",
       "      <td>137</td>\n",
       "      <td>56</td>\n",
       "      <td>39</td>\n",
       "      <td>33</td>\n",
       "      <td>16</td>\n",
       "      <td>7</td>\n",
       "      <td>13</td>\n",
       "      <td>2</td>\n",
       "      <td>3</td>\n",
       "      <td>5</td>\n",
       "    </tr>\n",
       "    <tr>\n",
       "      <th>War</th>\n",
       "      <td>114</td>\n",
       "      <td>33</td>\n",
       "      <td>15</td>\n",
       "      <td>3</td>\n",
       "      <td>6</td>\n",
       "      <td>6</td>\n",
       "      <td>3</td>\n",
       "      <td>4</td>\n",
       "      <td>5</td>\n",
       "      <td>2</td>\n",
       "      <td>1</td>\n",
       "    </tr>\n",
       "    <tr>\n",
       "      <th>Western</th>\n",
       "      <td>73</td>\n",
       "      <td>4</td>\n",
       "      <td>3</td>\n",
       "      <td>4</td>\n",
       "      <td>0</td>\n",
       "      <td>3</td>\n",
       "      <td>0</td>\n",
       "      <td>2</td>\n",
       "      <td>0</td>\n",
       "      <td>3</td>\n",
       "      <td>1</td>\n",
       "    </tr>\n",
       "  </tbody>\n",
       "</table>\n",
       "</div>"
      ],
      "text/plain": [
       "              USA   UK  France  Canada  Germany  Australia  India  Spain  \\\n",
       "Genre                                                                      \n",
       "Action        861   91      31      26       26         16      7      2   \n",
       "Adventure     685   98      20      13       16         16      3      5   \n",
       "Animation     182   12      12       3        4          2      1      2   \n",
       "Biography     179   57      13       6        9          5      3      2   \n",
       "Comedy       1529  128      41      41       32         16     14      4   \n",
       "Crime         672   77      39      18       29          4      1      4   \n",
       "Documentary    90   11       4       2        2          1      2      0   \n",
       "Drama        1852  265      98      65       54         28     23     24   \n",
       "Family        436   38      12      11       12          8      1      2   \n",
       "Fantasy       487   46      14      14       11          5      1      2   \n",
       "Film-Noir       6    0       0       0        0          0      0      0   \n",
       "Game-Show       1    0       0       0        0          0      0      0   \n",
       "History       109   39       9       4        3          2      4      3   \n",
       "Horror        438   40      13      29       10         10      0      5   \n",
       "Music         173   22       7       3        2          2      0      0   \n",
       "Musical       110    9       3       2        0          2      4      1   \n",
       "Mystery       371   50      15      18       11          7      0      9   \n",
       "News            2    0       0       0        0          0      0      0   \n",
       "Reality-TV      1    0       0       0        0          0      0      0   \n",
       "Romance       839  108      33      17       24         13     18      8   \n",
       "Sci-Fi        480   46      13      22       11         13      1      2   \n",
       "Short           4    1       0       0        0          0      0      0   \n",
       "Sport         151   14       1       7        4          1      0      1   \n",
       "Thriller     1050  137      56      39       33         16      7     13   \n",
       "War           114   33      15       3        6          6      3      4   \n",
       "Western        73    4       3       4        0          3      0      2   \n",
       "\n",
       "             China  Italy  Japan  \n",
       "Genre                             \n",
       "Action          18      2     12  \n",
       "Adventure       12      2     14  \n",
       "Animation        2      0     10  \n",
       "Biography        1      1      0  \n",
       "Comedy           6      6      4  \n",
       "Crime            2      7      1  \n",
       "Documentary      0      0      0  \n",
       "Drama           18     15      8  \n",
       "Family           2      0      7  \n",
       "Fantasy          3      0      6  \n",
       "Film-Noir        0      0      0  \n",
       "Game-Show        0      0      0  \n",
       "History         11      2      1  \n",
       "Horror           0      3      4  \n",
       "Music            0      0      0  \n",
       "Musical          0      0      0  \n",
       "Mystery          0      2      2  \n",
       "News             0      0      0  \n",
       "Reality-TV       0      0      0  \n",
       "Romance          5      6      1  \n",
       "Sci-Fi           0      0      8  \n",
       "Short            0      0      0  \n",
       "Sport            0      0      0  \n",
       "Thriller         2      3      5  \n",
       "War              5      2      1  \n",
       "Western          0      3      1  "
      ]
     },
     "execution_count": 15,
     "metadata": {},
     "output_type": "execute_result"
    }
   ],
   "source": [
    "df_genre_country = pd.DataFrame()\n",
    "top = list(country_count[0:11].index)\n",
    "for country in top:\n",
    "    country_movies = df[df[\"country\"] == country]\n",
    "    genre_count = [0] * len(genres)\n",
    "    for _, movie in country_movies.iterrows():\n",
    "        genre_for_movie = movie[\"genres\"]\n",
    "        for genre in genre_for_movie:\n",
    "            genre_count[genres.index(genre)] += 1\n",
    "    df_genre_country[country] = genre_count\n",
    "    \n",
    "df_genre_country[\"Genre\"] = genres\n",
    "df_genre_country.set_index(\"Genre\", inplace = True)\n",
    "df_genre_country"
   ]
  },
  {
   "cell_type": "code",
   "execution_count": 16,
   "metadata": {
    "collapsed": true
   },
   "outputs": [],
   "source": [
    "def proportionize(series):\n",
    "    answer = []\n",
    "    for item in series:\n",
    "        answer.append(float(item) / float(series.sum()))\n",
    "    return pd.Series(answer)\n",
    "\n",
    "df_genre_country_prop = df_genre_country.apply(proportionize)\n",
    "df_genre_country_prop[\"Genre\"] = genres"
   ]
  },
  {
   "cell_type": "code",
   "execution_count": 17,
   "metadata": {},
   "outputs": [
    {
     "data": {
      "text/html": [
       "<div>\n",
       "<table border=\"1\" class=\"dataframe\">\n",
       "  <thead>\n",
       "    <tr style=\"text-align: right;\">\n",
       "      <th></th>\n",
       "      <th>Genre</th>\n",
       "      <th>variable</th>\n",
       "      <th>value</th>\n",
       "    </tr>\n",
       "  </thead>\n",
       "  <tbody>\n",
       "    <tr>\n",
       "      <th>0</th>\n",
       "      <td>Action</td>\n",
       "      <td>USA</td>\n",
       "      <td>0.079027</td>\n",
       "    </tr>\n",
       "    <tr>\n",
       "      <th>1</th>\n",
       "      <td>Adventure</td>\n",
       "      <td>USA</td>\n",
       "      <td>0.062873</td>\n",
       "    </tr>\n",
       "    <tr>\n",
       "      <th>2</th>\n",
       "      <td>Animation</td>\n",
       "      <td>USA</td>\n",
       "      <td>0.016705</td>\n",
       "    </tr>\n",
       "    <tr>\n",
       "      <th>3</th>\n",
       "      <td>Biography</td>\n",
       "      <td>USA</td>\n",
       "      <td>0.016430</td>\n",
       "    </tr>\n",
       "    <tr>\n",
       "      <th>4</th>\n",
       "      <td>Comedy</td>\n",
       "      <td>USA</td>\n",
       "      <td>0.140340</td>\n",
       "    </tr>\n",
       "  </tbody>\n",
       "</table>\n",
       "</div>"
      ],
      "text/plain": [
       "       Genre variable     value\n",
       "0     Action      USA  0.079027\n",
       "1  Adventure      USA  0.062873\n",
       "2  Animation      USA  0.016705\n",
       "3  Biography      USA  0.016430\n",
       "4     Comedy      USA  0.140340"
      ]
     },
     "execution_count": 17,
     "metadata": {},
     "output_type": "execute_result"
    }
   ],
   "source": [
    "df_genre_country_prop = pd.melt(df_genre_country_prop, id_vars=['Genre'], value_vars=top)\n",
    "df_genre_country_prop.to_csv(\"data/genre_country_prop.csv\")\n",
    "df_genre_country_prop.head()"
   ]
  },
  {
   "cell_type": "markdown",
   "metadata": {},
   "source": [
    "![StackedBar](images/stacked_bar_proportion.png)\n",
    "\n",
    "### Genre Proportion of Movies, Top 10 Countries\n",
    "Here, we see the proportion that each genre takes up in the movies produced by the top 10 countries. Several interesting patterns emerge. The top six countries---USA, UK, France, Canada, Germany, and Australia---have about the same proportions of genres. Countries seven through ten begin to diverge slightly. India appears to have a higher proportion Romance and Comedy movies, Spain focuses on Mystery, China likes Action, Adventure, and History films, and Italians enjoy movies about Crime. Japan is the most different of them all, with a lower proportion of Drama, but relatively higher Animation, Fantasy, Family, Adventure, and Sci-Fi. Here, we get a glimpse at the taste of movie genres by country.\n",
    "\n",
    "Note: This was computed in Tableau."
   ]
  },
  {
   "cell_type": "markdown",
   "metadata": {},
   "source": [
    "## Genre and Quality"
   ]
  },
  {
   "cell_type": "code",
   "execution_count": 18,
   "metadata": {},
   "outputs": [
    {
     "data": {
      "text/plain": [
       "<matplotlib.text.Text at 0x118ba0890>"
      ]
     },
     "execution_count": 18,
     "metadata": {},
     "output_type": "execute_result"
    },
    {
     "data": {
      "image/png": "[encoded data removed]",
      "text/plain": [
       "<matplotlib.figure.Figure at 0x118b19990>"
      ]
     },
     "metadata": {},
     "output_type": "display_data"
    }
   ],
   "source": [
    "df[\"imdb_score\"].hist(figsize=(10,10))\n",
    "plt.title('IMDB score frequency')\n",
    "plt.xlabel('Score')\n",
    "plt.ylabel('Frequency')"
   ]
  },
  {
   "cell_type": "markdown",
   "metadata": {},
   "source": [
    "### Distribution of IMDB Scores\n",
    "Here, we see that the distribution of IMDB scores are left skewed, with a central point around 7."
   ]
  },
  {
   "cell_type": "code",
   "execution_count": 19,
   "metadata": {},
   "outputs": [
    {
     "data": {
      "text/plain": [
       "<matplotlib.axes._subplots.AxesSubplot at 0x1190dc650>"
      ]
     },
     "execution_count": 19,
     "metadata": {},
     "output_type": "execute_result"
    },
    {
     "data": {
      "image/png": "[encoded data removed]",
      "text/plain": [
       "<matplotlib.figure.Figure at 0x11816c350>"
      ]
     },
     "metadata": {},
     "output_type": "display_data"
    }
   ],
   "source": [
    "genre_count = [0] * len(genres)\n",
    "imdb_score_sum = [0] * len(genres)\n",
    "\n",
    "for _,movie in df.iterrows():\n",
    "    genre_for_movie = movie[\"genres\"]\n",
    "    for genre in genre_for_movie:\n",
    "        genre_count[genres.index(genre)] += 1\n",
    "        imdb_score_sum[genres.index(genre)] += movie[\"imdb_score\"]\n",
    "        \n",
    "avg_imdb_score = [float(sum) / float(count) for (count, sum) in zip(genre_count, imdb_score_sum)]\n",
    "pd.Series(avg_imdb_score, index=genres).plot(kind='bar',\n",
    "                                             title = \"Average IMDB Score by Genre\",\n",
    "                                             figsize=(15,10))"
   ]
  },
  {
   "cell_type": "markdown",
   "metadata": {},
   "source": [
    "### Average IMDB Score by Genre\n",
    "Here, we see that IMDB likes Film-Noir, News, Documentaries, and Biographies the most, while it typically dislikes Game-Shows and Reality-TV Shows. "
   ]
  },
  {
   "cell_type": "code",
   "execution_count": 20,
   "metadata": {},
   "outputs": [
    {
     "data": {
      "text/plain": [
       "<matplotlib.text.Text at 0x11923c450>"
      ]
     },
     "execution_count": 20,
     "metadata": {},
     "output_type": "execute_result"
    },
    {
     "data": {
      "image/png": "[encoded data removed]",
      "text/plain": [
       "<matplotlib.figure.Figure at 0x118becad0>"
      ]
     },
     "metadata": {},
     "output_type": "display_data"
    }
   ],
   "source": [
    "df[\"movie_facebook_likes\"].hist(figsize=(10,10))\n",
    "plt.title('Distribution of Facebook Likes on Movie Page')\n",
    "plt.xlabel('Number of Facebook Likes')\n",
    "plt.ylabel('Frequency')"
   ]
  },
  {
   "cell_type": "markdown",
   "metadata": {},
   "source": [
    "### Distribution of Facebook Likes on Movie Pages\n",
    "Here, we see that the distribution is highly right skewed; there are a small handful of super-popular movies, while the rest are moderately liked."
   ]
  },
  {
   "cell_type": "code",
   "execution_count": 21,
   "metadata": {},
   "outputs": [
    {
     "data": {
      "text/plain": [
       "<matplotlib.axes._subplots.AxesSubplot at 0x11923c950>"
      ]
     },
     "execution_count": 21,
     "metadata": {},
     "output_type": "execute_result"
    },
    {
     "data": {
      "image/png": "[encoded data removed]",
      "text/plain": [
       "<matplotlib.figure.Figure at 0x118179f50>"
      ]
     },
     "metadata": {},
     "output_type": "display_data"
    }
   ],
   "source": [
    "facebook_like_sum = [0] * len(genres)\n",
    "\n",
    "for _,movie in df.iterrows():\n",
    "    genre_for_movie = movie[\"genres\"]\n",
    "    for genre in genre_for_movie:\n",
    "        imdb_score_sum[genres.index(genre)] += movie[\"movie_facebook_likes\"]\n",
    "        \n",
    "avg_facebook_like = [float(sum) / float(count) for (count, sum) in zip(genre_count, imdb_score_sum)]\n",
    "pd.Series(avg_facebook_like, index=genres).plot(kind='bar',\n",
    "                                             title = \"Average Facebook Likes on Movie Page by Genre\",\n",
    "                                             figsize=(15,10))"
   ]
  },
  {
   "cell_type": "markdown",
   "metadata": {},
   "source": [
    "### Facebook Likes on Movie Page by Genre\n",
    "Here, we see that Facebook users like Sci-Fi and Adventure movies the most, while there are almost no likes for Short films, Reality-TV, Game Shows, and Film-Noir.  \n",
    "\n",
    "It appears that the tastes of the masses differ from the tastes of critics on IMDB, although they seem to both dislike Game-Shows."
   ]
  },
  {
   "cell_type": "markdown",
   "metadata": {},
   "source": [
    "## Looking at Directors"
   ]
  },
  {
   "cell_type": "code",
   "execution_count": 22,
   "metadata": {
    "collapsed": true
   },
   "outputs": [],
   "source": [
    "#call: function with a directors name, e.g. \"plot_director(\"James Cameron)\"\n",
    "#return: a plot with the number of films they've made that qualify as a certain genre\n",
    "def plot_director(name):\n",
    "    curr_df = df[df[\"director_name\"] == name]\n",
    "    genres = curr_df[\"genres\"]\n",
    "    genres_new = [item for sublist in list(genres) for item in sublist]\n",
    "    dictionary = plt.figure(figsize=(12, 8))\n",
    "    d = Counter(genres_new)\n",
    "    plt.bar(range(len(d)), d.values(), align = \"center\")\n",
    "    plt.xticks(range(len(d)), d.keys())\n",
    "    plt.tick_params(axis=\"x\", width = 20.0)\n",
    "    plt.xlabel(\"Genres\")\n",
    "    plt.ylabel(\"Counts\")\n",
    "    plt.title(\"Genre mentions of movies made by director \" + name)\n",
    "    plt.show()"
   ]
  },
  {
   "cell_type": "code",
   "execution_count": 23,
   "metadata": {},
   "outputs": [
    {
     "data": {
      "text/plain": [
       "[('Steven Spielberg', 26),\n",
       " ('Woody Allen', 22),\n",
       " ('Clint Eastwood', 20),\n",
       " ('Martin Scorsese', 20),\n",
       " ('Ridley Scott', 17),\n",
       " ('Steven Soderbergh', 16),\n",
       " ('Spike Lee', 16),\n",
       " ('Tim Burton', 16),\n",
       " ('Renny Harlin', 15),\n",
       " ('Oliver Stone', 14)]"
      ]
     },
     "execution_count": 23,
     "metadata": {},
     "output_type": "execute_result"
    }
   ],
   "source": [
    "#return the top 10 directors that show up the most in this dataset\n",
    "import operator\n",
    "sorted(Counter(df[\"director_name\"]).items(), key = operator.itemgetter(1))[::-1][1:11]"
   ]
  },
  {
   "cell_type": "code",
   "execution_count": 24,
   "metadata": {},
   "outputs": [
    {
     "data": {
      "image/png": "[encoded data removed]",
      "text/plain": [
       "<matplotlib.figure.Figure at 0x119582890>"
      ]
     },
     "metadata": {},
     "output_type": "display_data"
    },
    {
     "data": {
      "image/png": "[encoded data removed]",
      "text/plain": [
       "<matplotlib.figure.Figure at 0x119a03d50>"
      ]
     },
     "metadata": {},
     "output_type": "display_data"
    },
    {
     "data": {
      "image/png": "[encoded data removed]",
      "text/plain": [
       "<matplotlib.figure.Figure at 0x119e5cf50>"
      ]
     },
     "metadata": {},
     "output_type": "display_data"
    },
    {
     "data": {
      "image/png": "[encoded data removed]",
      "text/plain": [
       "<matplotlib.figure.Figure at 0x11a0f1ed0>"
      ]
     },
     "metadata": {},
     "output_type": "display_data"
    },
    {
     "data": {
      "image/png": "[encoded data removed]",
      "text/plain": [
       "<matplotlib.figure.Figure at 0x11a39ad10>"
      ]
     },
     "metadata": {},
     "output_type": "display_data"
    },
    {
     "data": {
      "image/png": "[encoded data removed]",
      "text/plain": [
       "<matplotlib.figure.Figure at 0x11a3c2810>"
      ]
     },
     "metadata": {},
     "output_type": "display_data"
    },
    {
     "data": {
      "image/png": "[encoded data removed]",
      "text/plain": [
       "<matplotlib.figure.Figure at 0x11a3dc710>"
      ]
     },
     "metadata": {},
     "output_type": "display_data"
    },
    {
     "data": {
      "image/png": "[encoded data removed]",
      "text/plain": [
       "<matplotlib.figure.Figure at 0x11a3af9d0>"
      ]
     },
     "metadata": {},
     "output_type": "display_data"
    },
    {
     "data": {
      "image/png": "[encoded data removed]",
      "text/plain": [
       "<matplotlib.figure.Figure at 0x119968110>"
      ]
     },
     "metadata": {},
     "output_type": "display_data"
    },
    {
     "data": {
      "image/png": "[encoded data removed]",
      "text/plain": [
       "<matplotlib.figure.Figure at 0x119e64e10>"
      ]
     },
     "metadata": {},
     "output_type": "display_data"
    }
   ],
   "source": [
    "top = [\"Steven Spielberg\", \"Woody Allen\", \"Clint Eastwood\", \"Martin Scorsese\", \"Ridley Scott\", \"Steven Soderbergh\", \"Spike Lee\", \"Tim Burton\", \"Renny Harlin\", \"Oliver Stone\"]\n",
    "for d in top:\n",
    "    plot_director(d)"
   ]
  },
  {
   "cell_type": "markdown",
   "metadata": {},
   "source": [
    "## Conclusions:\n",
    "We see here that there are very obviously some genres that specific directors have frequently dabbled in. For example, Woody Allen most frequently directs movies that fall under comedy and/or romance genres, while Clint Eastwood has directed numerous more movies in that are dramas than any other category. Renny Harlin, meanwhile, directs many action and thriller movies. "
   ]
  },
  {
   "cell_type": "markdown",
   "metadata": {},
   "source": [
    "It may be easy to look at that, but we also must contextualize this information using the knowledge we know about the genres overall. If most directors happen to direct a certain specific genre, then it might look like a calling card to help us identify the genre if we find out the director. But what if it turns out that the entire industry just so happens to really like directing that genre? Then the information's value is likely not as important."
   ]
  },
  {
   "cell_type": "code",
   "execution_count": 25,
   "metadata": {},
   "outputs": [
    {
     "data": {
      "text/plain": [
       "[('Drama', 2594),\n",
       " ('Comedy', 1872),\n",
       " ('Thriller', 1411),\n",
       " ('Action', 1153),\n",
       " ('Romance', 1107),\n",
       " ('Adventure', 923),\n",
       " ('Crime', 889),\n",
       " ('Sci-Fi', 616),\n",
       " ('Fantasy', 610),\n",
       " ('Horror', 565),\n",
       " ('Family', 546),\n",
       " ('Mystery', 500),\n",
       " ('Biography', 293),\n",
       " ('Animation', 242),\n",
       " ('Music', 214),\n",
       " ('War', 213),\n",
       " ('History', 207),\n",
       " ('Sport', 182),\n",
       " ('Musical', 132),\n",
       " ('Documentary', 121),\n",
       " ('Western', 97),\n",
       " ('Film-Noir', 6),\n",
       " ('Short', 5),\n",
       " ('News', 3),\n",
       " ('Reality-TV', 2),\n",
       " ('Game-Show', 1)]"
      ]
     },
     "execution_count": 25,
     "metadata": {},
     "output_type": "execute_result"
    }
   ],
   "source": [
    "# curr_df = df[df[\"director_name\"] == name]\n",
    "genres = df[\"genres\"]\n",
    "genres_new = [item for sublist in list(genres) for item in sublist]\n",
    "sorted(Counter(genres_new).items(), key = operator.itemgetter(1))[::-1]"
   ]
  },
  {
   "cell_type": "code",
   "execution_count": 26,
   "metadata": {},
   "outputs": [
    {
     "data": {
      "image/png": "[encoded data removed]",
      "text/plain": [
       "<matplotlib.figure.Figure at 0x119e38550>"
      ]
     },
     "metadata": {},
     "output_type": "display_data"
    }
   ],
   "source": [
    "dictionary = plt.figure(figsize=(20, 10))\n",
    "# d = sorted(Counter(genres_new).items(), key = operator.itemgetter(1))[::-1]\n",
    "d = Counter(genres_new)\n",
    "plt.bar(range(len(d)), d.values(), align = \"center\")\n",
    "plt.xticks(range(len(d)), d.keys(), rotation='vertical')\n",
    "plt.tick_params(axis=\"x\", width = 20.0)\n",
    "plt.xlabel(\"Genres\")\n",
    "plt.ylabel(\"Counts\")\n",
    "plt.title(\"Genre mentions of movies overall\")\n",
    "plt.show()\n",
    "#d"
   ]
  },
  {
   "cell_type": "markdown",
   "metadata": {},
   "source": [
    "As we discussed above, this is somewhat true in that the most common films are dramas, while comedy comes in second. However, when dramas/comedies are clearly the most common type of film a director has worked on, it can still be very useful information. Additionally, if a director directs a lot of movies in other categories, then those can also be potentially useful factors for us to consider."
   ]
  },
  {
   "cell_type": "markdown",
   "metadata": {},
   "source": [
    "## A list of questions you could answer with this and related data\n",
    "\n",
    "* Question\n",
    "* Question"
   ]
  }
 ],
 "metadata": {
  "anaconda-cloud": {},
  "kernelspec": {
   "display_name": "Python 2",
   "language": "python",
   "name": "python2"
  },
  "language_info": {
   "codemirror_mode": {
    "name": "ipython",
    "version": 2
   },
   "file_extension": ".py",
   "mimetype": "text/x-python",
   "name": "python",
   "nbconvert_exporter": "python",
   "pygments_lexer": "ipython2",
   "version": "2.7.13"
  }
 },
 "nbformat": 4,
 "nbformat_minor": 1
}
