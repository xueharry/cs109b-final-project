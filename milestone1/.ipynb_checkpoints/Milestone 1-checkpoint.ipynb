{
 "cells": [
  {
   "cell_type": "markdown",
   "metadata": {},
   "source": [
    "# CS109b Final Project: Milestone 1\n",
    "---\n",
    "Group 6: Chris Chen, Phillip Huang, Harry Xue, Ted Zhu"
   ]
  },
  {
   "cell_type": "code",
   "execution_count": 20,
   "metadata": {
    "collapsed": true
   },
   "outputs": [],
   "source": [
    "# import modules\n",
    "import requests\n",
    "import shutil\n",
    "from IPython.display import Image\n",
    "from IPython.core.display import HTML \n",
    "from sklearn.feature_extraction.text import CountVectorizer\n",
    "import numpy as np \n",
    "from pandas import DataFrame\n",
    "import seaborn as sns\n",
    "import matplotlib.pyplot as plt\n",
    "%matplotlib inline\n",
    "\n",
    "# allow multiple outs per cell in Jupyter Notebook\n",
    "from IPython.core.interactiveshell import InteractiveShell\n",
    "InteractiveShell.ast_node_interactivity = \"all\""
   ]
  },
  {
   "cell_type": "markdown",
   "metadata": {},
   "source": [
    "## API code to access the genre and movie poster path of your favorite movie\n",
    "One of my favorite movies is `The Departed`. Let's access the information for it via the TMDB API.\n",
    "\n",
    "Following the instructions at https://developers.themoviedb.org/3/getting-started, this is pretty straightforward."
   ]
  },
  {
   "cell_type": "markdown",
   "metadata": {},
   "source": [
    "### Accessing the genre of The Departed"
   ]
  },
  {
   "cell_type": "code",
   "execution_count": 21,
   "metadata": {},
   "outputs": [
    {
     "data": {
      "text/plain": [
       "{u'page': 1,\n",
       " u'results': [{u'adult': False,\n",
       "   u'backdrop_path': u'/8Od5zV7Q7zNOX0y9tyNgpTmoiGA.jpg',\n",
       "   u'genre_ids': [18, 53, 80],\n",
       "   u'id': 1422,\n",
       "   u'original_language': u'en',\n",
       "   u'original_title': u'The Departed',\n",
       "   u'overview': u\"To take down South Boston's Irish Mafia, the police send in one of their own to infiltrate the underworld, not realizing the syndicate has done likewise. While an undercover cop curries favor with the mob kingpin, a career criminal rises through the police ranks. But both sides soon discover there's a mole among them.\",\n",
       "   u'popularity': 4.587519,\n",
       "   u'poster_path': u'/tGLO9zw5ZtCeyyEWgbYGgsFxC6i.jpg',\n",
       "   u'release_date': u'2006-10-05',\n",
       "   u'title': u'The Departed',\n",
       "   u'video': False,\n",
       "   u'vote_average': 7.8,\n",
       "   u'vote_count': 3344},\n",
       "  {u'adult': False,\n",
       "   u'backdrop_path': None,\n",
       "   u'genre_ids': [27, 18],\n",
       "   u'id': 321724,\n",
       "   u'original_language': u'ko',\n",
       "   u'original_title': u'\\u5996\\u82b1\\uc758 \\u50b3\\u8aaa',\n",
       "   u'overview': u\"A devoted son hears that, he must pay one thousand 'nyang' (old Korean currency) to save his father who is in jail for unknown reason. At that time, a low-grade official seeks for a man who could spend one night to mourn for the spirit of their DEAD daughter. The devoted son spends the night with the dead woman...\",\n",
       "   u'popularity': 1.00123,\n",
       "   u'poster_path': u'/zTc3WdF7HUt4HVe280rcWyth4hl.jpg',\n",
       "   u'release_date': u'1970-01-01',\n",
       "   u'title': u'The Legend of Departed Soul',\n",
       "   u'video': False,\n",
       "   u'vote_average': 0,\n",
       "   u'vote_count': 0},\n",
       "  {u'adult': False,\n",
       "   u'backdrop_path': None,\n",
       "   u'genre_ids': [],\n",
       "   u'id': 425104,\n",
       "   u'original_language': u'en',\n",
       "   u'original_title': u'Ninjago: Masters of Spinjitzu - Day of the Departed',\n",
       "   u'overview': u\"On the Ninjago holiday: Day of the Departed, the ninja remeber those who have departed. Jay visits his parents at the junkyard; Lloyd and Misako remember Garmadon in the Corridor of Elders; Zane remembers his father in Birchwood Forest and Kai and Nya remember their parents too. Cole, unable to fully accept being a ghost, visits Sensei Yang as he begins to fade from existence, but accidentally releases the spirits of the ninjas' past enemies, resulting in an epic fight.\",\n",
       "   u'popularity': 1.157098,\n",
       "   u'poster_path': u'/tPSHCNh5itFSjpzDpluwz2o4phK.jpg',\n",
       "   u'release_date': u'2016-10-28',\n",
       "   u'title': u'Ninjago: Masters of Spinjitzu - Day of the Departed',\n",
       "   u'video': False,\n",
       "   u'vote_average': 0,\n",
       "   u'vote_count': 0}],\n",
       " u'total_pages': 1,\n",
       " u'total_results': 3}"
      ]
     },
     "execution_count": 21,
     "metadata": {},
     "output_type": "execute_result"
    }
   ],
   "source": [
    "# API Key (Harry's)\n",
    "payload = {\n",
    "            'api_key': '5eef6423b6f7cea2f5b6cae0838e38f9',\n",
    "            'query': 'The Departed' \n",
    "         }\n",
    "\n",
    "r = requests.get('https://api.themoviedb.org/3/search/movie', params = payload).json()\n",
    "r"
   ]
  },
  {
   "cell_type": "markdown",
   "metadata": {},
   "source": [
    "The first result is the one we want, so let's extract the movie's id in order to look up the genre of the film."
   ]
  },
  {
   "cell_type": "code",
   "execution_count": 22,
   "metadata": {},
   "outputs": [
    {
     "data": {
      "text/plain": [
       "1422"
      ]
     },
     "execution_count": 22,
     "metadata": {},
     "output_type": "execute_result"
    }
   ],
   "source": [
    "the_departed_id = r['results'][0]['id']\n",
    "# Sanity check to see if we got the right one\n",
    "the_departed_id"
   ]
  },
  {
   "cell_type": "code",
   "execution_count": 23,
   "metadata": {},
   "outputs": [
    {
     "name": "stdout",
     "output_type": "stream",
     "text": [
      "Drama\n",
      "Thriller\n",
      "Crime\n"
     ]
    }
   ],
   "source": [
    "# Now let's access the film's information by id in order to lookup the genre\n",
    "r = requests.get('https://api.themoviedb.org/3/movie/' + str(the_departed_id) + '?api_key=5eef6423b6f7cea2f5b6cae0838e38f9').json()\n",
    "genres_list = r['genres']\n",
    "\n",
    "# Unpack the names of the genres\n",
    "for genre in genres_list:\n",
    "    print genre['name']"
   ]
  },
  {
   "cell_type": "markdown",
   "metadata": {},
   "source": [
    "### Accessing the poster for The Departed"
   ]
  },
  {
   "cell_type": "code",
   "execution_count": 24,
   "metadata": {},
   "outputs": [
    {
     "data": {
      "text/html": [
       "<img src=\"http://image.tmdb.org/t/p/w500//tGLO9zw5ZtCeyyEWgbYGgsFxC6i.jpg\"/>"
      ],
      "text/plain": [
       "<IPython.core.display.Image object>"
      ]
     },
     "execution_count": 24,
     "metadata": {},
     "output_type": "execute_result"
    }
   ],
   "source": [
    "poster_path = r['poster_path']\n",
    "url = 'http://image.tmdb.org/t/p/w500/' + poster_path\n",
    "Image(url=url)"
   ]
  },
  {
   "cell_type": "markdown",
   "metadata": {},
   "source": [
    "## Genre for this movie listed by TMDb and IMDb"
   ]
  },
  {
   "cell_type": "markdown",
   "metadata": {},
   "source": [
    "Let's compare the genres fetched from TMDb with those from IMDb.\n",
    "http://www.imdb.com/title/tt0407887/\n",
    "\n",
    "IMDb lists the genres:\n",
    "Crime, Drama, Thriller\n",
    "\n",
    "We have a match!"
   ]
  },
  {
   "cell_type": "markdown",
   "metadata": {},
   "source": [
    "## A list of the 10 most popular movies of 2016 from TMDb and their genre obtained via the API"
   ]
  },
  {
   "cell_type": "code",
   "execution_count": 25,
   "metadata": {
    "scrolled": false
   },
   "outputs": [
    {
     "name": "stdout",
     "output_type": "stream",
     "text": [
      "Names of most popular films in 2016:\n",
      "1 Sing\n",
      "2 Fantastic Beasts and Where to Find Them\n",
      "3 Finding Dory\n",
      "4 Deadpool\n",
      "5 Rogue One: A Star Wars Story\n",
      "6 Doctor Strange\n",
      "7 Arrival\n",
      "8 Captain America: Civil War\n",
      "9 Underworld: Blood Wars\n",
      "10 Lion\n",
      "\n",
      "\n",
      "Genres for Sing :\n",
      "Animation\n",
      "Comedy\n",
      "Drama\n",
      "Family\n",
      "Music\n",
      "\n",
      "\n",
      "Genres for Fantastic Beasts and Where to Find Them :\n",
      "Adventure\n",
      "Action\n",
      "Fantasy\n",
      "\n",
      "\n",
      "Genres for Finding Dory :\n",
      "Adventure\n",
      "Animation\n",
      "Comedy\n",
      "Family\n",
      "\n",
      "\n",
      "Genres for Deadpool :\n",
      "Action\n",
      "Adventure\n",
      "Comedy\n",
      "Romance\n",
      "\n",
      "\n",
      "Genres for Rogue One: A Star Wars Story :\n",
      "Action\n",
      "Drama\n",
      "Science Fiction\n",
      "War\n",
      "\n",
      "\n",
      "Genres for Doctor Strange :\n",
      "Action\n",
      "Adventure\n",
      "Fantasy\n",
      "Science Fiction\n",
      "\n",
      "\n",
      "Genres for Arrival :\n",
      "Drama\n",
      "Science Fiction\n",
      "\n",
      "\n",
      "Genres for Captain America: Civil War :\n",
      "Action\n",
      "Science Fiction\n",
      "\n",
      "\n",
      "Genres for Underworld: Blood Wars :\n",
      "Action\n",
      "Horror\n",
      "\n",
      "\n",
      "Genres for Lion :\n",
      "Drama\n",
      "\n",
      "\n"
     ]
    }
   ],
   "source": [
    "popular_r = requests.get('https://api.themoviedb.org/3/discover/movie?' + 'api_key=5eef6423b6f7cea2f5b6cae0838e38f9' + '&primary_release_year=2016').json()\n",
    "\n",
    "# Print names of most popular movies\n",
    "print \"Names of most popular films in 2016:\"\n",
    "titles = []\n",
    "# Get list of ids for genre lookup\n",
    "ids = []\n",
    "for i, film in enumerate(popular_r['results'][:10]):\n",
    "    titles.append(film['original_title'])\n",
    "    ids.append(film['id'])\n",
    "    print i+1, film['original_title']\n",
    "\n",
    "print \"\\n\"\n",
    "\n",
    "# Create dictionary of {title: genre list} entries\n",
    "# i.e. {'The Departed': ['Crime','Drama',...]...} \n",
    "genres_by_movie = {title: [] for title in titles}\n",
    "\n",
    "# Look up genres for each of the films\n",
    "for i, id in enumerate(ids):\n",
    "    print \"Genres for\", titles[i], ':' \n",
    "    \n",
    "    # Now let's access the film's information by id in order to lookup the genre\n",
    "    r = requests.get('https://api.themoviedb.org/3/movie/' + str(id) + '?api_key=5eef6423b6f7cea2f5b6cae0838e38f9').json()\n",
    "    genres_list = r['genres']\n",
    "\n",
    "    # Unpack the names of the genres\n",
    "    for genre in genres_list:\n",
    "        # Eliminate spaces between words in genre name\n",
    "        genres_by_movie[titles[i]].append(genre['name'].replace(\" \", \"\")) \n",
    "        print genre['name']\n",
    "    \n",
    "    print \"\\n\""
   ]
  },
  {
   "cell_type": "markdown",
   "metadata": {},
   "source": [
    "## Visualization of Movie Genre Pairs\n",
    "We can create a cooccurence matrix of genres across the top 10 movies from 2016, and then visualize via heatmap.\n",
    "\n",
    "Inspiration from: http://stackoverflow.com/questions/35562789/word-word-co-occurrence-matrix"
   ]
  },
  {
   "cell_type": "code",
   "execution_count": 26,
   "metadata": {},
   "outputs": [
    {
     "name": "stdout",
     "output_type": "stream",
     "text": [
      "[[0 3 0 1 1 0 2 1 0 1 3 1]\n",
      " [3 0 1 2 0 1 2 0 0 1 1 0]\n",
      " [0 1 0 2 1 2 0 0 1 0 0 0]\n",
      " [1 2 2 0 1 2 0 0 1 1 0 0]\n",
      " [1 0 1 1 0 1 0 0 1 0 2 1]\n",
      " [0 1 2 2 1 0 0 0 1 0 0 0]\n",
      " [2 2 0 0 0 0 0 0 0 0 1 0]\n",
      " [1 0 0 0 0 0 0 0 0 0 0 0]\n",
      " [0 0 1 1 1 1 0 0 0 0 0 0]\n",
      " [1 1 0 1 0 0 0 0 0 0 0 0]\n",
      " [3 1 0 0 2 0 1 0 0 0 0 1]\n",
      " [1 0 0 0 1 0 0 0 0 0 1 0]]\n"
     ]
    }
   ],
   "source": [
    "# Get genre lists into right format for CountVectorizer\n",
    "docs = [\" \".join(genre_list) for genre_list in genres_by_movie.values()]\n",
    "\n",
    "count_model = CountVectorizer(ngram_range=(1,1)) # default unigram model\n",
    "X = count_model.fit_transform(docs)\n",
    "Xc = (X.T * X) # this is co-occurrence matrix in sparse csr format\n",
    "Xc.setdiag(0) # sometimes you want to fill same word cooccurence to 0\n",
    "print(Xc.todense()) # print out matrix in dense format"
   ]
  },
  {
   "cell_type": "code",
   "execution_count": 27,
   "metadata": {
    "scrolled": true
   },
   "outputs": [
    {
     "data": {
      "text/plain": [
       "<matplotlib.axes._subplots.AxesSubplot at 0x110fec150>"
      ]
     },
     "execution_count": 27,
     "metadata": {},
     "output_type": "execute_result"
    },
    {
     "data": {
      "text/plain": [
       "<matplotlib.text.Text at 0x1110e9ed0>"
      ]
     },
     "execution_count": 27,
     "metadata": {},
     "output_type": "execute_result"
    },
    {
     "data": {
      "image/png": "[encoded data removed]",
      "text/plain": [
       "<matplotlib.figure.Figure at 0x110fe1190>"
      ]
     },
     "metadata": {},
     "output_type": "display_data"
    }
   ],
   "source": [
    "df = DataFrame(Xc.todense(), index=count_model.get_feature_names(), columns=count_model.get_feature_names())\n",
    "\n",
    "ax = plt.axes()\n",
    "\n",
    "# Apply mask to only plot half of matrix\n",
    "mask = np.zeros_like(df)\n",
    "mask[np.triu_indices_from(mask)] = True\n",
    "with sns.axes_style(\"white\"):\n",
    "    sns.heatmap(df, mask=mask, annot=True, fmt=\"d\", square=True)\n",
    "\n",
    "ax.set_title('Co-occurrences of Genres in TMDb 2016 Top 10 Movies')"
   ]
  },
  {
   "cell_type": "markdown",
   "metadata": {
    "collapsed": true
   },
   "source": [
    "This looks a bit sparse, let's expand it to the rest of the pulled data."
   ]
  },
  {
   "cell_type": "code",
   "execution_count": 28,
   "metadata": {
    "collapsed": true
   },
   "outputs": [],
   "source": [
    "#\n",
    "# Repeat above steps with the entire set\n",
    "#\n",
    "\n",
    "titles_full = []\n",
    "ids_full = []\n",
    "for film in popular_r['results']:\n",
    "    titles_full.append(film['original_title'])\n",
    "    ids_full.append(film['id'])\n",
    "\n",
    "# Create dictionary of {title: genre list} entries\n",
    "# i.e. {'The Departed': ['Crime','Drama',...]...} \n",
    "genres_by_movie_full = {title: [] for title in titles_full}\n",
    "\n",
    "# Look up genres for each of the films\n",
    "for i, id in enumerate(ids):\n",
    "    \n",
    "    # Now let's access the film's information by id in order to lookup the genre\n",
    "    r = requests.get('https://api.themoviedb.org/3/movie/' + str(id) + '?api_key=5eef6423b6f7cea2f5b6cae0838e38f9').json()\n",
    "    genres_list = r['genres']\n",
    "\n",
    "    # Unpack the names of the genres\n",
    "    for genre in genres_list:\n",
    "        # Eliminate spaces between words in genre name\n",
    "        genres_by_movie_full[titles_full[i]].append(genre['name'].replace(\" \", \"\")) \n",
    "        \n",
    "# Get genre lists into right format for CountVectorizer\n",
    "docs = [\" \".join(genre_list) for genre_list in genres_by_movie_full.values()]\n",
    "\n",
    "count_model = CountVectorizer(ngram_range=(1,1)) # default unigram model\n",
    "X = count_model.fit_transform(docs)\n",
    "Xc = (X.T * X) # this is co-occurrence matrix in sparse csr format\n",
    "Xc.setdiag(0) # sometimes you want to fill same word cooccurence to 0\n",
    "print(Xc.todense()) # print out matrix in dense format"
   ]
  },
  {
   "cell_type": "code",
   "execution_count": null,
   "metadata": {
    "collapsed": true
   },
   "outputs": [],
   "source": []
  }
 ],
 "metadata": {
  "anaconda-cloud": {},
  "kernelspec": {
   "display_name": "Python 2",
   "language": "python",
   "name": "python2"
  },
  "language_info": {
   "codemirror_mode": {
    "name": "ipython",
    "version": 2
   },
   "file_extension": ".py",
   "mimetype": "text/x-python",
   "name": "python",
   "nbconvert_exporter": "python",
   "pygments_lexer": "ipython2",
   "version": "2.7.13"
  }
 },
 "nbformat": 4,
 "nbformat_minor": 1
}
