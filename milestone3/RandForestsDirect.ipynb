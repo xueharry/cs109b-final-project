{
 "cells": [
  {
   "cell_type": "markdown",
   "metadata": {},
   "source": [
    "# Random Forests Algorithm Adaptation"
   ]
  },
  {
   "cell_type": "code",
   "execution_count": 1,
   "metadata": {
    "collapsed": true
   },
   "outputs": [],
   "source": [
    "import pandas as pd\n",
    "import sklearn as sk\n",
    "from sklearn.model_selection import train_test_split\n",
    "from sklearn.metrics import hamming_loss\n",
    "from sklearn.ensemble import RandomForestClassifier\n",
    "from sklearn.model_selection import GridSearchCV\n",
    "import pickle"
   ]
  },
  {
   "cell_type": "code",
   "execution_count": 2,
   "metadata": {
    "collapsed": true
   },
   "outputs": [],
   "source": [
    "pd.set_option('display.max_columns', None)"
   ]
  },
  {
   "cell_type": "code",
   "execution_count": 3,
   "metadata": {
    "collapsed": false
   },
   "outputs": [
    {
     "data": {
      "text/html": [
       "<div>\n",
       "<table border=\"1\" class=\"dataframe\">\n",
       "  <thead>\n",
       "    <tr style=\"text-align: right;\">\n",
       "      <th></th>\n",
       "      <th>adult</th>\n",
       "      <th>backdrop_path</th>\n",
       "      <th>belongs_to_collection</th>\n",
       "      <th>budget</th>\n",
       "      <th>cast</th>\n",
       "      <th>certificates</th>\n",
       "      <th>color info</th>\n",
       "      <th>countries</th>\n",
       "      <th>director</th>\n",
       "      <th>genres</th>\n",
       "      <th>homepage</th>\n",
       "      <th>id</th>\n",
       "      <th>imdb_id</th>\n",
       "      <th>languages</th>\n",
       "      <th>mpaa</th>\n",
       "      <th>original_language</th>\n",
       "      <th>original_title</th>\n",
       "      <th>overview</th>\n",
       "      <th>plot</th>\n",
       "      <th>popularity</th>\n",
       "      <th>poster_path</th>\n",
       "      <th>production companies</th>\n",
       "      <th>production_companies</th>\n",
       "      <th>production_countries</th>\n",
       "      <th>rating</th>\n",
       "      <th>release_date</th>\n",
       "      <th>revenue</th>\n",
       "      <th>runtime</th>\n",
       "      <th>runtimes</th>\n",
       "      <th>spoken_languages</th>\n",
       "      <th>status</th>\n",
       "      <th>tagline</th>\n",
       "      <th>title</th>\n",
       "      <th>video</th>\n",
       "      <th>vote_average</th>\n",
       "      <th>vote_count</th>\n",
       "      <th>votes</th>\n",
       "      <th>writer</th>\n",
       "      <th>year</th>\n",
       "    </tr>\n",
       "  </thead>\n",
       "  <tbody>\n",
       "    <tr>\n",
       "      <th>0</th>\n",
       "      <td>False</td>\n",
       "      <td>/nhhV4jSDZcBCZuOjkbPUAGa8EKG.jpg</td>\n",
       "      <td>None</td>\n",
       "      <td>0</td>\n",
       "      <td>[Alexander Ludwig, Christopher Eccleston, Ian ...</td>\n",
       "      <td>[Argentina:13, Australia:PG, Brazil:Livre, Can...</td>\n",
       "      <td>[Color]</td>\n",
       "      <td>[USA]</td>\n",
       "      <td>[David L. Cunningham]</td>\n",
       "      <td>[{u'id': 12, u'name': u'Adventure'}, {u'id': 1...</td>\n",
       "      <td></td>\n",
       "      <td>2274</td>\n",
       "      <td>tt0484562</td>\n",
       "      <td>[English]</td>\n",
       "      <td>Rated PG for fantasy action and some scary images</td>\n",
       "      <td>en</td>\n",
       "      <td>The Seeker: The Dark Is Rising</td>\n",
       "      <td>A boy's life is turned upside down when he lea...</td>\n",
       "      <td>[The film tells the story of Will Stanton, a y...</td>\n",
       "      <td>0.610288</td>\n",
       "      <td>/wmPHQxchlpuRAFG94NWMtCZF65k.jpg</td>\n",
       "      <td>[Twentieth Century Fox Film Corporation, Walde...</td>\n",
       "      <td>[{u'name': u'Twentieth Century Fox Film Corpor...</td>\n",
       "      <td>[{u'iso_3166_1': u'US', u'name': u'United Stat...</td>\n",
       "      <td>4.8</td>\n",
       "      <td>2007-10-05</td>\n",
       "      <td>0</td>\n",
       "      <td>94.0</td>\n",
       "      <td>[99]</td>\n",
       "      <td>[{u'iso_639_1': u'en', u'name': u'English'}]</td>\n",
       "      <td>Released</td>\n",
       "      <td></td>\n",
       "      <td>The Seeker: The Dark Is Rising</td>\n",
       "      <td>False</td>\n",
       "      <td>4.8</td>\n",
       "      <td>88</td>\n",
       "      <td>13504.0</td>\n",
       "      <td>[John Hodge, Susan Cooper]</td>\n",
       "      <td>2007.0</td>\n",
       "    </tr>\n",
       "    <tr>\n",
       "      <th>1</th>\n",
       "      <td>False</td>\n",
       "      <td>/d23XXntJrVwNENvdriJdqlW1ae6.jpg</td>\n",
       "      <td>None</td>\n",
       "      <td>3000000</td>\n",
       "      <td>[William Holden, Alec Guinness, Jack Hawkins, ...</td>\n",
       "      <td>[Argentina:13, Australia:PG, Australia:G::(Ori...</td>\n",
       "      <td>[Color::(Technicolor)]</td>\n",
       "      <td>[UK, USA]</td>\n",
       "      <td>[David Lean]</td>\n",
       "      <td>[{u'id': 18, u'name': u'Drama'}, {u'id': 36, u...</td>\n",
       "      <td></td>\n",
       "      <td>826</td>\n",
       "      <td>tt0050212</td>\n",
       "      <td>[English, Japanese, Thai]</td>\n",
       "      <td>Rated PG for mild war violence (re-rating) (1991)</td>\n",
       "      <td>en</td>\n",
       "      <td>The Bridge on the River Kwai</td>\n",
       "      <td>The classic story of English POWs in Burma for...</td>\n",
       "      <td>[The film deals with the situation of British ...</td>\n",
       "      <td>1.138653</td>\n",
       "      <td>/vtPR6tSHeu35rF6qTDw3Yjr9eDg.jpg</td>\n",
       "      <td>[Columbia Pictures Corporation, Horizon Pictur...</td>\n",
       "      <td>[{u'name': u'Columbia Pictures Corporation', u...</td>\n",
       "      <td>[{u'iso_3166_1': u'GB', u'name': u'United King...</td>\n",
       "      <td>8.2</td>\n",
       "      <td>1957-10-02</td>\n",
       "      <td>33300000</td>\n",
       "      <td>161.0</td>\n",
       "      <td>[161]</td>\n",
       "      <td>[{u'iso_639_1': u'ja', u'name': u'日本語'}, {u'is...</td>\n",
       "      <td>Released</td>\n",
       "      <td>It spans a whole new world of entertainment!</td>\n",
       "      <td>The Bridge on the River Kwai</td>\n",
       "      <td>False</td>\n",
       "      <td>7.6</td>\n",
       "      <td>450</td>\n",
       "      <td>159094.0</td>\n",
       "      <td>[Pierre Boulle, Carl Foreman, Michael Wilson]</td>\n",
       "      <td>1957.0</td>\n",
       "    </tr>\n",
       "    <tr>\n",
       "      <th>2</th>\n",
       "      <td>False</td>\n",
       "      <td>/2Kx2q1GOmYRjxmILEFIusMIGTUc.jpg</td>\n",
       "      <td>{u'id': 123800, u'poster_path': u'/giaxAC74fht...</td>\n",
       "      <td>2700000</td>\n",
       "      <td>[Ethan Hawke, Julie Delpy, Vernon Dobtcheff, L...</td>\n",
       "      <td>[Argentina:Atp, Australia:M, Austria:0, Brazil...</td>\n",
       "      <td>[Color]</td>\n",
       "      <td>[USA]</td>\n",
       "      <td>[Richard Linklater]</td>\n",
       "      <td>[{u'id': 18, u'name': u'Drama'}, {u'id': 10749...</td>\n",
       "      <td>http://www.warnerbros.com/?site=beforesunset#/...</td>\n",
       "      <td>80</td>\n",
       "      <td>tt0381681</td>\n",
       "      <td>[English, French]</td>\n",
       "      <td>Rated R for language and sexual references (Ap...</td>\n",
       "      <td>en</td>\n",
       "      <td>Before Sunset</td>\n",
       "      <td>Nine years ago two strangers met by chance and...</td>\n",
       "      <td>[Early thirty-something American Jesse Wallace...</td>\n",
       "      <td>1.026352</td>\n",
       "      <td>/cIj6yWJKUjdCCO7vuZQKl0NqCQe.jpg</td>\n",
       "      <td>[Warner Independent Pictures (WIP), Castle Roc...</td>\n",
       "      <td>[{u'name': u'Castle Rock Entertainment', u'id'...</td>\n",
       "      <td>[{u'iso_3166_1': u'US', u'name': u'United Stat...</td>\n",
       "      <td>8.0</td>\n",
       "      <td>2004-02-10</td>\n",
       "      <td>15992615</td>\n",
       "      <td>80.0</td>\n",
       "      <td>[80]</td>\n",
       "      <td>[{u'iso_639_1': u'en', u'name': u'English'}, {...</td>\n",
       "      <td>Released</td>\n",
       "      <td>What if you had a second chance with the one t...</td>\n",
       "      <td>Before Sunset</td>\n",
       "      <td>False</td>\n",
       "      <td>7.6</td>\n",
       "      <td>580</td>\n",
       "      <td>177647.0</td>\n",
       "      <td>[Richard Linklater, Julie Delpy, Ethan Hawke, ...</td>\n",
       "      <td>2004.0</td>\n",
       "    </tr>\n",
       "    <tr>\n",
       "      <th>3</th>\n",
       "      <td>False</td>\n",
       "      <td>/Dmcv6XpQ9h8AoRIEhD1hayNpd8.jpg</td>\n",
       "      <td>None</td>\n",
       "      <td>0</td>\n",
       "      <td>[Michael Bolton, Sarah Shahi, Adam Scott, Matt...</td>\n",
       "      <td>[Singapore:NC16, South Korea:18, USA:TV-MA]</td>\n",
       "      <td>[Color]</td>\n",
       "      <td>[USA]</td>\n",
       "      <td>[Scott Aukerman, Akiva Schaffer]</td>\n",
       "      <td>[{u'id': 35, u'name': u'Comedy'}, {u'id': 1040...</td>\n",
       "      <td></td>\n",
       "      <td>430780</td>\n",
       "      <td>tt6343706</td>\n",
       "      <td>[English]</td>\n",
       "      <td>NaN</td>\n",
       "      <td>en</td>\n",
       "      <td>Michael Bolton's Big, Sexy Valentine's Day Spe...</td>\n",
       "      <td>After Santa tells Michael Bolton that he needs...</td>\n",
       "      <td>[After Santa tells Michael Bolton that he need...</td>\n",
       "      <td>0.097190</td>\n",
       "      <td>/fomxGvTf5HBtaupI9Rk4UGg43OB.jpg</td>\n",
       "      <td>[Comedy Bang! Bang! Productions, Netflix, Pass...</td>\n",
       "      <td>[{u'name': u'Netflix', u'id': 59811}]</td>\n",
       "      <td>[{u'iso_3166_1': u'US', u'name': u'United Stat...</td>\n",
       "      <td>NaN</td>\n",
       "      <td>2017-02-07</td>\n",
       "      <td>0</td>\n",
       "      <td>54.0</td>\n",
       "      <td>[USA:54]</td>\n",
       "      <td>[{u'iso_639_1': u'en', u'name': u'English'}]</td>\n",
       "      <td>Released</td>\n",
       "      <td></td>\n",
       "      <td>Michael Bolton's Big, Sexy Valentine's Day Spe...</td>\n",
       "      <td>False</td>\n",
       "      <td>8.0</td>\n",
       "      <td>4</td>\n",
       "      <td>NaN</td>\n",
       "      <td>[Scott Aukerman, David Ferguson, Mike Hanford,...</td>\n",
       "      <td>2017.0</td>\n",
       "    </tr>\n",
       "    <tr>\n",
       "      <th>4</th>\n",
       "      <td>False</td>\n",
       "      <td>/8fYXNzpwjJIUmP6ZtxPO3zpIXJa.jpg</td>\n",
       "      <td>None</td>\n",
       "      <td>15000000</td>\n",
       "      <td>[Richard E. Grant, Catherine O'Hara, Nick Prid...</td>\n",
       "      <td>[Argentina:Atp, Australia:PG, Canada:PG::(Onta...</td>\n",
       "      <td>[Color]</td>\n",
       "      <td>[UK, USA]</td>\n",
       "      <td>[Mark Palansky]</td>\n",
       "      <td>[{u'id': 14, u'name': u'Fantasy'}, {u'id': 35,...</td>\n",
       "      <td>http://www.penelopethemovie.com/</td>\n",
       "      <td>7985</td>\n",
       "      <td>tt0472160</td>\n",
       "      <td>[English]</td>\n",
       "      <td>Rated PG for thematic elements, some innuendo ...</td>\n",
       "      <td>en</td>\n",
       "      <td>Penelope</td>\n",
       "      <td>Forlorn heiress Penelope Wilhern is cursed, an...</td>\n",
       "      <td>[In this modern-day romantic tale, Penelope is...</td>\n",
       "      <td>1.222510</td>\n",
       "      <td>/f1onDDba0W85o2eIZr4vcfqI47j.jpg</td>\n",
       "      <td>[Summit Entertainment, Stone Village Pictures,...</td>\n",
       "      <td>[{u'name': u'Tatira-Hiller Productions', u'id'...</td>\n",
       "      <td>[{u'iso_3166_1': u'GB', u'name': u'United King...</td>\n",
       "      <td>6.8</td>\n",
       "      <td>2006-03-01</td>\n",
       "      <td>0</td>\n",
       "      <td>103.0</td>\n",
       "      <td>[104, Thailand:86::(DVD)]</td>\n",
       "      <td>[{u'iso_639_1': u'en', u'name': u'English'}]</td>\n",
       "      <td>Released</td>\n",
       "      <td>A fairytale like no other.</td>\n",
       "      <td>Penelope</td>\n",
       "      <td>False</td>\n",
       "      <td>6.5</td>\n",
       "      <td>317</td>\n",
       "      <td>52587.0</td>\n",
       "      <td>[Leslie Caveny]</td>\n",
       "      <td>2006.0</td>\n",
       "    </tr>\n",
       "  </tbody>\n",
       "</table>\n",
       "</div>"
      ],
      "text/plain": [
       "   adult                     backdrop_path  \\\n",
       "0  False  /nhhV4jSDZcBCZuOjkbPUAGa8EKG.jpg   \n",
       "1  False  /d23XXntJrVwNENvdriJdqlW1ae6.jpg   \n",
       "2  False  /2Kx2q1GOmYRjxmILEFIusMIGTUc.jpg   \n",
       "3  False   /Dmcv6XpQ9h8AoRIEhD1hayNpd8.jpg   \n",
       "4  False  /8fYXNzpwjJIUmP6ZtxPO3zpIXJa.jpg   \n",
       "\n",
       "                               belongs_to_collection    budget  \\\n",
       "0                                               None         0   \n",
       "1                                               None   3000000   \n",
       "2  {u'id': 123800, u'poster_path': u'/giaxAC74fht...   2700000   \n",
       "3                                               None         0   \n",
       "4                                               None  15000000   \n",
       "\n",
       "                                                cast  \\\n",
       "0  [Alexander Ludwig, Christopher Eccleston, Ian ...   \n",
       "1  [William Holden, Alec Guinness, Jack Hawkins, ...   \n",
       "2  [Ethan Hawke, Julie Delpy, Vernon Dobtcheff, L...   \n",
       "3  [Michael Bolton, Sarah Shahi, Adam Scott, Matt...   \n",
       "4  [Richard E. Grant, Catherine O'Hara, Nick Prid...   \n",
       "\n",
       "                                        certificates              color info  \\\n",
       "0  [Argentina:13, Australia:PG, Brazil:Livre, Can...                 [Color]   \n",
       "1  [Argentina:13, Australia:PG, Australia:G::(Ori...  [Color::(Technicolor)]   \n",
       "2  [Argentina:Atp, Australia:M, Austria:0, Brazil...                 [Color]   \n",
       "3        [Singapore:NC16, South Korea:18, USA:TV-MA]                 [Color]   \n",
       "4  [Argentina:Atp, Australia:PG, Canada:PG::(Onta...                 [Color]   \n",
       "\n",
       "   countries                          director  \\\n",
       "0      [USA]             [David L. Cunningham]   \n",
       "1  [UK, USA]                      [David Lean]   \n",
       "2      [USA]               [Richard Linklater]   \n",
       "3      [USA]  [Scott Aukerman, Akiva Schaffer]   \n",
       "4  [UK, USA]                   [Mark Palansky]   \n",
       "\n",
       "                                              genres  \\\n",
       "0  [{u'id': 12, u'name': u'Adventure'}, {u'id': 1...   \n",
       "1  [{u'id': 18, u'name': u'Drama'}, {u'id': 36, u...   \n",
       "2  [{u'id': 18, u'name': u'Drama'}, {u'id': 10749...   \n",
       "3  [{u'id': 35, u'name': u'Comedy'}, {u'id': 1040...   \n",
       "4  [{u'id': 14, u'name': u'Fantasy'}, {u'id': 35,...   \n",
       "\n",
       "                                            homepage      id    imdb_id  \\\n",
       "0                                                       2274  tt0484562   \n",
       "1                                                        826  tt0050212   \n",
       "2  http://www.warnerbros.com/?site=beforesunset#/...      80  tt0381681   \n",
       "3                                                     430780  tt6343706   \n",
       "4                   http://www.penelopethemovie.com/    7985  tt0472160   \n",
       "\n",
       "                   languages  \\\n",
       "0                  [English]   \n",
       "1  [English, Japanese, Thai]   \n",
       "2          [English, French]   \n",
       "3                  [English]   \n",
       "4                  [English]   \n",
       "\n",
       "                                                mpaa original_language  \\\n",
       "0  Rated PG for fantasy action and some scary images                en   \n",
       "1  Rated PG for mild war violence (re-rating) (1991)                en   \n",
       "2  Rated R for language and sexual references (Ap...                en   \n",
       "3                                                NaN                en   \n",
       "4  Rated PG for thematic elements, some innuendo ...                en   \n",
       "\n",
       "                                      original_title  \\\n",
       "0                     The Seeker: The Dark Is Rising   \n",
       "1                       The Bridge on the River Kwai   \n",
       "2                                      Before Sunset   \n",
       "3  Michael Bolton's Big, Sexy Valentine's Day Spe...   \n",
       "4                                           Penelope   \n",
       "\n",
       "                                            overview  \\\n",
       "0  A boy's life is turned upside down when he lea...   \n",
       "1  The classic story of English POWs in Burma for...   \n",
       "2  Nine years ago two strangers met by chance and...   \n",
       "3  After Santa tells Michael Bolton that he needs...   \n",
       "4  Forlorn heiress Penelope Wilhern is cursed, an...   \n",
       "\n",
       "                                                plot  popularity  \\\n",
       "0  [The film tells the story of Will Stanton, a y...    0.610288   \n",
       "1  [The film deals with the situation of British ...    1.138653   \n",
       "2  [Early thirty-something American Jesse Wallace...    1.026352   \n",
       "3  [After Santa tells Michael Bolton that he need...    0.097190   \n",
       "4  [In this modern-day romantic tale, Penelope is...    1.222510   \n",
       "\n",
       "                        poster_path  \\\n",
       "0  /wmPHQxchlpuRAFG94NWMtCZF65k.jpg   \n",
       "1  /vtPR6tSHeu35rF6qTDw3Yjr9eDg.jpg   \n",
       "2  /cIj6yWJKUjdCCO7vuZQKl0NqCQe.jpg   \n",
       "3  /fomxGvTf5HBtaupI9Rk4UGg43OB.jpg   \n",
       "4  /f1onDDba0W85o2eIZr4vcfqI47j.jpg   \n",
       "\n",
       "                                production companies  \\\n",
       "0  [Twentieth Century Fox Film Corporation, Walde...   \n",
       "1  [Columbia Pictures Corporation, Horizon Pictur...   \n",
       "2  [Warner Independent Pictures (WIP), Castle Roc...   \n",
       "3  [Comedy Bang! Bang! Productions, Netflix, Pass...   \n",
       "4  [Summit Entertainment, Stone Village Pictures,...   \n",
       "\n",
       "                                production_companies  \\\n",
       "0  [{u'name': u'Twentieth Century Fox Film Corpor...   \n",
       "1  [{u'name': u'Columbia Pictures Corporation', u...   \n",
       "2  [{u'name': u'Castle Rock Entertainment', u'id'...   \n",
       "3              [{u'name': u'Netflix', u'id': 59811}]   \n",
       "4  [{u'name': u'Tatira-Hiller Productions', u'id'...   \n",
       "\n",
       "                                production_countries  rating release_date  \\\n",
       "0  [{u'iso_3166_1': u'US', u'name': u'United Stat...     4.8   2007-10-05   \n",
       "1  [{u'iso_3166_1': u'GB', u'name': u'United King...     8.2   1957-10-02   \n",
       "2  [{u'iso_3166_1': u'US', u'name': u'United Stat...     8.0   2004-02-10   \n",
       "3  [{u'iso_3166_1': u'US', u'name': u'United Stat...     NaN   2017-02-07   \n",
       "4  [{u'iso_3166_1': u'GB', u'name': u'United King...     6.8   2006-03-01   \n",
       "\n",
       "    revenue  runtime                   runtimes  \\\n",
       "0         0     94.0                       [99]   \n",
       "1  33300000    161.0                      [161]   \n",
       "2  15992615     80.0                       [80]   \n",
       "3         0     54.0                   [USA:54]   \n",
       "4         0    103.0  [104, Thailand:86::(DVD)]   \n",
       "\n",
       "                                    spoken_languages    status  \\\n",
       "0       [{u'iso_639_1': u'en', u'name': u'English'}]  Released   \n",
       "1  [{u'iso_639_1': u'ja', u'name': u'日本語'}, {u'is...  Released   \n",
       "2  [{u'iso_639_1': u'en', u'name': u'English'}, {...  Released   \n",
       "3       [{u'iso_639_1': u'en', u'name': u'English'}]  Released   \n",
       "4       [{u'iso_639_1': u'en', u'name': u'English'}]  Released   \n",
       "\n",
       "                                             tagline  \\\n",
       "0                                                      \n",
       "1       It spans a whole new world of entertainment!   \n",
       "2  What if you had a second chance with the one t...   \n",
       "3                                                      \n",
       "4                         A fairytale like no other.   \n",
       "\n",
       "                                               title  video  vote_average  \\\n",
       "0                     The Seeker: The Dark Is Rising  False           4.8   \n",
       "1                       The Bridge on the River Kwai  False           7.6   \n",
       "2                                      Before Sunset  False           7.6   \n",
       "3  Michael Bolton's Big, Sexy Valentine's Day Spe...  False           8.0   \n",
       "4                                           Penelope  False           6.5   \n",
       "\n",
       "   vote_count     votes                                             writer  \\\n",
       "0          88   13504.0                         [John Hodge, Susan Cooper]   \n",
       "1         450  159094.0      [Pierre Boulle, Carl Foreman, Michael Wilson]   \n",
       "2         580  177647.0  [Richard Linklater, Julie Delpy, Ethan Hawke, ...   \n",
       "3           4       NaN  [Scott Aukerman, David Ferguson, Mike Hanford,...   \n",
       "4         317   52587.0                                    [Leslie Caveny]   \n",
       "\n",
       "     year  \n",
       "0  2007.0  \n",
       "1  1957.0  \n",
       "2  2004.0  \n",
       "3  2017.0  \n",
       "4  2006.0  "
      ]
     },
     "execution_count": 3,
     "metadata": {},
     "output_type": "execute_result"
    }
   ],
   "source": [
    "full_data = pd.DataFrame(pd.read_pickle('combined_imdb_tmdb_data.picke'))\n",
    "full_data.head()"
   ]
  },
  {
   "cell_type": "code",
   "execution_count": 4,
   "metadata": {
    "collapsed": true
   },
   "outputs": [],
   "source": [
    "cols_to_save = [\"budget\", \"adult\", \"director\", \"genres\", \"id\", \"original_language\", \"popularity\", \n",
    "                \"rating\", \"revenue\", \"runtime\", \"vote_average\", \"vote_count\", \"votes\", \"writer\", \"year\"]"
   ]
  },
  {
   "cell_type": "code",
   "execution_count": 5,
   "metadata": {
    "collapsed": true
   },
   "outputs": [],
   "source": [
    "full_data_condensed = full_data[cols_to_save]"
   ]
  },
  {
   "cell_type": "code",
   "execution_count": 6,
   "metadata": {
    "collapsed": false
   },
   "outputs": [],
   "source": [
    "train_test_indices = pd.read_pickle('train_val_test_byid.pkl')"
   ]
  },
  {
   "cell_type": "code",
   "execution_count": 7,
   "metadata": {
    "collapsed": true
   },
   "outputs": [],
   "source": [
    "genres = full_data_condensed[\"genres\"]"
   ]
  },
  {
   "cell_type": "code",
   "execution_count": 8,
   "metadata": {
    "collapsed": true
   },
   "outputs": [],
   "source": [
    "genre_ids = []\n",
    "for genre_list in genres:\n",
    "    genre_ids.append([genre[\"name\"] for genre in genre_list])"
   ]
  },
  {
   "cell_type": "code",
   "execution_count": 9,
   "metadata": {
    "collapsed": false
   },
   "outputs": [
    {
     "name": "stderr",
     "output_type": "stream",
     "text": [
      "/Users/chrischen/anaconda/lib/python2.7/site-packages/ipykernel/__main__.py:1: SettingWithCopyWarning: \n",
      "A value is trying to be set on a copy of a slice from a DataFrame.\n",
      "Try using .loc[row_indexer,col_indexer] = value instead\n",
      "\n",
      "See the caveats in the documentation: http://pandas.pydata.org/pandas-docs/stable/indexing.html#indexing-view-versus-copy\n",
      "  if __name__ == '__main__':\n"
     ]
    }
   ],
   "source": [
    "full_data_condensed[\"genres\"] = genre_ids"
   ]
  },
  {
   "cell_type": "code",
   "execution_count": 10,
   "metadata": {
    "collapsed": true
   },
   "outputs": [],
   "source": [
    "genre_names = []\n",
    "for genre_sublist in genre_ids:\n",
    "    genre_names += genre_sublist\n",
    "genre_names = list(set(genre_names))"
   ]
  },
  {
   "cell_type": "code",
   "execution_count": 11,
   "metadata": {
    "collapsed": false
   },
   "outputs": [
    {
     "data": {
      "text/plain": [
       "[u'Mystery',\n",
       " u'Romance',\n",
       " u'Crime',\n",
       " u'Family',\n",
       " u'Science Fiction',\n",
       " u'Horror',\n",
       " u'Foreign',\n",
       " u'Drama',\n",
       " u'Fantasy',\n",
       " u'Western',\n",
       " u'Animation',\n",
       " u'Music',\n",
       " u'Adventure',\n",
       " u'Action',\n",
       " u'TV Movie',\n",
       " u'Comedy',\n",
       " u'Documentary',\n",
       " u'War',\n",
       " u'Thriller',\n",
       " u'History']"
      ]
     },
     "execution_count": 11,
     "metadata": {},
     "output_type": "execute_result"
    }
   ],
   "source": [
    "genre_names"
   ]
  },
  {
   "cell_type": "code",
   "execution_count": 12,
   "metadata": {
    "collapsed": false
   },
   "outputs": [
    {
     "name": "stderr",
     "output_type": "stream",
     "text": [
      "/Users/chrischen/anaconda/lib/python2.7/site-packages/ipykernel/__main__.py:2: SettingWithCopyWarning: \n",
      "A value is trying to be set on a copy of a slice from a DataFrame.\n",
      "Try using .loc[row_indexer,col_indexer] = value instead\n",
      "\n",
      "See the caveats in the documentation: http://pandas.pydata.org/pandas-docs/stable/indexing.html#indexing-view-versus-copy\n",
      "  from ipykernel import kernelapp as app\n"
     ]
    }
   ],
   "source": [
    "for genre in genre_names:\n",
    "    full_data_condensed[genre] = [int(genre in genre_list) for genre_list in full_data_condensed[\"genres\"]]"
   ]
  },
  {
   "cell_type": "code",
   "execution_count": 13,
   "metadata": {
    "collapsed": true
   },
   "outputs": [],
   "source": [
    "import numpy as np"
   ]
  },
  {
   "cell_type": "code",
   "execution_count": 14,
   "metadata": {
    "collapsed": false
   },
   "outputs": [
    {
     "data": {
      "text/plain": [
       "1172"
      ]
     },
     "execution_count": 14,
     "metadata": {},
     "output_type": "execute_result"
    }
   ],
   "source": [
    "np.sum(full_data_condensed[\"Mystery\"])"
   ]
  },
  {
   "cell_type": "code",
   "execution_count": 15,
   "metadata": {
    "collapsed": false
   },
   "outputs": [
    {
     "data": {
      "text/html": [
       "<div>\n",
       "<table border=\"1\" class=\"dataframe\">\n",
       "  <thead>\n",
       "    <tr style=\"text-align: right;\">\n",
       "      <th></th>\n",
       "      <th>budget</th>\n",
       "      <th>adult</th>\n",
       "      <th>director</th>\n",
       "      <th>genres</th>\n",
       "      <th>id</th>\n",
       "      <th>original_language</th>\n",
       "      <th>popularity</th>\n",
       "      <th>rating</th>\n",
       "      <th>revenue</th>\n",
       "      <th>runtime</th>\n",
       "      <th>vote_average</th>\n",
       "      <th>vote_count</th>\n",
       "      <th>votes</th>\n",
       "      <th>writer</th>\n",
       "      <th>year</th>\n",
       "      <th>Mystery</th>\n",
       "      <th>Romance</th>\n",
       "      <th>Crime</th>\n",
       "      <th>Family</th>\n",
       "      <th>Science Fiction</th>\n",
       "      <th>Horror</th>\n",
       "      <th>Foreign</th>\n",
       "      <th>Drama</th>\n",
       "      <th>Fantasy</th>\n",
       "      <th>Western</th>\n",
       "      <th>Animation</th>\n",
       "      <th>Music</th>\n",
       "      <th>Adventure</th>\n",
       "      <th>Action</th>\n",
       "      <th>TV Movie</th>\n",
       "      <th>Comedy</th>\n",
       "      <th>Documentary</th>\n",
       "      <th>War</th>\n",
       "      <th>Thriller</th>\n",
       "      <th>History</th>\n",
       "    </tr>\n",
       "  </thead>\n",
       "  <tbody>\n",
       "    <tr>\n",
       "      <th>0</th>\n",
       "      <td>0</td>\n",
       "      <td>False</td>\n",
       "      <td>[David L. Cunningham]</td>\n",
       "      <td>[Adventure, Drama, Fantasy, Family, Thriller]</td>\n",
       "      <td>2274</td>\n",
       "      <td>en</td>\n",
       "      <td>0.610288</td>\n",
       "      <td>4.8</td>\n",
       "      <td>0</td>\n",
       "      <td>94.0</td>\n",
       "      <td>4.8</td>\n",
       "      <td>88</td>\n",
       "      <td>13504.0</td>\n",
       "      <td>[John Hodge, Susan Cooper]</td>\n",
       "      <td>2007.0</td>\n",
       "      <td>0</td>\n",
       "      <td>0</td>\n",
       "      <td>0</td>\n",
       "      <td>1</td>\n",
       "      <td>0</td>\n",
       "      <td>0</td>\n",
       "      <td>0</td>\n",
       "      <td>1</td>\n",
       "      <td>1</td>\n",
       "      <td>0</td>\n",
       "      <td>0</td>\n",
       "      <td>0</td>\n",
       "      <td>1</td>\n",
       "      <td>0</td>\n",
       "      <td>0</td>\n",
       "      <td>0</td>\n",
       "      <td>0</td>\n",
       "      <td>0</td>\n",
       "      <td>1</td>\n",
       "      <td>0</td>\n",
       "    </tr>\n",
       "    <tr>\n",
       "      <th>1</th>\n",
       "      <td>3000000</td>\n",
       "      <td>False</td>\n",
       "      <td>[David Lean]</td>\n",
       "      <td>[Drama, History, War]</td>\n",
       "      <td>826</td>\n",
       "      <td>en</td>\n",
       "      <td>1.138653</td>\n",
       "      <td>8.2</td>\n",
       "      <td>33300000</td>\n",
       "      <td>161.0</td>\n",
       "      <td>7.6</td>\n",
       "      <td>450</td>\n",
       "      <td>159094.0</td>\n",
       "      <td>[Pierre Boulle, Carl Foreman, Michael Wilson]</td>\n",
       "      <td>1957.0</td>\n",
       "      <td>0</td>\n",
       "      <td>0</td>\n",
       "      <td>0</td>\n",
       "      <td>0</td>\n",
       "      <td>0</td>\n",
       "      <td>0</td>\n",
       "      <td>0</td>\n",
       "      <td>1</td>\n",
       "      <td>0</td>\n",
       "      <td>0</td>\n",
       "      <td>0</td>\n",
       "      <td>0</td>\n",
       "      <td>0</td>\n",
       "      <td>0</td>\n",
       "      <td>0</td>\n",
       "      <td>0</td>\n",
       "      <td>0</td>\n",
       "      <td>1</td>\n",
       "      <td>0</td>\n",
       "      <td>1</td>\n",
       "    </tr>\n",
       "    <tr>\n",
       "      <th>2</th>\n",
       "      <td>2700000</td>\n",
       "      <td>False</td>\n",
       "      <td>[Richard Linklater]</td>\n",
       "      <td>[Drama, Romance]</td>\n",
       "      <td>80</td>\n",
       "      <td>en</td>\n",
       "      <td>1.026352</td>\n",
       "      <td>8.0</td>\n",
       "      <td>15992615</td>\n",
       "      <td>80.0</td>\n",
       "      <td>7.6</td>\n",
       "      <td>580</td>\n",
       "      <td>177647.0</td>\n",
       "      <td>[Richard Linklater, Julie Delpy, Ethan Hawke, ...</td>\n",
       "      <td>2004.0</td>\n",
       "      <td>0</td>\n",
       "      <td>1</td>\n",
       "      <td>0</td>\n",
       "      <td>0</td>\n",
       "      <td>0</td>\n",
       "      <td>0</td>\n",
       "      <td>0</td>\n",
       "      <td>1</td>\n",
       "      <td>0</td>\n",
       "      <td>0</td>\n",
       "      <td>0</td>\n",
       "      <td>0</td>\n",
       "      <td>0</td>\n",
       "      <td>0</td>\n",
       "      <td>0</td>\n",
       "      <td>0</td>\n",
       "      <td>0</td>\n",
       "      <td>0</td>\n",
       "      <td>0</td>\n",
       "      <td>0</td>\n",
       "    </tr>\n",
       "    <tr>\n",
       "      <th>3</th>\n",
       "      <td>0</td>\n",
       "      <td>False</td>\n",
       "      <td>[Scott Aukerman, Akiva Schaffer]</td>\n",
       "      <td>[Comedy, Music]</td>\n",
       "      <td>430780</td>\n",
       "      <td>en</td>\n",
       "      <td>0.097190</td>\n",
       "      <td>NaN</td>\n",
       "      <td>0</td>\n",
       "      <td>54.0</td>\n",
       "      <td>8.0</td>\n",
       "      <td>4</td>\n",
       "      <td>NaN</td>\n",
       "      <td>[Scott Aukerman, David Ferguson, Mike Hanford,...</td>\n",
       "      <td>2017.0</td>\n",
       "      <td>0</td>\n",
       "      <td>0</td>\n",
       "      <td>0</td>\n",
       "      <td>0</td>\n",
       "      <td>0</td>\n",
       "      <td>0</td>\n",
       "      <td>0</td>\n",
       "      <td>0</td>\n",
       "      <td>0</td>\n",
       "      <td>0</td>\n",
       "      <td>0</td>\n",
       "      <td>1</td>\n",
       "      <td>0</td>\n",
       "      <td>0</td>\n",
       "      <td>0</td>\n",
       "      <td>1</td>\n",
       "      <td>0</td>\n",
       "      <td>0</td>\n",
       "      <td>0</td>\n",
       "      <td>0</td>\n",
       "    </tr>\n",
       "    <tr>\n",
       "      <th>4</th>\n",
       "      <td>15000000</td>\n",
       "      <td>False</td>\n",
       "      <td>[Mark Palansky]</td>\n",
       "      <td>[Fantasy, Comedy, Romance]</td>\n",
       "      <td>7985</td>\n",
       "      <td>en</td>\n",
       "      <td>1.222510</td>\n",
       "      <td>6.8</td>\n",
       "      <td>0</td>\n",
       "      <td>103.0</td>\n",
       "      <td>6.5</td>\n",
       "      <td>317</td>\n",
       "      <td>52587.0</td>\n",
       "      <td>[Leslie Caveny]</td>\n",
       "      <td>2006.0</td>\n",
       "      <td>0</td>\n",
       "      <td>1</td>\n",
       "      <td>0</td>\n",
       "      <td>0</td>\n",
       "      <td>0</td>\n",
       "      <td>0</td>\n",
       "      <td>0</td>\n",
       "      <td>0</td>\n",
       "      <td>1</td>\n",
       "      <td>0</td>\n",
       "      <td>0</td>\n",
       "      <td>0</td>\n",
       "      <td>0</td>\n",
       "      <td>0</td>\n",
       "      <td>0</td>\n",
       "      <td>1</td>\n",
       "      <td>0</td>\n",
       "      <td>0</td>\n",
       "      <td>0</td>\n",
       "      <td>0</td>\n",
       "    </tr>\n",
       "  </tbody>\n",
       "</table>\n",
       "</div>"
      ],
      "text/plain": [
       "     budget  adult                          director  \\\n",
       "0         0  False             [David L. Cunningham]   \n",
       "1   3000000  False                      [David Lean]   \n",
       "2   2700000  False               [Richard Linklater]   \n",
       "3         0  False  [Scott Aukerman, Akiva Schaffer]   \n",
       "4  15000000  False                   [Mark Palansky]   \n",
       "\n",
       "                                          genres      id original_language  \\\n",
       "0  [Adventure, Drama, Fantasy, Family, Thriller]    2274                en   \n",
       "1                          [Drama, History, War]     826                en   \n",
       "2                               [Drama, Romance]      80                en   \n",
       "3                                [Comedy, Music]  430780                en   \n",
       "4                     [Fantasy, Comedy, Romance]    7985                en   \n",
       "\n",
       "   popularity  rating   revenue  runtime  vote_average  vote_count     votes  \\\n",
       "0    0.610288     4.8         0     94.0           4.8          88   13504.0   \n",
       "1    1.138653     8.2  33300000    161.0           7.6         450  159094.0   \n",
       "2    1.026352     8.0  15992615     80.0           7.6         580  177647.0   \n",
       "3    0.097190     NaN         0     54.0           8.0           4       NaN   \n",
       "4    1.222510     6.8         0    103.0           6.5         317   52587.0   \n",
       "\n",
       "                                              writer    year  Mystery  \\\n",
       "0                         [John Hodge, Susan Cooper]  2007.0        0   \n",
       "1      [Pierre Boulle, Carl Foreman, Michael Wilson]  1957.0        0   \n",
       "2  [Richard Linklater, Julie Delpy, Ethan Hawke, ...  2004.0        0   \n",
       "3  [Scott Aukerman, David Ferguson, Mike Hanford,...  2017.0        0   \n",
       "4                                    [Leslie Caveny]  2006.0        0   \n",
       "\n",
       "   Romance  Crime  Family  Science Fiction  Horror  Foreign  Drama  Fantasy  \\\n",
       "0        0      0       1                0       0        0      1        1   \n",
       "1        0      0       0                0       0        0      1        0   \n",
       "2        1      0       0                0       0        0      1        0   \n",
       "3        0      0       0                0       0        0      0        0   \n",
       "4        1      0       0                0       0        0      0        1   \n",
       "\n",
       "   Western  Animation  Music  Adventure  Action  TV Movie  Comedy  \\\n",
       "0        0          0      0          1       0         0       0   \n",
       "1        0          0      0          0       0         0       0   \n",
       "2        0          0      0          0       0         0       0   \n",
       "3        0          0      1          0       0         0       1   \n",
       "4        0          0      0          0       0         0       1   \n",
       "\n",
       "   Documentary  War  Thriller  History  \n",
       "0            0    0         1        0  \n",
       "1            0    1         0        1  \n",
       "2            0    0         0        0  \n",
       "3            0    0         0        0  \n",
       "4            0    0         0        0  "
      ]
     },
     "execution_count": 15,
     "metadata": {},
     "output_type": "execute_result"
    }
   ],
   "source": [
    "full_data_condensed.head()"
   ]
  },
  {
   "cell_type": "code",
   "execution_count": 16,
   "metadata": {
    "collapsed": false
   },
   "outputs": [],
   "source": [
    "first_writers = []\n",
    "for writer_list in full_data_condensed[\"writer\"]:\n",
    "    if type(writer_list) == list:\n",
    "        first_writers.append(writer_list[0])\n",
    "    else:\n",
    "        first_writers.append(np.nan)"
   ]
  },
  {
   "cell_type": "code",
   "execution_count": 17,
   "metadata": {
    "collapsed": false
   },
   "outputs": [
    {
     "data": {
      "text/plain": [
       "7486"
      ]
     },
     "execution_count": 17,
     "metadata": {},
     "output_type": "execute_result"
    }
   ],
   "source": [
    "len(list(set(first_writers)))"
   ]
  },
  {
   "cell_type": "code",
   "execution_count": 18,
   "metadata": {
    "collapsed": false
   },
   "outputs": [
    {
     "name": "stderr",
     "output_type": "stream",
     "text": [
      "/Users/chrischen/anaconda/lib/python2.7/site-packages/ipykernel/__main__.py:2: SettingWithCopyWarning: \n",
      "A value is trying to be set on a copy of a slice from a DataFrame\n",
      "\n",
      "See the caveats in the documentation: http://pandas.pydata.org/pandas-docs/stable/indexing.html#indexing-view-versus-copy\n",
      "  from ipykernel import kernelapp as app\n"
     ]
    }
   ],
   "source": [
    "for column in [\"director\", \"genres\", \"writer\"]:\n",
    "    full_data_condensed.drop(column, axis=1, inplace=True)"
   ]
  },
  {
   "cell_type": "code",
   "execution_count": 19,
   "metadata": {
    "collapsed": false
   },
   "outputs": [
    {
     "data": {
      "text/html": [
       "<div>\n",
       "<table border=\"1\" class=\"dataframe\">\n",
       "  <thead>\n",
       "    <tr style=\"text-align: right;\">\n",
       "      <th></th>\n",
       "      <th>budget</th>\n",
       "      <th>adult</th>\n",
       "      <th>id</th>\n",
       "      <th>original_language</th>\n",
       "      <th>popularity</th>\n",
       "      <th>rating</th>\n",
       "      <th>revenue</th>\n",
       "      <th>runtime</th>\n",
       "      <th>vote_average</th>\n",
       "      <th>vote_count</th>\n",
       "      <th>votes</th>\n",
       "      <th>year</th>\n",
       "      <th>Mystery</th>\n",
       "      <th>Romance</th>\n",
       "      <th>Crime</th>\n",
       "      <th>Family</th>\n",
       "      <th>Science Fiction</th>\n",
       "      <th>Horror</th>\n",
       "      <th>Foreign</th>\n",
       "      <th>Drama</th>\n",
       "      <th>Fantasy</th>\n",
       "      <th>Western</th>\n",
       "      <th>Animation</th>\n",
       "      <th>Music</th>\n",
       "      <th>Adventure</th>\n",
       "      <th>Action</th>\n",
       "      <th>TV Movie</th>\n",
       "      <th>Comedy</th>\n",
       "      <th>Documentary</th>\n",
       "      <th>War</th>\n",
       "      <th>Thriller</th>\n",
       "      <th>History</th>\n",
       "    </tr>\n",
       "  </thead>\n",
       "  <tbody>\n",
       "    <tr>\n",
       "      <th>0</th>\n",
       "      <td>0</td>\n",
       "      <td>False</td>\n",
       "      <td>2274</td>\n",
       "      <td>en</td>\n",
       "      <td>0.610288</td>\n",
       "      <td>4.8</td>\n",
       "      <td>0</td>\n",
       "      <td>94.0</td>\n",
       "      <td>4.8</td>\n",
       "      <td>88</td>\n",
       "      <td>13504.0</td>\n",
       "      <td>2007.0</td>\n",
       "      <td>0</td>\n",
       "      <td>0</td>\n",
       "      <td>0</td>\n",
       "      <td>1</td>\n",
       "      <td>0</td>\n",
       "      <td>0</td>\n",
       "      <td>0</td>\n",
       "      <td>1</td>\n",
       "      <td>1</td>\n",
       "      <td>0</td>\n",
       "      <td>0</td>\n",
       "      <td>0</td>\n",
       "      <td>1</td>\n",
       "      <td>0</td>\n",
       "      <td>0</td>\n",
       "      <td>0</td>\n",
       "      <td>0</td>\n",
       "      <td>0</td>\n",
       "      <td>1</td>\n",
       "      <td>0</td>\n",
       "    </tr>\n",
       "    <tr>\n",
       "      <th>1</th>\n",
       "      <td>3000000</td>\n",
       "      <td>False</td>\n",
       "      <td>826</td>\n",
       "      <td>en</td>\n",
       "      <td>1.138653</td>\n",
       "      <td>8.2</td>\n",
       "      <td>33300000</td>\n",
       "      <td>161.0</td>\n",
       "      <td>7.6</td>\n",
       "      <td>450</td>\n",
       "      <td>159094.0</td>\n",
       "      <td>1957.0</td>\n",
       "      <td>0</td>\n",
       "      <td>0</td>\n",
       "      <td>0</td>\n",
       "      <td>0</td>\n",
       "      <td>0</td>\n",
       "      <td>0</td>\n",
       "      <td>0</td>\n",
       "      <td>1</td>\n",
       "      <td>0</td>\n",
       "      <td>0</td>\n",
       "      <td>0</td>\n",
       "      <td>0</td>\n",
       "      <td>0</td>\n",
       "      <td>0</td>\n",
       "      <td>0</td>\n",
       "      <td>0</td>\n",
       "      <td>0</td>\n",
       "      <td>1</td>\n",
       "      <td>0</td>\n",
       "      <td>1</td>\n",
       "    </tr>\n",
       "    <tr>\n",
       "      <th>2</th>\n",
       "      <td>2700000</td>\n",
       "      <td>False</td>\n",
       "      <td>80</td>\n",
       "      <td>en</td>\n",
       "      <td>1.026352</td>\n",
       "      <td>8.0</td>\n",
       "      <td>15992615</td>\n",
       "      <td>80.0</td>\n",
       "      <td>7.6</td>\n",
       "      <td>580</td>\n",
       "      <td>177647.0</td>\n",
       "      <td>2004.0</td>\n",
       "      <td>0</td>\n",
       "      <td>1</td>\n",
       "      <td>0</td>\n",
       "      <td>0</td>\n",
       "      <td>0</td>\n",
       "      <td>0</td>\n",
       "      <td>0</td>\n",
       "      <td>1</td>\n",
       "      <td>0</td>\n",
       "      <td>0</td>\n",
       "      <td>0</td>\n",
       "      <td>0</td>\n",
       "      <td>0</td>\n",
       "      <td>0</td>\n",
       "      <td>0</td>\n",
       "      <td>0</td>\n",
       "      <td>0</td>\n",
       "      <td>0</td>\n",
       "      <td>0</td>\n",
       "      <td>0</td>\n",
       "    </tr>\n",
       "    <tr>\n",
       "      <th>3</th>\n",
       "      <td>0</td>\n",
       "      <td>False</td>\n",
       "      <td>430780</td>\n",
       "      <td>en</td>\n",
       "      <td>0.097190</td>\n",
       "      <td>NaN</td>\n",
       "      <td>0</td>\n",
       "      <td>54.0</td>\n",
       "      <td>8.0</td>\n",
       "      <td>4</td>\n",
       "      <td>NaN</td>\n",
       "      <td>2017.0</td>\n",
       "      <td>0</td>\n",
       "      <td>0</td>\n",
       "      <td>0</td>\n",
       "      <td>0</td>\n",
       "      <td>0</td>\n",
       "      <td>0</td>\n",
       "      <td>0</td>\n",
       "      <td>0</td>\n",
       "      <td>0</td>\n",
       "      <td>0</td>\n",
       "      <td>0</td>\n",
       "      <td>1</td>\n",
       "      <td>0</td>\n",
       "      <td>0</td>\n",
       "      <td>0</td>\n",
       "      <td>1</td>\n",
       "      <td>0</td>\n",
       "      <td>0</td>\n",
       "      <td>0</td>\n",
       "      <td>0</td>\n",
       "    </tr>\n",
       "    <tr>\n",
       "      <th>4</th>\n",
       "      <td>15000000</td>\n",
       "      <td>False</td>\n",
       "      <td>7985</td>\n",
       "      <td>en</td>\n",
       "      <td>1.222510</td>\n",
       "      <td>6.8</td>\n",
       "      <td>0</td>\n",
       "      <td>103.0</td>\n",
       "      <td>6.5</td>\n",
       "      <td>317</td>\n",
       "      <td>52587.0</td>\n",
       "      <td>2006.0</td>\n",
       "      <td>0</td>\n",
       "      <td>1</td>\n",
       "      <td>0</td>\n",
       "      <td>0</td>\n",
       "      <td>0</td>\n",
       "      <td>0</td>\n",
       "      <td>0</td>\n",
       "      <td>0</td>\n",
       "      <td>1</td>\n",
       "      <td>0</td>\n",
       "      <td>0</td>\n",
       "      <td>0</td>\n",
       "      <td>0</td>\n",
       "      <td>0</td>\n",
       "      <td>0</td>\n",
       "      <td>1</td>\n",
       "      <td>0</td>\n",
       "      <td>0</td>\n",
       "      <td>0</td>\n",
       "      <td>0</td>\n",
       "    </tr>\n",
       "  </tbody>\n",
       "</table>\n",
       "</div>"
      ],
      "text/plain": [
       "     budget  adult      id original_language  popularity  rating   revenue  \\\n",
       "0         0  False    2274                en    0.610288     4.8         0   \n",
       "1   3000000  False     826                en    1.138653     8.2  33300000   \n",
       "2   2700000  False      80                en    1.026352     8.0  15992615   \n",
       "3         0  False  430780                en    0.097190     NaN         0   \n",
       "4  15000000  False    7985                en    1.222510     6.8         0   \n",
       "\n",
       "   runtime  vote_average  vote_count     votes    year  Mystery  Romance  \\\n",
       "0     94.0           4.8          88   13504.0  2007.0        0        0   \n",
       "1    161.0           7.6         450  159094.0  1957.0        0        0   \n",
       "2     80.0           7.6         580  177647.0  2004.0        0        1   \n",
       "3     54.0           8.0           4       NaN  2017.0        0        0   \n",
       "4    103.0           6.5         317   52587.0  2006.0        0        1   \n",
       "\n",
       "   Crime  Family  Science Fiction  Horror  Foreign  Drama  Fantasy  Western  \\\n",
       "0      0       1                0       0        0      1        1        0   \n",
       "1      0       0                0       0        0      1        0        0   \n",
       "2      0       0                0       0        0      1        0        0   \n",
       "3      0       0                0       0        0      0        0        0   \n",
       "4      0       0                0       0        0      0        1        0   \n",
       "\n",
       "   Animation  Music  Adventure  Action  TV Movie  Comedy  Documentary  War  \\\n",
       "0          0      0          1       0         0       0            0    0   \n",
       "1          0      0          0       0         0       0            0    1   \n",
       "2          0      0          0       0         0       0            0    0   \n",
       "3          0      1          0       0         0       1            0    0   \n",
       "4          0      0          0       0         0       1            0    0   \n",
       "\n",
       "   Thriller  History  \n",
       "0         1        0  \n",
       "1         0        1  \n",
       "2         0        0  \n",
       "3         0        0  \n",
       "4         0        0  "
      ]
     },
     "execution_count": 19,
     "metadata": {},
     "output_type": "execute_result"
    }
   ],
   "source": [
    "full_data_condensed.head()"
   ]
  },
  {
   "cell_type": "code",
   "execution_count": 20,
   "metadata": {
    "collapsed": false
   },
   "outputs": [
    {
     "name": "stderr",
     "output_type": "stream",
     "text": [
      "/Users/chrischen/anaconda/lib/python2.7/site-packages/ipykernel/__main__.py:1: SettingWithCopyWarning: \n",
      "A value is trying to be set on a copy of a slice from a DataFrame\n",
      "\n",
      "See the caveats in the documentation: http://pandas.pydata.org/pandas-docs/stable/indexing.html#indexing-view-versus-copy\n",
      "  if __name__ == '__main__':\n"
     ]
    }
   ],
   "source": [
    "full_data_condensed.drop(\"original_language\", axis=1, inplace=True)"
   ]
  },
  {
   "cell_type": "code",
   "execution_count": 21,
   "metadata": {
    "collapsed": false
   },
   "outputs": [
    {
     "name": "stderr",
     "output_type": "stream",
     "text": [
      "/Users/chrischen/anaconda/lib/python2.7/site-packages/ipykernel/__main__.py:1: SettingWithCopyWarning: \n",
      "A value is trying to be set on a copy of a slice from a DataFrame.\n",
      "Try using .loc[row_indexer,col_indexer] = value instead\n",
      "\n",
      "See the caveats in the documentation: http://pandas.pydata.org/pandas-docs/stable/indexing.html#indexing-view-versus-copy\n",
      "  if __name__ == '__main__':\n"
     ]
    }
   ],
   "source": [
    "full_data_condensed[\"adult\"] = [int(adult) for adult in full_data_condensed[\"adult\"]]"
   ]
  },
  {
   "cell_type": "code",
   "execution_count": 22,
   "metadata": {
    "collapsed": false
   },
   "outputs": [
    {
     "data": {
      "text/html": [
       "<div>\n",
       "<table border=\"1\" class=\"dataframe\">\n",
       "  <thead>\n",
       "    <tr style=\"text-align: right;\">\n",
       "      <th></th>\n",
       "      <th>budget</th>\n",
       "      <th>adult</th>\n",
       "      <th>id</th>\n",
       "      <th>popularity</th>\n",
       "      <th>rating</th>\n",
       "      <th>revenue</th>\n",
       "      <th>runtime</th>\n",
       "      <th>vote_average</th>\n",
       "      <th>vote_count</th>\n",
       "      <th>votes</th>\n",
       "      <th>year</th>\n",
       "      <th>Mystery</th>\n",
       "      <th>Romance</th>\n",
       "      <th>Crime</th>\n",
       "      <th>Family</th>\n",
       "      <th>Science Fiction</th>\n",
       "      <th>Horror</th>\n",
       "      <th>Foreign</th>\n",
       "      <th>Drama</th>\n",
       "      <th>Fantasy</th>\n",
       "      <th>Western</th>\n",
       "      <th>Animation</th>\n",
       "      <th>Music</th>\n",
       "      <th>Adventure</th>\n",
       "      <th>Action</th>\n",
       "      <th>TV Movie</th>\n",
       "      <th>Comedy</th>\n",
       "      <th>Documentary</th>\n",
       "      <th>War</th>\n",
       "      <th>Thriller</th>\n",
       "      <th>History</th>\n",
       "    </tr>\n",
       "  </thead>\n",
       "  <tbody>\n",
       "    <tr>\n",
       "      <th>0</th>\n",
       "      <td>0</td>\n",
       "      <td>0</td>\n",
       "      <td>2274</td>\n",
       "      <td>0.610288</td>\n",
       "      <td>4.8</td>\n",
       "      <td>0</td>\n",
       "      <td>94.0</td>\n",
       "      <td>4.8</td>\n",
       "      <td>88</td>\n",
       "      <td>13504.0</td>\n",
       "      <td>2007.0</td>\n",
       "      <td>0</td>\n",
       "      <td>0</td>\n",
       "      <td>0</td>\n",
       "      <td>1</td>\n",
       "      <td>0</td>\n",
       "      <td>0</td>\n",
       "      <td>0</td>\n",
       "      <td>1</td>\n",
       "      <td>1</td>\n",
       "      <td>0</td>\n",
       "      <td>0</td>\n",
       "      <td>0</td>\n",
       "      <td>1</td>\n",
       "      <td>0</td>\n",
       "      <td>0</td>\n",
       "      <td>0</td>\n",
       "      <td>0</td>\n",
       "      <td>0</td>\n",
       "      <td>1</td>\n",
       "      <td>0</td>\n",
       "    </tr>\n",
       "    <tr>\n",
       "      <th>1</th>\n",
       "      <td>3000000</td>\n",
       "      <td>0</td>\n",
       "      <td>826</td>\n",
       "      <td>1.138653</td>\n",
       "      <td>8.2</td>\n",
       "      <td>33300000</td>\n",
       "      <td>161.0</td>\n",
       "      <td>7.6</td>\n",
       "      <td>450</td>\n",
       "      <td>159094.0</td>\n",
       "      <td>1957.0</td>\n",
       "      <td>0</td>\n",
       "      <td>0</td>\n",
       "      <td>0</td>\n",
       "      <td>0</td>\n",
       "      <td>0</td>\n",
       "      <td>0</td>\n",
       "      <td>0</td>\n",
       "      <td>1</td>\n",
       "      <td>0</td>\n",
       "      <td>0</td>\n",
       "      <td>0</td>\n",
       "      <td>0</td>\n",
       "      <td>0</td>\n",
       "      <td>0</td>\n",
       "      <td>0</td>\n",
       "      <td>0</td>\n",
       "      <td>0</td>\n",
       "      <td>1</td>\n",
       "      <td>0</td>\n",
       "      <td>1</td>\n",
       "    </tr>\n",
       "    <tr>\n",
       "      <th>2</th>\n",
       "      <td>2700000</td>\n",
       "      <td>0</td>\n",
       "      <td>80</td>\n",
       "      <td>1.026352</td>\n",
       "      <td>8.0</td>\n",
       "      <td>15992615</td>\n",
       "      <td>80.0</td>\n",
       "      <td>7.6</td>\n",
       "      <td>580</td>\n",
       "      <td>177647.0</td>\n",
       "      <td>2004.0</td>\n",
       "      <td>0</td>\n",
       "      <td>1</td>\n",
       "      <td>0</td>\n",
       "      <td>0</td>\n",
       "      <td>0</td>\n",
       "      <td>0</td>\n",
       "      <td>0</td>\n",
       "      <td>1</td>\n",
       "      <td>0</td>\n",
       "      <td>0</td>\n",
       "      <td>0</td>\n",
       "      <td>0</td>\n",
       "      <td>0</td>\n",
       "      <td>0</td>\n",
       "      <td>0</td>\n",
       "      <td>0</td>\n",
       "      <td>0</td>\n",
       "      <td>0</td>\n",
       "      <td>0</td>\n",
       "      <td>0</td>\n",
       "    </tr>\n",
       "    <tr>\n",
       "      <th>3</th>\n",
       "      <td>0</td>\n",
       "      <td>0</td>\n",
       "      <td>430780</td>\n",
       "      <td>0.097190</td>\n",
       "      <td>NaN</td>\n",
       "      <td>0</td>\n",
       "      <td>54.0</td>\n",
       "      <td>8.0</td>\n",
       "      <td>4</td>\n",
       "      <td>NaN</td>\n",
       "      <td>2017.0</td>\n",
       "      <td>0</td>\n",
       "      <td>0</td>\n",
       "      <td>0</td>\n",
       "      <td>0</td>\n",
       "      <td>0</td>\n",
       "      <td>0</td>\n",
       "      <td>0</td>\n",
       "      <td>0</td>\n",
       "      <td>0</td>\n",
       "      <td>0</td>\n",
       "      <td>0</td>\n",
       "      <td>1</td>\n",
       "      <td>0</td>\n",
       "      <td>0</td>\n",
       "      <td>0</td>\n",
       "      <td>1</td>\n",
       "      <td>0</td>\n",
       "      <td>0</td>\n",
       "      <td>0</td>\n",
       "      <td>0</td>\n",
       "    </tr>\n",
       "    <tr>\n",
       "      <th>4</th>\n",
       "      <td>15000000</td>\n",
       "      <td>0</td>\n",
       "      <td>7985</td>\n",
       "      <td>1.222510</td>\n",
       "      <td>6.8</td>\n",
       "      <td>0</td>\n",
       "      <td>103.0</td>\n",
       "      <td>6.5</td>\n",
       "      <td>317</td>\n",
       "      <td>52587.0</td>\n",
       "      <td>2006.0</td>\n",
       "      <td>0</td>\n",
       "      <td>1</td>\n",
       "      <td>0</td>\n",
       "      <td>0</td>\n",
       "      <td>0</td>\n",
       "      <td>0</td>\n",
       "      <td>0</td>\n",
       "      <td>0</td>\n",
       "      <td>1</td>\n",
       "      <td>0</td>\n",
       "      <td>0</td>\n",
       "      <td>0</td>\n",
       "      <td>0</td>\n",
       "      <td>0</td>\n",
       "      <td>0</td>\n",
       "      <td>1</td>\n",
       "      <td>0</td>\n",
       "      <td>0</td>\n",
       "      <td>0</td>\n",
       "      <td>0</td>\n",
       "    </tr>\n",
       "  </tbody>\n",
       "</table>\n",
       "</div>"
      ],
      "text/plain": [
       "     budget  adult      id  popularity  rating   revenue  runtime  \\\n",
       "0         0      0    2274    0.610288     4.8         0     94.0   \n",
       "1   3000000      0     826    1.138653     8.2  33300000    161.0   \n",
       "2   2700000      0      80    1.026352     8.0  15992615     80.0   \n",
       "3         0      0  430780    0.097190     NaN         0     54.0   \n",
       "4  15000000      0    7985    1.222510     6.8         0    103.0   \n",
       "\n",
       "   vote_average  vote_count     votes    year  Mystery  Romance  Crime  \\\n",
       "0           4.8          88   13504.0  2007.0        0        0      0   \n",
       "1           7.6         450  159094.0  1957.0        0        0      0   \n",
       "2           7.6         580  177647.0  2004.0        0        1      0   \n",
       "3           8.0           4       NaN  2017.0        0        0      0   \n",
       "4           6.5         317   52587.0  2006.0        0        1      0   \n",
       "\n",
       "   Family  Science Fiction  Horror  Foreign  Drama  Fantasy  Western  \\\n",
       "0       1                0       0        0      1        1        0   \n",
       "1       0                0       0        0      1        0        0   \n",
       "2       0                0       0        0      1        0        0   \n",
       "3       0                0       0        0      0        0        0   \n",
       "4       0                0       0        0      0        1        0   \n",
       "\n",
       "   Animation  Music  Adventure  Action  TV Movie  Comedy  Documentary  War  \\\n",
       "0          0      0          1       0         0       0            0    0   \n",
       "1          0      0          0       0         0       0            0    1   \n",
       "2          0      0          0       0         0       0            0    0   \n",
       "3          0      1          0       0         0       1            0    0   \n",
       "4          0      0          0       0         0       1            0    0   \n",
       "\n",
       "   Thriller  History  \n",
       "0         1        0  \n",
       "1         0        1  \n",
       "2         0        0  \n",
       "3         0        0  \n",
       "4         0        0  "
      ]
     },
     "execution_count": 22,
     "metadata": {},
     "output_type": "execute_result"
    }
   ],
   "source": [
    "full_data_condensed.head()"
   ]
  },
  {
   "cell_type": "code",
   "execution_count": 23,
   "metadata": {
    "collapsed": false
   },
   "outputs": [
    {
     "name": "stderr",
     "output_type": "stream",
     "text": [
      "/Users/chrischen/anaconda/lib/python2.7/site-packages/ipykernel/__main__.py:1: SettingWithCopyWarning: \n",
      "A value is trying to be set on a copy of a slice from a DataFrame\n",
      "\n",
      "See the caveats in the documentation: http://pandas.pydata.org/pandas-docs/stable/indexing.html#indexing-view-versus-copy\n",
      "  if __name__ == '__main__':\n"
     ]
    }
   ],
   "source": [
    "full_data_condensed.drop(\"adult\", axis=1, inplace=True)"
   ]
  },
  {
   "cell_type": "code",
   "execution_count": 25,
   "metadata": {
    "collapsed": false
   },
   "outputs": [],
   "source": [
    "train_rows = [tmdb_id in train_test_indices[\"train\"] for tmdb_id in full_data_condensed[\"id\"]]\n",
    "val_rows = [tmdb_id in train_test_indices[\"validation\"] for tmdb_id in full_data_condensed[\"id\"]]"
   ]
  },
  {
   "cell_type": "code",
   "execution_count": 26,
   "metadata": {
    "collapsed": false
   },
   "outputs": [],
   "source": [
    "df_test = full_data_condensed[[tmdb_id in train_test_indices[\"test\"] for tmdb_id in full_data_condensed[\"id\"]]]"
   ]
  },
  {
   "cell_type": "code",
   "execution_count": 27,
   "metadata": {
    "collapsed": false
   },
   "outputs": [
    {
     "data": {
      "text/plain": [
       "-17"
      ]
     },
     "execution_count": 27,
     "metadata": {},
     "output_type": "execute_result"
    }
   ],
   "source": [
    "len(df_test[\"id\"]) - len(train_test_indices[\"test\"])"
   ]
  },
  {
   "cell_type": "code",
   "execution_count": 28,
   "metadata": {
    "collapsed": false
   },
   "outputs": [],
   "source": [
    "with open(\"test_condensed.pickle\", \"wb\") as handle:\n",
    "    pickle.dump(df_test, handle, protocol=pickle.HIGHEST_PROTOCOL)"
   ]
  },
  {
   "cell_type": "code",
   "execution_count": 29,
   "metadata": {
    "collapsed": true
   },
   "outputs": [],
   "source": [
    "df_train = full_data_condensed[train_rows]\n",
    "df_val = full_data_condensed[val_rows]"
   ]
  },
  {
   "cell_type": "code",
   "execution_count": 31,
   "metadata": {
    "collapsed": false
   },
   "outputs": [
    {
     "data": {
      "text/plain": [
       "21"
      ]
     },
     "execution_count": 31,
     "metadata": {},
     "output_type": "execute_result"
    }
   ],
   "source": [
    "len(set(train_test_indices[\"validation\"]) - set(list(df_val[\"id\"])))"
   ]
  },
  {
   "cell_type": "code",
   "execution_count": null,
   "metadata": {
    "collapsed": true
   },
   "outputs": [],
   "source": [
    "df_train.to_csv(\"full_data_train.csv\")\n",
    "df_test.to_csv(\"full_data_test.csv\")\n",
    "df_val.to_csv(\"full_data_val.csv\")"
   ]
  },
  {
   "cell_type": "code",
   "execution_count": null,
   "metadata": {
    "collapsed": false
   },
   "outputs": [],
   "source": [
    "train_test_indices.keys()"
   ]
  },
  {
   "cell_type": "code",
   "execution_count": null,
   "metadata": {
    "collapsed": false
   },
   "outputs": [],
   "source": [
    "imdb5k = pd.read_pickle('imdb5000onehot.pkl')\n",
    "imdb5k.head()"
   ]
  },
  {
   "cell_type": "code",
   "execution_count": null,
   "metadata": {
    "collapsed": false
   },
   "outputs": [],
   "source": [
    "imdb5k.columns"
   ]
  },
  {
   "cell_type": "code",
   "execution_count": null,
   "metadata": {
    "collapsed": false
   },
   "outputs": [],
   "source": [
    "# print categoricals\n",
    "for col in imdb5k.columns:\n",
    "    if imdb5k[col].dtype == 'object':\n",
    "        print col"
   ]
  },
  {
   "cell_type": "code",
   "execution_count": null,
   "metadata": {
    "collapsed": false
   },
   "outputs": [],
   "source": [
    "imdb5k['plot_keywords'].head()"
   ]
  },
  {
   "cell_type": "code",
   "execution_count": null,
   "metadata": {
    "collapsed": true
   },
   "outputs": [],
   "source": [
    "# one-hot encode select categoricals\n",
    "# good_categories = ['color', 'country', 'content_rating']\n",
    "good_categories = []\n",
    "imdb_quant = pd.DataFrame()\n",
    "for col in imdb5k.columns:\n",
    "    if imdb5k[col].dtype != 'object':\n",
    "        imdb_quant[col] = imdb5k[col]\n",
    "    elif col in good_categories:\n",
    "        imdb_quant = pd.concat([imdb_quant, pd.get_dummies(imdb5k[col])], axis=1)"
   ]
  },
  {
   "cell_type": "code",
   "execution_count": null,
   "metadata": {
    "collapsed": true
   },
   "outputs": [],
   "source": [
    "# x y split\n",
    "imdb5k_X = imdb_quant.ix[:,0:list(imdb_quant.columns).index('i_Sci-Fi')]\n",
    "imdb5k_Y = imdb_quant.ix[:,list(imdb_quant.columns).index('i_Sci-Fi'):len(imdb_quant.columns)]\n",
    "\n",
    "# impute\n",
    "def impute(dataf):\n",
    "    for col in dataf.columns:\n",
    "        dataf[col].fillna(dataf[col].mean(), inplace=True)\n",
    "impute(imdb5k_X)\n",
    "impute(imdb5k_Y)\n",
    "\n",
    "# train test split\n",
    "x_train, x_test, y_train, y_test = train_test_split(imdb5k_X, imdb5k_Y, stratify = imdb5k_Y)"
   ]
  },
  {
   "cell_type": "code",
   "execution_count": null,
   "metadata": {
    "collapsed": false
   },
   "outputs": [],
   "source": [
    "params = {\n",
    "    'n_estimators': [100],\n",
    "    'max_features': ['auto', 'log2', None, 1] + range(5, 20, 5),\n",
    "    'n_jobs' : [-1]\n",
    "}\n",
    "\n",
    "CV_rf = GridSearchCV(RandomForestClassifier(), param_grid=params, cv=5, n_jobs=-1)\n",
    "CV_rf.fit(x_train, y_train)\n",
    "print CV_rf.best_params_\n",
    "print CV_rf.best_score_\n",
    "print CV_rf.score(x_test, y_test)"
   ]
  },
  {
   "cell_type": "code",
   "execution_count": null,
   "metadata": {
    "collapsed": false
   },
   "outputs": [],
   "source": [
    "hamming_loss(y_test, CV_rf.predict(x_test))"
   ]
  },
  {
   "cell_type": "code",
   "execution_count": null,
   "metadata": {
    "collapsed": false
   },
   "outputs": [],
   "source": [
    "pd.DataFrame({'feature': x_train.columns, 'importance': CV_rf.best_estimator_.feature_importances_})"
   ]
  },
  {
   "cell_type": "code",
   "execution_count": null,
   "metadata": {
    "collapsed": true
   },
   "outputs": [],
   "source": [
    "# x y split\n",
    "imdb5k_X = imdb_quant.ix[:,0:list(imdb_quant.columns).index('i_Sci-Fi')]\n",
    "imdb5k_Y = imdb_quant.ix[:,list(imdb_quant.columns).index('i_Sci-Fi'):len(imdb_quant.columns)]\n",
    "\n",
    "# impute\n",
    "def impute(dataf):\n",
    "    for col in dataf.columns:\n",
    "        dataf[col].fillna(dataf[col].mean(), inplace=True)\n",
    "impute(imdb5k_X)\n",
    "impute(imdb5k_Y)\n",
    "\n",
    "# train test split\n",
    "x_train, x_test, y_train, y_test = train_test_split(imdb5k_X, imdb5k_Y, stratify = imdb5k_Y)"
   ]
  },
  {
   "cell_type": "markdown",
   "metadata": {},
   "source": [
    "## On TMDb + IMDb Data"
   ]
  },
  {
   "cell_type": "code",
   "execution_count": null,
   "metadata": {
    "collapsed": false
   },
   "outputs": [],
   "source": [
    "df_train.drop(\"id\", axis=1, inplace=True)\n",
    "df_test.drop(\"id\", axis=1, inplace=True)\n",
    "\n",
    "# x y split\n",
    "train_X = df_train.ix[:,0:list(df_train.columns).index('Mystery')]\n",
    "train_Y = df_train.ix[:,list(df_train.columns).index('Mystery'):len(df_train.columns)]\n",
    "\n",
    "test_X = df_test.ix[:,0:list(df_test.columns).index('Mystery')]\n",
    "test_Y = df_test.ix[:,list(df_test.columns).index('Mystery'):len(df_test.columns)]\n",
    "\n",
    "# impute\n",
    "def impute(dataf):\n",
    "    for col in dataf.columns:\n",
    "        dataf[col].fillna(dataf[col].mean(), inplace=True)\n",
    "\n",
    "impute(train_X)\n",
    "impute(train_Y)\n",
    "impute(test_X)\n",
    "impute(test_Y)"
   ]
  },
  {
   "cell_type": "code",
   "execution_count": null,
   "metadata": {
    "collapsed": false
   },
   "outputs": [],
   "source": [
    "train_X.columns"
   ]
  },
  {
   "cell_type": "code",
   "execution_count": null,
   "metadata": {
    "collapsed": false
   },
   "outputs": [],
   "source": [
    "params = {\n",
    "    'n_estimators': [100],\n",
    "    'max_features': ['auto', 'log2', None, 1, 3, 5, 7, 9],\n",
    "    'n_jobs' : [-1]\n",
    "}\n",
    "\n",
    "CV_rf = GridSearchCV(RandomForestClassifier(), param_grid=params, cv=5, n_jobs=-1)\n",
    "CV_rf.fit(train_X, train_Y)\n",
    "print CV_rf.best_params_\n",
    "print CV_rf.best_score_\n",
    "print CV_rf.score(test_X, test_Y)"
   ]
  },
  {
   "cell_type": "code",
   "execution_count": null,
   "metadata": {
    "collapsed": false
   },
   "outputs": [],
   "source": [
    "hamming_loss(test_Y, CV_rf.predict(test_X))"
   ]
  },
  {
   "cell_type": "code",
   "execution_count": null,
   "metadata": {
    "collapsed": false
   },
   "outputs": [],
   "source": [
    "pd.DataFrame({'feature': train_X.columns, 'importance': CV_rf.best_estimator_.feature_importances_})"
   ]
  }
 ],
 "metadata": {
  "kernelspec": {
   "display_name": "Python 2",
   "language": "python",
   "name": "python2"
  },
  "language_info": {
   "codemirror_mode": {
    "name": "ipython",
    "version": 2
   },
   "file_extension": ".py",
   "mimetype": "text/x-python",
   "name": "python",
   "nbconvert_exporter": "python",
   "pygments_lexer": "ipython2",
   "version": "2.7.13"
  }
 },
 "nbformat": 4,
 "nbformat_minor": 2
}
