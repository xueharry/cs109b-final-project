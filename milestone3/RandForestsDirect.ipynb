{
 "cells": [
  {
   "cell_type": "markdown",
   "metadata": {},
   "source": [
    "# Random Forests Algorithm Adaptation"
   ]
  },
  {
   "cell_type": "code",
   "execution_count": 62,
   "metadata": {},
   "outputs": [],
   "source": [
    "import pandas as pd\n",
    "import sklearn as sk\n",
    "from sklearn.model_selection import train_test_split\n",
    "from sklearn.metrics import hamming_loss\n",
    "from sklearn.ensemble import RandomForestClassifier\n",
    "from sklearn.model_selection import GridSearchCV"
   ]
  },
  {
   "cell_type": "code",
   "execution_count": 18,
   "metadata": {},
   "outputs": [
    {
     "data": {
      "text/html": [
       "<div>\n",
       "<table border=\"1\" class=\"dataframe\">\n",
       "  <thead>\n",
       "    <tr style=\"text-align: right;\">\n",
       "      <th></th>\n",
       "      <th>color</th>\n",
       "      <th>director_name</th>\n",
       "      <th>num_critic_for_reviews</th>\n",
       "      <th>duration</th>\n",
       "      <th>director_facebook_likes</th>\n",
       "      <th>actor_3_facebook_likes</th>\n",
       "      <th>actor_2_name</th>\n",
       "      <th>actor_1_facebook_likes</th>\n",
       "      <th>gross</th>\n",
       "      <th>actor_1_name</th>\n",
       "      <th>...</th>\n",
       "      <th>i_Drama</th>\n",
       "      <th>i_Action</th>\n",
       "      <th>i_Documentary</th>\n",
       "      <th>i_Musical</th>\n",
       "      <th>i_History</th>\n",
       "      <th>i_Family</th>\n",
       "      <th>i_Fantasy</th>\n",
       "      <th>i_Game-Show</th>\n",
       "      <th>i_Sport</th>\n",
       "      <th>i_Biography</th>\n",
       "    </tr>\n",
       "  </thead>\n",
       "  <tbody>\n",
       "    <tr>\n",
       "      <th>0</th>\n",
       "      <td>Color</td>\n",
       "      <td>James Cameron</td>\n",
       "      <td>723.0</td>\n",
       "      <td>178.0</td>\n",
       "      <td>0.0</td>\n",
       "      <td>855.0</td>\n",
       "      <td>Joel David Moore</td>\n",
       "      <td>1000.0</td>\n",
       "      <td>760505847.0</td>\n",
       "      <td>CCH Pounder</td>\n",
       "      <td>...</td>\n",
       "      <td>0</td>\n",
       "      <td>1</td>\n",
       "      <td>0</td>\n",
       "      <td>0</td>\n",
       "      <td>0</td>\n",
       "      <td>0</td>\n",
       "      <td>1</td>\n",
       "      <td>0</td>\n",
       "      <td>0</td>\n",
       "      <td>0</td>\n",
       "    </tr>\n",
       "    <tr>\n",
       "      <th>1</th>\n",
       "      <td>Color</td>\n",
       "      <td>Gore Verbinski</td>\n",
       "      <td>302.0</td>\n",
       "      <td>169.0</td>\n",
       "      <td>563.0</td>\n",
       "      <td>1000.0</td>\n",
       "      <td>Orlando Bloom</td>\n",
       "      <td>40000.0</td>\n",
       "      <td>309404152.0</td>\n",
       "      <td>Johnny Depp</td>\n",
       "      <td>...</td>\n",
       "      <td>0</td>\n",
       "      <td>1</td>\n",
       "      <td>0</td>\n",
       "      <td>0</td>\n",
       "      <td>0</td>\n",
       "      <td>0</td>\n",
       "      <td>1</td>\n",
       "      <td>0</td>\n",
       "      <td>0</td>\n",
       "      <td>0</td>\n",
       "    </tr>\n",
       "    <tr>\n",
       "      <th>2</th>\n",
       "      <td>Color</td>\n",
       "      <td>Sam Mendes</td>\n",
       "      <td>602.0</td>\n",
       "      <td>148.0</td>\n",
       "      <td>0.0</td>\n",
       "      <td>161.0</td>\n",
       "      <td>Rory Kinnear</td>\n",
       "      <td>11000.0</td>\n",
       "      <td>200074175.0</td>\n",
       "      <td>Christoph Waltz</td>\n",
       "      <td>...</td>\n",
       "      <td>0</td>\n",
       "      <td>1</td>\n",
       "      <td>0</td>\n",
       "      <td>0</td>\n",
       "      <td>0</td>\n",
       "      <td>0</td>\n",
       "      <td>0</td>\n",
       "      <td>0</td>\n",
       "      <td>0</td>\n",
       "      <td>0</td>\n",
       "    </tr>\n",
       "    <tr>\n",
       "      <th>3</th>\n",
       "      <td>Color</td>\n",
       "      <td>Christopher Nolan</td>\n",
       "      <td>813.0</td>\n",
       "      <td>164.0</td>\n",
       "      <td>22000.0</td>\n",
       "      <td>23000.0</td>\n",
       "      <td>Christian Bale</td>\n",
       "      <td>27000.0</td>\n",
       "      <td>448130642.0</td>\n",
       "      <td>Tom Hardy</td>\n",
       "      <td>...</td>\n",
       "      <td>0</td>\n",
       "      <td>1</td>\n",
       "      <td>0</td>\n",
       "      <td>0</td>\n",
       "      <td>0</td>\n",
       "      <td>0</td>\n",
       "      <td>0</td>\n",
       "      <td>0</td>\n",
       "      <td>0</td>\n",
       "      <td>0</td>\n",
       "    </tr>\n",
       "    <tr>\n",
       "      <th>4</th>\n",
       "      <td>NaN</td>\n",
       "      <td>Doug Walker</td>\n",
       "      <td>NaN</td>\n",
       "      <td>NaN</td>\n",
       "      <td>131.0</td>\n",
       "      <td>NaN</td>\n",
       "      <td>Rob Walker</td>\n",
       "      <td>131.0</td>\n",
       "      <td>NaN</td>\n",
       "      <td>Doug Walker</td>\n",
       "      <td>...</td>\n",
       "      <td>0</td>\n",
       "      <td>0</td>\n",
       "      <td>1</td>\n",
       "      <td>0</td>\n",
       "      <td>0</td>\n",
       "      <td>0</td>\n",
       "      <td>0</td>\n",
       "      <td>0</td>\n",
       "      <td>0</td>\n",
       "      <td>0</td>\n",
       "    </tr>\n",
       "  </tbody>\n",
       "</table>\n",
       "<p>5 rows × 54 columns</p>\n",
       "</div>"
      ],
      "text/plain": [
       "   color      director_name  num_critic_for_reviews  duration  \\\n",
       "0  Color      James Cameron                   723.0     178.0   \n",
       "1  Color     Gore Verbinski                   302.0     169.0   \n",
       "2  Color         Sam Mendes                   602.0     148.0   \n",
       "3  Color  Christopher Nolan                   813.0     164.0   \n",
       "4    NaN        Doug Walker                     NaN       NaN   \n",
       "\n",
       "   director_facebook_likes  actor_3_facebook_likes      actor_2_name  \\\n",
       "0                      0.0                   855.0  Joel David Moore   \n",
       "1                    563.0                  1000.0     Orlando Bloom   \n",
       "2                      0.0                   161.0      Rory Kinnear   \n",
       "3                  22000.0                 23000.0    Christian Bale   \n",
       "4                    131.0                     NaN        Rob Walker   \n",
       "\n",
       "   actor_1_facebook_likes        gross     actor_1_name     ...     i_Drama  \\\n",
       "0                  1000.0  760505847.0      CCH Pounder     ...           0   \n",
       "1                 40000.0  309404152.0      Johnny Depp     ...           0   \n",
       "2                 11000.0  200074175.0  Christoph Waltz     ...           0   \n",
       "3                 27000.0  448130642.0        Tom Hardy     ...           0   \n",
       "4                   131.0          NaN      Doug Walker     ...           0   \n",
       "\n",
       "   i_Action  i_Documentary i_Musical  i_History i_Family i_Fantasy  \\\n",
       "0         1              0         0          0        0         1   \n",
       "1         1              0         0          0        0         1   \n",
       "2         1              0         0          0        0         0   \n",
       "3         1              0         0          0        0         0   \n",
       "4         0              1         0          0        0         0   \n",
       "\n",
       "   i_Game-Show i_Sport i_Biography  \n",
       "0            0       0           0  \n",
       "1            0       0           0  \n",
       "2            0       0           0  \n",
       "3            0       0           0  \n",
       "4            0       0           0  \n",
       "\n",
       "[5 rows x 54 columns]"
      ]
     },
     "execution_count": 18,
     "metadata": {},
     "output_type": "execute_result"
    }
   ],
   "source": [
    "imdb5k = pd.read_pickle('imdb5000onehot.pkl')\n",
    "imdb5k.head()"
   ]
  },
  {
   "cell_type": "code",
   "execution_count": 19,
   "metadata": {},
   "outputs": [
    {
     "data": {
      "text/plain": [
       "Index([u'color', u'director_name', u'num_critic_for_reviews', u'duration',\n",
       "       u'director_facebook_likes', u'actor_3_facebook_likes', u'actor_2_name',\n",
       "       u'actor_1_facebook_likes', u'gross', u'actor_1_name', u'movie_title',\n",
       "       u'num_voted_users', u'cast_total_facebook_likes', u'actor_3_name',\n",
       "       u'facenumber_in_poster', u'plot_keywords', u'movie_imdb_link',\n",
       "       u'num_user_for_reviews', u'language', u'country', u'content_rating',\n",
       "       u'budget', u'title_year', u'actor_2_facebook_likes', u'imdb_score',\n",
       "       u'aspect_ratio', u'movie_facebook_likes', u'genres_id', u'i_Sci-Fi',\n",
       "       u'i_Crime', u'i_Romance', u'i_Animation', u'i_Music', u'i_Comedy',\n",
       "       u'i_War', u'i_Horror', u'i_Film-Noir', u'i_Adventure', u'i_News',\n",
       "       u'i_Reality-TV', u'i_Thriller', u'i_Western', u'i_Mystery', u'i_Short',\n",
       "       u'i_Drama', u'i_Action', u'i_Documentary', u'i_Musical', u'i_History',\n",
       "       u'i_Family', u'i_Fantasy', u'i_Game-Show', u'i_Sport', u'i_Biography'],\n",
       "      dtype='object')"
      ]
     },
     "execution_count": 19,
     "metadata": {},
     "output_type": "execute_result"
    }
   ],
   "source": [
    "imdb5k.columns"
   ]
  },
  {
   "cell_type": "code",
   "execution_count": 20,
   "metadata": {},
   "outputs": [
    {
     "name": "stdout",
     "output_type": "stream",
     "text": [
      "color\n",
      "director_name\n",
      "actor_2_name\n",
      "actor_1_name\n",
      "movie_title\n",
      "actor_3_name\n",
      "plot_keywords\n",
      "movie_imdb_link\n",
      "language\n",
      "country\n",
      "content_rating\n"
     ]
    }
   ],
   "source": [
    "# print categoricals\n",
    "for col in imdb5k.columns:\n",
    "    if imdb5k[col].dtype == 'object':\n",
    "        print col"
   ]
  },
  {
   "cell_type": "code",
   "execution_count": 21,
   "metadata": {},
   "outputs": [
    {
     "data": {
      "text/plain": [
       "0               avatar|future|marine|native|paraplegic\n",
       "1    goddess|marriage ceremony|marriage proposal|pi...\n",
       "2                  bomb|espionage|sequel|spy|terrorist\n",
       "3    deception|imprisonment|lawlessness|police offi...\n",
       "4                                                  NaN\n",
       "Name: plot_keywords, dtype: object"
      ]
     },
     "execution_count": 21,
     "metadata": {},
     "output_type": "execute_result"
    }
   ],
   "source": [
    "imdb5k['plot_keywords'].head()"
   ]
  },
  {
   "cell_type": "code",
   "execution_count": 86,
   "metadata": {
    "collapsed": true
   },
   "outputs": [],
   "source": [
    "# one-hot encode select categoricals\n",
    "# good_categories = ['color', 'country', 'content_rating']\n",
    "good_categories = []\n",
    "imdb_quant = pd.DataFrame()\n",
    "for col in imdb5k.columns:\n",
    "    if imdb5k[col].dtype != 'object':\n",
    "        imdb_quant[col] = imdb5k[col]\n",
    "    elif col in good_categories:\n",
    "        imdb_quant = pd.concat([imdb_quant, pd.get_dummies(imdb5k[col])], axis=1)"
   ]
  },
  {
   "cell_type": "code",
   "execution_count": 87,
   "metadata": {
    "collapsed": true
   },
   "outputs": [],
   "source": [
    "# x y split\n",
    "imdb5k_X = imdb_quant.ix[:,0:list(imdb_quant.columns).index('i_Sci-Fi')]\n",
    "imdb5k_Y = imdb_quant.ix[:,list(imdb_quant.columns).index('i_Sci-Fi'):len(imdb_quant.columns)]\n",
    "\n",
    "# impute\n",
    "def impute(dataf):\n",
    "    for col in dataf.columns:\n",
    "        dataf[col].fillna(dataf[col].mean(), inplace=True)\n",
    "impute(imdb5k_X)\n",
    "impute(imdb5k_Y)\n",
    "\n",
    "# train test split\n",
    "x_train, x_test, y_train, y_test = train_test_split(imdb5k_X, imdb5k_Y, stratify = imdb5k_Y)"
   ]
  },
  {
   "cell_type": "code",
   "execution_count": null,
   "metadata": {},
   "outputs": [],
   "source": [
    "params = {\n",
    "    'n_estimators': [100],\n",
    "    'max_features': ['auto', 'log2', None, 1] + range(5, 20, 5),\n",
    "    'n_jobs' : [-1]\n",
    "}\n",
    "\n",
    "CV_rf = GridSearchCV(RandomForestClassifier(), param_grid=params, cv=5, n_jobs=-1)\n",
    "CV_rf.fit(x_train, y_train)\n",
    "print CV_rf.best_params_\n",
    "print CV_rf.best_score_\n",
    "print CV_rf.score(x_test, y_test)"
   ]
  },
  {
   "cell_type": "code",
   "execution_count": 75,
   "metadata": {},
   "outputs": [
    {
     "data": {
      "text/plain": [
       "0.008265723174525712"
      ]
     },
     "execution_count": 75,
     "metadata": {},
     "output_type": "execute_result"
    }
   ],
   "source": [
    "hamming_loss(y_test, CV_rf.predict(x_test))"
   ]
  },
  {
   "cell_type": "code",
   "execution_count": 72,
   "metadata": {},
   "outputs": [
    {
     "name": "stdout",
     "output_type": "stream",
     "text": [
      "['auto', 'log2', 'None', 1, 5, 10, 15, 20, 25]\n"
     ]
    }
   ],
   "source": [
    "print ['auto', 'log2', None, 1] + range(5, 30, 5)"
   ]
  },
  {
   "cell_type": "code",
   "execution_count": 76,
   "metadata": {
    "collapsed": true
   },
   "outputs": [],
   "source": [
    "preds = CV_rf.predict(x_test)"
   ]
  }
 ],
 "metadata": {
  "kernelspec": {
   "display_name": "Python 2",
   "language": "python",
   "name": "python2"
  },
  "language_info": {
   "codemirror_mode": {
    "name": "ipython",
    "version": 2
   },
   "file_extension": ".py",
   "mimetype": "text/x-python",
   "name": "python",
   "nbconvert_exporter": "python",
   "pygments_lexer": "ipython2",
   "version": "2.7.13"
  }
 },
 "nbformat": 4,
 "nbformat_minor": 2
}
