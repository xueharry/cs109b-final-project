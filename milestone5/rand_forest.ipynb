{
 "cells": [
  {
   "cell_type": "markdown",
   "metadata": {},
   "source": [
    "# Multilabel Random Forest"
   ]
  },
  {
   "cell_type": "markdown",
   "metadata": {},
   "source": [
    "Performing multilabel random forest classification for both metadata features and features generated through deep learning on the movie posters."
   ]
  },
  {
   "cell_type": "code",
   "execution_count": 58,
   "metadata": {},
   "outputs": [
    {
     "name": "stdout",
     "output_type": "stream",
     "text": [
      "\n"
     ]
    }
   ],
   "source": [
    "import pandas as pd\n",
    "import sklearn as sk\n",
    "from sklearn.metrics import hamming_loss\n",
    "from sklearn.ensemble import RandomForestClassifier\n",
    "from sklearn.grid_search import GridSearchCV\n",
    "import pickle\n",
    "import sklearn.metrics as skmetrics\n",
    "import numpy as np"
   ]
  },
  {
   "cell_type": "code",
   "execution_count": 46,
   "metadata": {},
   "outputs": [],
   "source": [
    "train_features = np.load('bottleneck_features_train.npy')\n",
    "val_features = np.load('bottleneck_features_validation.npy')"
   ]
  },
  {
   "cell_type": "code",
   "execution_count": 3,
   "metadata": {
    "collapsed": true
   },
   "outputs": [],
   "source": [
    "train_multilabels = np.load('train_multilabels.npy')\n",
    "val_multilabels = np.load('val_multilabels.npy')"
   ]
  },
  {
   "cell_type": "code",
   "execution_count": 9,
   "metadata": {},
   "outputs": [],
   "source": [
    "clean_train = pd.read_csv(\"clean_train.csv\")\n",
    "clean_val = pd.read_csv(\"clean_val.csv\")"
   ]
  },
  {
   "cell_type": "code",
   "execution_count": 10,
   "metadata": {
    "collapsed": true
   },
   "outputs": [],
   "source": [
    "clean_train.drop(\"id\", axis=1, inplace=True)\n",
    "clean_val.drop(\"id\", axis=1, inplace=True)"
   ]
  },
  {
   "cell_type": "code",
   "execution_count": 11,
   "metadata": {},
   "outputs": [],
   "source": [
    "# x y split\n",
    "train_X = clean_train.ix[:,0:list(clean_train.columns).index('Action')]\n",
    "train_Y = clean_train.ix[:,list(clean_train.columns).index('Action'):len(clean_train.columns)]\n",
    "\n",
    "test_X = clean_val.ix[:,0:list(clean_val.columns).index('Action')]\n",
    "test_Y = clean_val.ix[:,list(clean_val.columns).index('Action'):len(clean_val.columns)]\n"
   ]
  },
  {
   "cell_type": "code",
   "execution_count": 47,
   "metadata": {},
   "outputs": [
    {
     "data": {
      "text/plain": [
       "(9108, 7, 7, 512)"
      ]
     },
     "execution_count": 47,
     "metadata": {},
     "output_type": "execute_result"
    }
   ],
   "source": [
    "train_features.shape"
   ]
  },
  {
   "cell_type": "code",
   "execution_count": 48,
   "metadata": {},
   "outputs": [],
   "source": [
    "train_features_reshaped = train_features.reshape(9108, 7 * 7 * 512)"
   ]
  },
  {
   "cell_type": "code",
   "execution_count": 49,
   "metadata": {},
   "outputs": [
    {
     "data": {
      "text/plain": [
       "(1139, 7, 7, 512)"
      ]
     },
     "execution_count": 49,
     "metadata": {},
     "output_type": "execute_result"
    }
   ],
   "source": [
    "val_features.shape"
   ]
  },
  {
   "cell_type": "code",
   "execution_count": 50,
   "metadata": {
    "collapsed": true
   },
   "outputs": [],
   "source": [
    "val_features_reshaped = val_features.reshape(1139, 7 * 7 * 512)"
   ]
  },
  {
   "cell_type": "markdown",
   "metadata": {},
   "source": [
    "## Random Forest on Bottleneck Features from Poster Images"
   ]
  },
  {
   "cell_type": "code",
   "execution_count": 51,
   "metadata": {
    "collapsed": true
   },
   "outputs": [],
   "source": [
    "rf = RandomForestClassifier(n_jobs=-1, n_estimators=100)"
   ]
  },
  {
   "cell_type": "code",
   "execution_count": 52,
   "metadata": {},
   "outputs": [
    {
     "data": {
      "text/plain": [
       "RandomForestClassifier(bootstrap=True, class_weight=None, criterion='gini',\n",
       "            max_depth=None, max_features='auto', max_leaf_nodes=None,\n",
       "            min_samples_leaf=1, min_samples_split=2,\n",
       "            min_weight_fraction_leaf=0.0, n_estimators=100, n_jobs=-1,\n",
       "            oob_score=False, random_state=None, verbose=0,\n",
       "            warm_start=False)"
      ]
     },
     "execution_count": 52,
     "metadata": {},
     "output_type": "execute_result"
    }
   ],
   "source": [
    "rf.fit(train_features_reshaped, train_multilabels)"
   ]
  },
  {
   "cell_type": "code",
   "execution_count": 56,
   "metadata": {},
   "outputs": [
    {
     "name": "stdout",
     "output_type": "stream",
     "text": [
      "0.999231444884\n",
      "0.00263388937665\n",
      "0.132835820896\n"
     ]
    }
   ],
   "source": [
    "print rf.score(train_features_reshaped, train_Y)\n",
    "print rf.score(val_features_reshaped, test_Y)\n",
    "print hamming_loss(test_Y, rf.predict(val_features_reshaped))"
   ]
  },
  {
   "cell_type": "code",
   "execution_count": 62,
   "metadata": {},
   "outputs": [
    {
     "name": "stdout",
     "output_type": "stream",
     "text": [
      "Performance of Bottleneck Random Forest Predictions on Validation Set\n",
      "hamming loss: 0.132835820896\n",
      "jaccard similarity: 0.0126134035704\n",
      "zero one loss: 0.997366110623\n",
      "exact match ratio: 0.00263388937665\n"
     ]
    }
   ],
   "source": [
    "bottle_neck_preds = rf.predict(val_features_reshaped)\n",
    "print 'Performance of Bottleneck Random Forest Predictions on Validation Set'\n",
    "print 'hamming loss:', skmetrics.hamming_loss(test_Y, bottle_neck_preds)\n",
    "print 'jaccard similarity:', skmetrics.jaccard_similarity_score(test_Y, bottle_neck_preds)\n",
    "print 'zero one loss:', skmetrics.zero_one_loss(test_Y, bottle_neck_preds)\n",
    "print 'exact match ratio:', skmetrics.accuracy_score(test_Y, bottle_neck_preds)"
   ]
  },
  {
   "cell_type": "markdown",
   "metadata": {},
   "source": [
    "## Random Forest on Metadata"
   ]
  },
  {
   "cell_type": "code",
   "execution_count": 12,
   "metadata": {},
   "outputs": [
    {
     "name": "stdout",
     "output_type": "stream",
     "text": [
      "{'max_features': None, 'n_estimators': 100, 'n_jobs': -1}\n",
      "0.0707070707071\n",
      "0.0684811237928\n"
     ]
    }
   ],
   "source": [
    "params = {\n",
    "    'n_estimators': [100],\n",
    "    'max_features': ['auto', 'log2', None, 1, 3, 5, 7, 9],\n",
    "    'n_jobs' : [-1]\n",
    "}\n",
    "\n",
    "CV_rf = GridSearchCV(RandomForestClassifier(), param_grid=params, cv=5, n_jobs=-1)\n",
    "CV_rf.fit(train_X, train_Y)\n",
    "print CV_rf.best_params_\n",
    "print CV_rf.best_score_\n",
    "print CV_rf.score(test_X, test_Y)"
   ]
  },
  {
   "cell_type": "code",
   "execution_count": 14,
   "metadata": {},
   "outputs": [
    {
     "data": {
      "text/html": [
       "<div>\n",
       "<table border=\"1\" class=\"dataframe\">\n",
       "  <thead>\n",
       "    <tr style=\"text-align: right;\">\n",
       "      <th></th>\n",
       "      <th>feature</th>\n",
       "      <th>importance</th>\n",
       "    </tr>\n",
       "  </thead>\n",
       "  <tbody>\n",
       "    <tr>\n",
       "      <th>0</th>\n",
       "      <td>budget</td>\n",
       "      <td>0.066877</td>\n",
       "    </tr>\n",
       "    <tr>\n",
       "      <th>1</th>\n",
       "      <td>popularity</td>\n",
       "      <td>0.155417</td>\n",
       "    </tr>\n",
       "    <tr>\n",
       "      <th>2</th>\n",
       "      <td>rating</td>\n",
       "      <td>0.114598</td>\n",
       "    </tr>\n",
       "    <tr>\n",
       "      <th>3</th>\n",
       "      <td>revenue</td>\n",
       "      <td>0.051359</td>\n",
       "    </tr>\n",
       "    <tr>\n",
       "      <th>4</th>\n",
       "      <td>runtime</td>\n",
       "      <td>0.153397</td>\n",
       "    </tr>\n",
       "    <tr>\n",
       "      <th>5</th>\n",
       "      <td>vote_average</td>\n",
       "      <td>0.093953</td>\n",
       "    </tr>\n",
       "    <tr>\n",
       "      <th>6</th>\n",
       "      <td>vote_count</td>\n",
       "      <td>0.106557</td>\n",
       "    </tr>\n",
       "    <tr>\n",
       "      <th>7</th>\n",
       "      <td>votes</td>\n",
       "      <td>0.125159</td>\n",
       "    </tr>\n",
       "    <tr>\n",
       "      <th>8</th>\n",
       "      <td>year</td>\n",
       "      <td>0.132685</td>\n",
       "    </tr>\n",
       "  </tbody>\n",
       "</table>\n",
       "</div>"
      ],
      "text/plain": [
       "        feature  importance\n",
       "0        budget    0.066877\n",
       "1    popularity    0.155417\n",
       "2        rating    0.114598\n",
       "3       revenue    0.051359\n",
       "4       runtime    0.153397\n",
       "5  vote_average    0.093953\n",
       "6    vote_count    0.106557\n",
       "7         votes    0.125159\n",
       "8          year    0.132685"
      ]
     },
     "execution_count": 14,
     "metadata": {},
     "output_type": "execute_result"
    }
   ],
   "source": [
    "pd.DataFrame({'feature': train_X.columns, 'importance': CV_rf.best_estimator_.feature_importances_}).to_csv(\"\")"
   ]
  },
  {
   "cell_type": "code",
   "execution_count": 63,
   "metadata": {},
   "outputs": [
    {
     "name": "stdout",
     "output_type": "stream",
     "text": [
      "Performance of Bottleneck Random Forest Predictions on Validation Set\n",
      "hamming loss: 0.119710272169\n",
      "jaccard similarity: 0.234351352481\n",
      "zero one loss: 0.931518876207\n",
      "exact match ratio: 0.0684811237928\n"
     ]
    }
   ],
   "source": [
    "meta_preds = CV_rf.predict(test_X)\n",
    "print 'Performance of Metadata Random Forest Predictions on Validation Set'\n",
    "print 'hamming loss:', skmetrics.hamming_loss(test_Y, meta_preds)\n",
    "print 'jaccard similarity:', skmetrics.jaccard_similarity_score(test_Y, meta_preds)\n",
    "print 'zero one loss:', skmetrics.zero_one_loss(test_Y, meta_preds)\n",
    "print 'exact match ratio:', skmetrics.accuracy_score(test_Y, meta_preds)"
   ]
  }
 ],
 "metadata": {
  "kernelspec": {
   "display_name": "Python 2",
   "language": "python",
   "name": "python2"
  },
  "language_info": {
   "codemirror_mode": {
    "name": "ipython",
    "version": 2
   },
   "file_extension": ".py",
   "mimetype": "text/x-python",
   "name": "python",
   "nbconvert_exporter": "python",
   "pygments_lexer": "ipython2",
   "version": "2.7.13"
  }
 },
 "nbformat": 4,
 "nbformat_minor": 2
}
