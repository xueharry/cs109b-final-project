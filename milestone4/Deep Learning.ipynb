{
 "cells": [
  {
   "cell_type": "code",
   "execution_count": 1,
   "metadata": {
    "collapsed": false
   },
   "outputs": [
    {
     "name": "stderr",
     "output_type": "stream",
     "text": [
      "Using TensorFlow backend.\n"
     ]
    }
   ],
   "source": [
    "import os\n",
    "import pickle\n",
    "\n",
    "import numpy as np\n",
    "import pandas as pd\n",
    "\n",
    "from keras.preprocessing.image import ImageDataGenerator\n",
    "from keras.models import Sequential\n",
    "from keras.layers import Conv2D, MaxPooling2D\n",
    "from keras.layers import Activation, Dropout, Flatten, Dense\n",
    "from keras import backend as K\n",
    "\n",
    "from keras.applications import VGG16\n",
    "from keras.applications.vgg16 import preprocess_input\n",
    "from keras.preprocessing import image as kimage\n",
    "\n",
    "import matplotlib.pyplot as plt\n",
    "%matplotlib inline"
   ]
  },
  {
   "cell_type": "markdown",
   "metadata": {},
   "source": [
    "# Small Network From Scratch\n",
    "\n",
    "TODO:\n"
   ]
  },
  {
   "cell_type": "markdown",
   "metadata": {},
   "source": [
    "# Pre-trained Model\n",
    "Following the tutorial from: https://blog.keras.io/building-powerful-image-classification-models-using-very-little-data.html and\n",
    "https://blog.nycdatascience.com/student-works/deep-learning-meets-recommendation-systems/"
   ]
  },
  {
   "cell_type": "markdown",
   "metadata": {},
   "source": [
    "## Load training and validation images"
   ]
  },
  {
   "cell_type": "code",
   "execution_count": 2,
   "metadata": {
    "collapsed": true
   },
   "outputs": [],
   "source": [
    "train_dir = \"data/posters_split/train/\"\n",
    "validation_dir = \"data/posters_split/validation/\""
   ]
  },
  {
   "cell_type": "code",
   "execution_count": 3,
   "metadata": {
    "collapsed": true
   },
   "outputs": [],
   "source": [
    "train_filenames = os.listdir(train_dir)\n",
    "n_train = len(train_filenames)\n",
    "\n",
    "validation_filenames = os.listdir(validation_dir)\n",
    "n_validation = len(validation_filenames)"
   ]
  },
  {
   "cell_type": "code",
   "execution_count": 8,
   "metadata": {
    "collapsed": true
   },
   "outputs": [],
   "source": [
    "# Load train images in arrays\n",
    "images=[None]*n_train\n",
    "X=[None]*n_train\n",
    "\n",
    "for i, train_filename in enumerate(train_filenames):\n",
    "    images[i] = kimage.load_img(train_dir + train_filename, target_size=(224, 224))\n",
    "    X[i] = kimage.img_to_array(images[i])\n",
    "    X[i] = np.expand_dims(X[i], axis=0)\n",
    "    X[i] = preprocess_input(X[i]).reshape(224,224,3)  "
   ]
  },
  {
   "cell_type": "code",
   "execution_count": null,
   "metadata": {
    "collapsed": true
   },
   "outputs": [],
   "source": [
    "# Load validation images in arrays\n",
    "val_images=[None]*n_validation\n",
    "val_X=[None]*n_validation\n",
    "\n",
    "for i, validation_filename in enumerate(validation_filenames):\n",
    "    val_images[i] = kimage.load_img(validation_dir + validation_filename, target_size=(224, 224))\n",
    "    val_X[i] = kimage.img_to_array(val_images[i])\n",
    "    val_X[i] = np.expand_dims(val_X[i], axis=0)\n",
    "    val_X[i] = preprocess_input(val_X[i]).reshape(224,224,3)  "
   ]
  },
  {
   "cell_type": "markdown",
   "metadata": {},
   "source": [
    "## Use pretrained CNN to extract bottleneck features"
   ]
  },
  {
   "cell_type": "code",
   "execution_count": null,
   "metadata": {
    "collapsed": true
   },
   "outputs": [],
   "source": [
    "# Get bottleneck features from pretrained VGG16 \n",
    "pretrained_model = VGG16(include_top=False, weights='imagenet')\n",
    "\n",
    "X = np.array(X)\n",
    "val_X = np.array(val_X)\n",
    "train_features = pretrained_model.predict(X)\n",
    "val_features = pretrained_model.predict(val_X)\n",
    "\n",
    "# Save bottleneck features\n",
    "np.save(open('bottleneck_features_train.npy', 'w'), train_features)\n",
    "# Save bottleneck features\n",
    "np.save(open('bottleneck_features_validation.npy', 'w'), val_features)"
   ]
  },
  {
   "cell_type": "code",
   "execution_count": 7,
   "metadata": {
    "collapsed": false
   },
   "outputs": [
    {
     "data": {
      "text/plain": [
       "(9291, 1, 224, 224, 3)"
      ]
     },
     "execution_count": 7,
     "metadata": {},
     "output_type": "execute_result"
    }
   ],
   "source": [
    "X.shape"
   ]
  },
  {
   "cell_type": "code",
   "execution_count": 2,
   "metadata": {
    "collapsed": true
   },
   "outputs": [],
   "source": [
    "# Load bottleneck features\n",
    "train_features = np.load('features/bottleneck_features_train.npy')\n",
    "val_features = np.load('features/bottleneck_features_validation.npy')"
   ]
  },
  {
   "cell_type": "markdown",
   "metadata": {},
   "source": [
    "## Get genres for each of the movies from their filenames"
   ]
  },
  {
   "cell_type": "code",
   "execution_count": 4,
   "metadata": {
    "collapsed": true
   },
   "outputs": [],
   "source": [
    "genre_dict = pickle.load(open(\"data/genre_dict.pickle\", 'rb'))\n",
    "\n",
    "# Get movie information (including genre labels) for train and validation data from filenames\n",
    "train_movie_names = os.listdir(\"data/posters_split/train/\")\n",
    "# Unique id for each movie\n",
    "train_ids = [filename.split(\"-\")[-1].split(\"_\")[0] for filename in train_movie_names]\n",
    "train_ids = [int(id) for id in train_ids]\n",
    "# List of genre ids for each movie\n",
    "train_genre_ids = [map(int, os.path.splitext(filename)[0].split(\"-\")[-1].split(\"_\")[1:]) for filename in train_movie_names]\n",
    "\n",
    "val_movie_names = os.listdir(\"data/posters_split/validation/\")\n",
    "# Unique id for each movie\n",
    "val_ids = [filename.split(\"-\")[-1].split(\"_\")[0] for filename in val_movie_names]\n",
    "val_ids = [int(id) for id in val_ids]\n",
    "# List of genre ids for each movie\n",
    "val_genre_ids = [map(int, os.path.splitext(filename)[0].split(\"-\")[-1].split(\"_\")[1:]) for filename in val_movie_names]"
   ]
  },
  {
   "cell_type": "markdown",
   "metadata": {},
   "source": [
    "## Create a dictionary of TMdb ids for train, test and validation datasets\n",
    "We do this so that we have a reference table to ensure that we use the same movies for train, test and validation across all our classification tasks."
   ]
  },
  {
   "cell_type": "code",
   "execution_count": 14,
   "metadata": {
    "collapsed": true
   },
   "outputs": [],
   "source": [
    "train_val_test_byid = {\"train\": train_ids, \"test\": test_ids, \"validation\": val_ids}"
   ]
  },
  {
   "cell_type": "code",
   "execution_count": null,
   "metadata": {
    "collapsed": true
   },
   "outputs": [],
   "source": [
    "pickle.dump(train_val_test_byid, open(\"train_val_test_byid.pkl\", 'wb'))"
   ]
  },
  {
   "cell_type": "markdown",
   "metadata": {},
   "source": [
    "## Create binary encoded response vectors for train and validation datasets\n",
    "TODO: Probably want to save these dataframes so we don't do this over and over."
   ]
  },
  {
   "cell_type": "code",
   "execution_count": 4,
   "metadata": {
    "collapsed": true
   },
   "outputs": [],
   "source": [
    "train_multilabels = pd.DataFrame(index=train_ids)\n",
    "\n",
    "# multilabel binary encoding by genre\n",
    "for genre_id, genre in genre_dict.items():\n",
    "    train_multilabels[genre] = [int(int(genre_id) in genre_list) for genre_list in train_genre_ids]\n",
    "    \n",
    "val_multilabels = pd.DataFrame(index=val_ids)\n",
    "\n",
    "# multilabel binary encoding by genre\n",
    "for genre_id, genre in genre_dict.items():\n",
    "    val_multilabels[genre] = [int(int(genre_id) in genre_list) for genre_list in val_genre_ids]"
   ]
  },
  {
   "cell_type": "code",
   "execution_count": 5,
   "metadata": {
    "collapsed": false
   },
   "outputs": [
    {
     "data": {
      "text/html": [
       "<div>\n",
       "<table border=\"1\" class=\"dataframe\">\n",
       "  <thead>\n",
       "    <tr style=\"text-align: right;\">\n",
       "      <th></th>\n",
       "      <th>War</th>\n",
       "      <th>Mystery</th>\n",
       "      <th>Music</th>\n",
       "      <th>Comedy</th>\n",
       "      <th>History</th>\n",
       "      <th>Western</th>\n",
       "      <th>Animation</th>\n",
       "      <th>Adventure</th>\n",
       "      <th>Drama</th>\n",
       "      <th>Fantasy</th>\n",
       "      <th>Crime</th>\n",
       "      <th>TV Movie</th>\n",
       "      <th>Documentary</th>\n",
       "      <th>Thriller</th>\n",
       "      <th>Science Fiction</th>\n",
       "      <th>Horror</th>\n",
       "      <th>Action</th>\n",
       "      <th>Romance</th>\n",
       "      <th>Family</th>\n",
       "    </tr>\n",
       "  </thead>\n",
       "  <tbody>\n",
       "    <tr>\n",
       "      <th>3133</th>\n",
       "      <td>0</td>\n",
       "      <td>0</td>\n",
       "      <td>0</td>\n",
       "      <td>0</td>\n",
       "      <td>0</td>\n",
       "      <td>0</td>\n",
       "      <td>0</td>\n",
       "      <td>0</td>\n",
       "      <td>1</td>\n",
       "      <td>0</td>\n",
       "      <td>1</td>\n",
       "      <td>0</td>\n",
       "      <td>0</td>\n",
       "      <td>0</td>\n",
       "      <td>0</td>\n",
       "      <td>0</td>\n",
       "      <td>0</td>\n",
       "      <td>0</td>\n",
       "      <td>0</td>\n",
       "    </tr>\n",
       "    <tr>\n",
       "      <th>407448</th>\n",
       "      <td>0</td>\n",
       "      <td>0</td>\n",
       "      <td>0</td>\n",
       "      <td>0</td>\n",
       "      <td>1</td>\n",
       "      <td>0</td>\n",
       "      <td>0</td>\n",
       "      <td>0</td>\n",
       "      <td>1</td>\n",
       "      <td>0</td>\n",
       "      <td>1</td>\n",
       "      <td>0</td>\n",
       "      <td>0</td>\n",
       "      <td>1</td>\n",
       "      <td>0</td>\n",
       "      <td>0</td>\n",
       "      <td>0</td>\n",
       "      <td>0</td>\n",
       "      <td>0</td>\n",
       "    </tr>\n",
       "    <tr>\n",
       "      <th>33875</th>\n",
       "      <td>0</td>\n",
       "      <td>0</td>\n",
       "      <td>0</td>\n",
       "      <td>0</td>\n",
       "      <td>0</td>\n",
       "      <td>0</td>\n",
       "      <td>1</td>\n",
       "      <td>1</td>\n",
       "      <td>0</td>\n",
       "      <td>1</td>\n",
       "      <td>0</td>\n",
       "      <td>0</td>\n",
       "      <td>0</td>\n",
       "      <td>0</td>\n",
       "      <td>0</td>\n",
       "      <td>0</td>\n",
       "      <td>1</td>\n",
       "      <td>0</td>\n",
       "      <td>0</td>\n",
       "    </tr>\n",
       "    <tr>\n",
       "      <th>110354</th>\n",
       "      <td>0</td>\n",
       "      <td>0</td>\n",
       "      <td>0</td>\n",
       "      <td>0</td>\n",
       "      <td>0</td>\n",
       "      <td>0</td>\n",
       "      <td>0</td>\n",
       "      <td>0</td>\n",
       "      <td>0</td>\n",
       "      <td>0</td>\n",
       "      <td>0</td>\n",
       "      <td>0</td>\n",
       "      <td>1</td>\n",
       "      <td>0</td>\n",
       "      <td>0</td>\n",
       "      <td>0</td>\n",
       "      <td>0</td>\n",
       "      <td>0</td>\n",
       "      <td>0</td>\n",
       "    </tr>\n",
       "    <tr>\n",
       "      <th>51619</th>\n",
       "      <td>1</td>\n",
       "      <td>0</td>\n",
       "      <td>0</td>\n",
       "      <td>0</td>\n",
       "      <td>0</td>\n",
       "      <td>0</td>\n",
       "      <td>0</td>\n",
       "      <td>0</td>\n",
       "      <td>1</td>\n",
       "      <td>0</td>\n",
       "      <td>0</td>\n",
       "      <td>0</td>\n",
       "      <td>0</td>\n",
       "      <td>0</td>\n",
       "      <td>0</td>\n",
       "      <td>0</td>\n",
       "      <td>0</td>\n",
       "      <td>1</td>\n",
       "      <td>0</td>\n",
       "    </tr>\n",
       "  </tbody>\n",
       "</table>\n",
       "</div>"
      ],
      "text/plain": [
       "        War  Mystery  Music  Comedy  History  Western  Animation  Adventure  \\\n",
       "3133      0        0      0       0        0        0          0          0   \n",
       "407448    0        0      0       0        1        0          0          0   \n",
       "33875     0        0      0       0        0        0          1          1   \n",
       "110354    0        0      0       0        0        0          0          0   \n",
       "51619     1        0      0       0        0        0          0          0   \n",
       "\n",
       "        Drama  Fantasy  Crime  TV Movie  Documentary  Thriller  \\\n",
       "3133        1        0      1         0            0         0   \n",
       "407448      1        0      1         0            0         1   \n",
       "33875       0        1      0         0            0         0   \n",
       "110354      0        0      0         0            1         0   \n",
       "51619       1        0      0         0            0         0   \n",
       "\n",
       "        Science Fiction  Horror  Action  Romance  Family  \n",
       "3133                  0       0       0        0       0  \n",
       "407448                0       0       0        0       0  \n",
       "33875                 0       0       1        0       0  \n",
       "110354                0       0       0        0       0  \n",
       "51619                 0       0       0        1       0  "
      ]
     },
     "execution_count": 5,
     "metadata": {},
     "output_type": "execute_result"
    }
   ],
   "source": [
    "train_multilabels.head()"
   ]
  },
  {
   "cell_type": "markdown",
   "metadata": {},
   "source": [
    "## Add a fully-connected layer on top and train on bottleneck features"
   ]
  },
  {
   "cell_type": "code",
   "execution_count": 11,
   "metadata": {
    "collapsed": true
   },
   "outputs": [],
   "source": [
    "# Train a small fully-connected model on the bottleneck features\n",
    "model = Sequential()\n",
    "model.add(Flatten(input_shape=train_features.shape[1:]))\n",
    "model.add(Dense(256, activation='relu'))\n",
    "model.add(Dropout(0.5))\n",
    "model.add(Dense(train_multilabels.shape[1], activation='sigmoid'))\n",
    "\n",
    "model.compile(optimizer='sgd',\n",
    "              loss='binary_crossentropy',\n",
    "              metrics=['accuracy'])\n",
    "\n",
    "history = model.fit(train_features, train_multilabels.values,\n",
    "          epochs=50,\n",
    "          batch_size=16,\n",
    "          validation_data=(val_features, val_multilabels.values),\n",
    "          verbose=0)\n",
    "model.save_weights('bottleneck_fc_model.h5')"
   ]
  },
  {
   "cell_type": "markdown",
   "metadata": {},
   "source": [
    "## Evaluation of performance\n",
    "TODO: S"
   ]
  },
  {
   "cell_type": "code",
   "execution_count": 12,
   "metadata": {
    "collapsed": false
   },
   "outputs": [
    {
     "name": "stdout",
     "output_type": "stream",
     "text": [
      "('Train loss:', 0.20986080607201874)\n",
      "('Train accuracy:', 0.89913258466842727)\n",
      "('Validation loss:', 0.42673873963027165)\n",
      "('Validation accuracy:', 0.86542637183748439)\n"
     ]
    }
   ],
   "source": [
    "# once training is complete, let's see how well we have done\n",
    "score = model.evaluate(train_features, train_multilabels.values, verbose=0)\n",
    "print('Train loss:', score[0])\n",
    "print('Train accuracy:', score[1])\n",
    "\n",
    "score = model.evaluate(val_features, val_multilabels.values, verbose=0)\n",
    "print('Validation loss:', score[0])\n",
    "print('Validation accuracy:', score[1])"
   ]
  },
  {
   "cell_type": "code",
   "execution_count": 15,
   "metadata": {
    "collapsed": false
   },
   "outputs": [
    {
     "data": {
      "text/plain": [
       "<matplotlib.text.Text at 0x7f914c037f50>"
      ]
     },
     "execution_count": 15,
     "metadata": {},
     "output_type": "execute_result"
    },
    {
     "data": {
      "image/png": "[encoded data removed]",
      "text/plain": [
       "<matplotlib.figure.Figure at 0x7f918c6a7950>"
      ]
     },
     "metadata": {},
     "output_type": "display_data"
    }
   ],
   "source": [
    "# here is a visualization of the training process\n",
    "# typically we gain a lot in the beginning and then\n",
    "# training slows down\n",
    "plt.plot(history.history['acc'])\n",
    "plt.xlabel(\"epoch\")\n",
    "plt.ylabel(\"accuracy\")"
   ]
  },
  {
   "cell_type": "code",
   "execution_count": null,
   "metadata": {
    "collapsed": true
   },
   "outputs": [],
   "source": []
  }
 ],
 "metadata": {
  "anaconda-cloud": {},
  "kernelspec": {
   "display_name": "Python 2",
   "language": "python",
   "name": "python2"
  },
  "language_info": {
   "codemirror_mode": {
    "name": "ipython",
    "version": 2
   },
   "file_extension": ".py",
   "mimetype": "text/x-python",
   "name": "python",
   "nbconvert_exporter": "python",
   "pygments_lexer": "ipython2",
   "version": "2.7.13"
  }
 },
 "nbformat": 4,
 "nbformat_minor": 1
}
