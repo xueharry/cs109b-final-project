{
 "cells": [
  {
   "cell_type": "markdown",
   "metadata": {},
   "source": [
    "# iPython Notebooks Begin Here"
   ]
  },
  {
   "cell_type": "code",
   "execution_count": 3,
   "metadata": {
    "collapsed": true
   },
   "outputs": [],
   "source": [
    "import os\n",
    "import pickle\n",
    "\n",
    "import numpy as np\n",
    "import pandas as pd\n",
    "\n",
    "from keras.preprocessing.image import ImageDataGenerator\n",
    "from keras.models import Sequential\n",
    "from keras.models import model_from_yaml\n",
    "from keras.layers import Conv2D, MaxPooling2D\n",
    "from keras.layers import Activation, Dropout, Flatten, Dense\n",
    "from keras import backend as K\n",
    "\n",
    "from keras.applications import VGG16\n",
    "from keras.applications.vgg16 import preprocess_input\n",
    "from keras.preprocessing import image as kimage\n",
    "from keras.callbacks import EarlyStopping\n",
    "import sklearn.metrics as skmetrics\n",
    "\n",
    "import matplotlib.pyplot as plt\n",
    "%matplotlib inline\n",
    "\n",
    "import seaborn as sns\n",
    "sns.set_style(\"whitegrid\")\n",
    "\n",
    "from itertools import cycle\n",
    "from sklearn.metrics import precision_score\n",
    "from sklearn.metrics import precision_recall_curve\n",
    "from sklearn.metrics import average_precision_score"
   ]
  },
  {
   "cell_type": "markdown",
   "metadata": {},
   "source": [
    "## Data Preparation"
   ]
  },
  {
   "cell_type": "markdown",
   "metadata": {},
   "source": [
    "### Load training and validation images"
   ]
  },
  {
   "cell_type": "code",
   "execution_count": 2,
   "metadata": {
    "collapsed": true
   },
   "outputs": [],
   "source": [
    "train_dir = \"data/posters_split/train/\"\n",
    "validation_dir = \"data/posters_split/validation/\""
   ]
  },
  {
   "cell_type": "code",
   "execution_count": 3,
   "metadata": {
    "collapsed": true
   },
   "outputs": [],
   "source": [
    "train_filenames = os.listdir(train_dir)\n",
    "n_train = len(train_filenames)\n",
    "\n",
    "validation_filenames = os.listdir(validation_dir)\n",
    "n_validation = len(validation_filenames)"
   ]
  },
  {
   "cell_type": "code",
   "execution_count": 4,
   "metadata": {
    "collapsed": true
   },
   "outputs": [],
   "source": [
    "# Load train images in arrays\n",
    "images=[None]*n_train\n",
    "X=[None]*n_train\n",
    "\n",
    "for i, train_filename in enumerate(train_filenames):\n",
    "    images[i] = kimage.load_img(train_dir + train_filename, target_size=(224, 224))\n",
    "    X[i] = kimage.img_to_array(images[i])\n",
    "    X[i] = np.expand_dims(X[i], axis=0)\n",
    "    X[i] = preprocess_input(X[i]).reshape(224,224,3)  "
   ]
  },
  {
   "cell_type": "code",
   "execution_count": 5,
   "metadata": {
    "collapsed": true
   },
   "outputs": [],
   "source": [
    "# Load validation images in arrays\n",
    "val_images=[None]*n_validation\n",
    "val_X=[None]*n_validation\n",
    "\n",
    "for i, validation_filename in enumerate(validation_filenames):\n",
    "    val_images[i] = kimage.load_img(validation_dir + validation_filename, target_size=(224, 224))\n",
    "    val_X[i] = kimage.img_to_array(val_images[i])\n",
    "    val_X[i] = np.expand_dims(val_X[i], axis=0)\n",
    "    val_X[i] = preprocess_input(val_X[i]).reshape(224,224,3)  "
   ]
  },
  {
   "cell_type": "markdown",
   "metadata": {},
   "source": [
    "### Use pretrained CNN to extract bottleneck features"
   ]
  },
  {
   "cell_type": "code",
   "execution_count": 6,
   "metadata": {
    "collapsed": true
   },
   "outputs": [],
   "source": [
    "# Get bottleneck features from pretrained VGG16 \n",
    "pretrained_model = VGG16(include_top=False, weights='imagenet')\n",
    "\n",
    "X = np.array(X)\n",
    "val_X = np.array(val_X)\n",
    "train_features = pretrained_model.predict(X)\n",
    "val_features = pretrained_model.predict(val_X)"
   ]
  },
  {
   "cell_type": "code",
   "execution_count": 7,
   "metadata": {},
   "outputs": [
    {
     "data": {
      "text/plain": [
       "(9291, 224, 224, 3)"
      ]
     },
     "execution_count": 7,
     "metadata": {},
     "output_type": "execute_result"
    }
   ],
   "source": [
    "X.shape"
   ]
  },
  {
   "cell_type": "markdown",
   "metadata": {},
   "source": [
    "### Get genres for each of the movies from their filenames"
   ]
  },
  {
   "cell_type": "code",
   "execution_count": 9,
   "metadata": {
    "collapsed": true
   },
   "outputs": [],
   "source": [
    "genre_dict = pickle.load(open(\"data/genre_dict.pickle\", 'rb'))\n",
    "\n",
    "# Get movie information (including genre labels) for train and validation data from filenames\n",
    "train_movie_names = os.listdir(\"data/posters_split/train/\")\n",
    "# Unique id for each movie\n",
    "train_ids = [filename.split(\"-\")[-1].split(\"_\")[0] for filename in train_movie_names]\n",
    "train_ids = [int(id) for id in train_ids]\n",
    "# List of genre ids for each movie\n",
    "train_genre_ids = [map(int, os.path.splitext(filename)[0].split(\"-\")[-1].split(\"_\")[1:]) for filename in train_movie_names]\n",
    "\n",
    "val_movie_names = os.listdir(\"data/posters_split/validation/\")\n",
    "# Unique id for each movie\n",
    "val_ids = [filename.split(\"-\")[-1].split(\"_\")[0] for filename in val_movie_names]\n",
    "val_ids = [int(id) for id in val_ids]\n",
    "# List of genre ids for each movie\n",
    "val_genre_ids = [map(int, os.path.splitext(filename)[0].split(\"-\")[-1].split(\"_\")[1:]) for filename in val_movie_names]"
   ]
  },
  {
   "cell_type": "markdown",
   "metadata": {},
   "source": [
    "### Create binary encoded response vectors for train and validation datasets"
   ]
  },
  {
   "cell_type": "code",
   "execution_count": 10,
   "metadata": {
    "collapsed": true
   },
   "outputs": [],
   "source": [
    "train_multilabels = pd.DataFrame(index=train_ids)\n",
    "\n",
    "# multilabel binary encoding by genre\n",
    "for genre_id, genre in genre_dict.items():\n",
    "    train_multilabels[genre] = [int(int(genre_id) in genre_list) for genre_list in train_genre_ids]\n",
    "    \n",
    "val_multilabels = pd.DataFrame(index=val_ids)\n",
    "\n",
    "# multilabel binary encoding by genre\n",
    "for genre_id, genre in genre_dict.items():\n",
    "    val_multilabels[genre] = [int(int(genre_id) in genre_list) for genre_list in val_genre_ids]"
   ]
  },
  {
   "cell_type": "code",
   "execution_count": 6,
   "metadata": {
    "scrolled": true
   },
   "outputs": [
    {
     "data": {
      "text/html": [
       "<div>\n",
       "<table border=\"1\" class=\"dataframe\">\n",
       "  <thead>\n",
       "    <tr style=\"text-align: right;\">\n",
       "      <th></th>\n",
       "      <th>War</th>\n",
       "      <th>Mystery</th>\n",
       "      <th>Music</th>\n",
       "      <th>Comedy</th>\n",
       "      <th>History</th>\n",
       "      <th>Western</th>\n",
       "      <th>Animation</th>\n",
       "      <th>Adventure</th>\n",
       "      <th>Drama</th>\n",
       "      <th>Fantasy</th>\n",
       "      <th>Crime</th>\n",
       "      <th>TV Movie</th>\n",
       "      <th>Documentary</th>\n",
       "      <th>Thriller</th>\n",
       "      <th>Science Fiction</th>\n",
       "      <th>Horror</th>\n",
       "      <th>Action</th>\n",
       "      <th>Romance</th>\n",
       "      <th>Family</th>\n",
       "    </tr>\n",
       "  </thead>\n",
       "  <tbody>\n",
       "    <tr>\n",
       "      <th>3133</th>\n",
       "      <td>0</td>\n",
       "      <td>0</td>\n",
       "      <td>0</td>\n",
       "      <td>0</td>\n",
       "      <td>0</td>\n",
       "      <td>0</td>\n",
       "      <td>0</td>\n",
       "      <td>0</td>\n",
       "      <td>1</td>\n",
       "      <td>0</td>\n",
       "      <td>1</td>\n",
       "      <td>0</td>\n",
       "      <td>0</td>\n",
       "      <td>0</td>\n",
       "      <td>0</td>\n",
       "      <td>0</td>\n",
       "      <td>0</td>\n",
       "      <td>0</td>\n",
       "      <td>0</td>\n",
       "    </tr>\n",
       "    <tr>\n",
       "      <th>407448</th>\n",
       "      <td>0</td>\n",
       "      <td>0</td>\n",
       "      <td>0</td>\n",
       "      <td>0</td>\n",
       "      <td>1</td>\n",
       "      <td>0</td>\n",
       "      <td>0</td>\n",
       "      <td>0</td>\n",
       "      <td>1</td>\n",
       "      <td>0</td>\n",
       "      <td>1</td>\n",
       "      <td>0</td>\n",
       "      <td>0</td>\n",
       "      <td>1</td>\n",
       "      <td>0</td>\n",
       "      <td>0</td>\n",
       "      <td>0</td>\n",
       "      <td>0</td>\n",
       "      <td>0</td>\n",
       "    </tr>\n",
       "    <tr>\n",
       "      <th>33875</th>\n",
       "      <td>0</td>\n",
       "      <td>0</td>\n",
       "      <td>0</td>\n",
       "      <td>0</td>\n",
       "      <td>0</td>\n",
       "      <td>0</td>\n",
       "      <td>1</td>\n",
       "      <td>1</td>\n",
       "      <td>0</td>\n",
       "      <td>1</td>\n",
       "      <td>0</td>\n",
       "      <td>0</td>\n",
       "      <td>0</td>\n",
       "      <td>0</td>\n",
       "      <td>0</td>\n",
       "      <td>0</td>\n",
       "      <td>1</td>\n",
       "      <td>0</td>\n",
       "      <td>0</td>\n",
       "    </tr>\n",
       "    <tr>\n",
       "      <th>110354</th>\n",
       "      <td>0</td>\n",
       "      <td>0</td>\n",
       "      <td>0</td>\n",
       "      <td>0</td>\n",
       "      <td>0</td>\n",
       "      <td>0</td>\n",
       "      <td>0</td>\n",
       "      <td>0</td>\n",
       "      <td>0</td>\n",
       "      <td>0</td>\n",
       "      <td>0</td>\n",
       "      <td>0</td>\n",
       "      <td>1</td>\n",
       "      <td>0</td>\n",
       "      <td>0</td>\n",
       "      <td>0</td>\n",
       "      <td>0</td>\n",
       "      <td>0</td>\n",
       "      <td>0</td>\n",
       "    </tr>\n",
       "    <tr>\n",
       "      <th>51619</th>\n",
       "      <td>1</td>\n",
       "      <td>0</td>\n",
       "      <td>0</td>\n",
       "      <td>0</td>\n",
       "      <td>0</td>\n",
       "      <td>0</td>\n",
       "      <td>0</td>\n",
       "      <td>0</td>\n",
       "      <td>1</td>\n",
       "      <td>0</td>\n",
       "      <td>0</td>\n",
       "      <td>0</td>\n",
       "      <td>0</td>\n",
       "      <td>0</td>\n",
       "      <td>0</td>\n",
       "      <td>0</td>\n",
       "      <td>0</td>\n",
       "      <td>1</td>\n",
       "      <td>0</td>\n",
       "    </tr>\n",
       "  </tbody>\n",
       "</table>\n",
       "</div>"
      ],
      "text/plain": [
       "        War  Mystery  Music  Comedy  History  Western  Animation  Adventure  \\\n",
       "3133      0        0      0       0        0        0          0          0   \n",
       "407448    0        0      0       0        1        0          0          0   \n",
       "33875     0        0      0       0        0        0          1          1   \n",
       "110354    0        0      0       0        0        0          0          0   \n",
       "51619     1        0      0       0        0        0          0          0   \n",
       "\n",
       "        Drama  Fantasy  Crime  TV Movie  Documentary  Thriller  \\\n",
       "3133        1        0      1         0            0         0   \n",
       "407448      1        0      1         0            0         1   \n",
       "33875       0        1      0         0            0         0   \n",
       "110354      0        0      0         0            1         0   \n",
       "51619       1        0      0         0            0         0   \n",
       "\n",
       "        Science Fiction  Horror  Action  Romance  Family  \n",
       "3133                  0       0       0        0       0  \n",
       "407448                0       0       0        0       0  \n",
       "33875                 0       0       1        0       0  \n",
       "110354                0       0       0        0       0  \n",
       "51619                 0       0       0        1       0  "
      ]
     },
     "execution_count": 6,
     "metadata": {},
     "output_type": "execute_result"
    }
   ],
   "source": [
    "train_multilabels.head()"
   ]
  },
  {
   "cell_type": "markdown",
   "metadata": {},
   "source": [
    "## Model From Scratch"
   ]
  },
  {
   "cell_type": "markdown",
   "metadata": {},
   "source": [
    "### Create first convolutional layer"
   ]
  },
  {
   "cell_type": "code",
   "execution_count": 30,
   "metadata": {
    "collapsed": true
   },
   "outputs": [],
   "source": [
    "#Single layer CNN\n",
    "model = Sequential()\n",
    "model.add(Conv2D(32, (3, 3), input_shape=(224, 224, 3)))\n",
    "model.add(Activation('relu'))\n",
    "model.add(MaxPooling2D(pool_size=(2, 2)))"
   ]
  },
  {
   "cell_type": "code",
   "execution_count": 31,
   "metadata": {},
   "outputs": [
    {
     "name": "stdout",
     "output_type": "stream",
     "text": [
      "_________________________________________________________________\n",
      "Layer (type)                 Output Shape              Param #   \n",
      "=================================================================\n",
      "conv2d_3 (Conv2D)            (None, 222, 222, 32)      896       \n",
      "_________________________________________________________________\n",
      "activation_5 (Activation)    (None, 222, 222, 32)      0         \n",
      "_________________________________________________________________\n",
      "max_pooling2d_3 (MaxPooling2 (None, 111, 111, 32)      0         \n",
      "=================================================================\n",
      "Total params: 896.0\n",
      "Trainable params: 896.0\n",
      "Non-trainable params: 0.0\n",
      "_________________________________________________________________\n"
     ]
    }
   ],
   "source": [
    "model.summary()"
   ]
  },
  {
   "cell_type": "code",
   "execution_count": 32,
   "metadata": {
    "collapsed": true
   },
   "outputs": [],
   "source": [
    "X_1 = np.array(X)\n",
    "val_X_1 = np.array(val_X)\n",
    "train_features = model.predict(X_1)\n",
    "val_features = model.predict(val_X_1)"
   ]
  },
  {
   "cell_type": "markdown",
   "metadata": {},
   "source": [
    "### Add a fully connected layer on top and train on features from first layer"
   ]
  },
  {
   "cell_type": "code",
   "execution_count": 35,
   "metadata": {
    "collapsed": true
   },
   "outputs": [],
   "source": [
    "model = Sequential()\n",
    "model.add(Flatten(input_shape=train_features.shape[1:]))  # this converts our 3D feature maps to 1D feature vectors\n",
    "model.add(Dense(256, activation='relu'))\n",
    "model.add(Dropout(0.5))\n",
    "model.add(Dense(train_multilabels.shape[1], activation = 'sigmoid'))\n",
    "\n",
    "model.compile(loss='binary_crossentropy',\n",
    "              optimizer='sgd',\n",
    "              metrics=['accuracy'])"
   ]
  },
  {
   "cell_type": "code",
   "execution_count": 36,
   "metadata": {},
   "outputs": [
    {
     "data": {
      "text/plain": [
       "pandas.core.frame.DataFrame"
      ]
     },
     "execution_count": 36,
     "metadata": {},
     "output_type": "execute_result"
    }
   ],
   "source": [
    "type(train_multilabels)"
   ]
  },
  {
   "cell_type": "code",
   "execution_count": 43,
   "metadata": {
    "collapsed": true
   },
   "outputs": [],
   "source": [
    "history = model.fit(train_features, train_multilabels.values,\n",
    "          epochs=10,\n",
    "          batch_size=16,\n",
    "          validation_data=(val_features, val_multilabels.values),\n",
    "          verbose=0)\n",
    "model.save_weights('bottleneck_fc_model.h5')"
   ]
  },
  {
   "cell_type": "code",
   "execution_count": 44,
   "metadata": {},
   "outputs": [
    {
     "name": "stdout",
     "output_type": "stream",
     "text": [
      "('Train loss: ', 4.1524270704033528)\n",
      "('Train accuracy:', 0.74058079714411207)\n",
      "('Validation loss:', 4.1605181167865624)\n",
      "('Validation accuracy:', 0.7400634412107796)\n"
     ]
    }
   ],
   "source": [
    "score_scr = model.evaluate(train_features, train_multilabels.values, verbose = 0)\n",
    "print(\"Train loss: \", score_scr[0])\n",
    "print('Train accuracy:', score_scr[1])\n",
    "\n",
    "score_scr = model.evaluate(val_features, val_multilabels.values, verbose=0)\n",
    "print('Validation loss:', score_scr[0])\n",
    "print('Validation accuracy:', score_scr[1])"
   ]
  },
  {
   "cell_type": "code",
   "execution_count": 45,
   "metadata": {},
   "outputs": [
    {
     "data": {
      "text/plain": [
       "<matplotlib.text.Text at 0x7f1b843d11d0>"
      ]
     },
     "execution_count": 45,
     "metadata": {},
     "output_type": "execute_result"
    },
    {
     "data": {
      "image/png": "[encoded data removed]",
      "text/plain": [
       "<matplotlib.figure.Figure at 0x7f1b844a6b10>"
      ]
     },
     "metadata": {},
     "output_type": "display_data"
    }
   ],
   "source": [
    "plt.plot(history.history['acc'])\n",
    "plt.xlabel(\"epoch\")\n",
    "plt.ylabel(\"accuracy\")"
   ]
  },
  {
   "cell_type": "markdown",
   "metadata": {},
   "source": [
    "### More intense from scratch"
   ]
  },
  {
   "cell_type": "code",
   "execution_count": 173,
   "metadata": {
    "collapsed": true
   },
   "outputs": [],
   "source": [
    "#Single layer CNN\n",
    "model = Sequential()\n",
    "model.add(Conv2D(32, (3, 3), input_shape=(224, 224, 3)))\n",
    "model.add(Activation('relu'))\n",
    "model.add(MaxPooling2D(pool_size=(2, 2)))\n",
    "\n",
    "model.add(Conv2D(32, (3, 3)))\n",
    "model.add(Activation('relu'))\n",
    "model.add(MaxPooling2D(pool_size=(2, 2)))\n",
    "\n",
    "model.add(Conv2D(32, (3, 3)))\n",
    "model.add(Activation('relu'))\n",
    "model.add(MaxPooling2D(pool_size=(2, 2)))\n",
    "\n",
    "model.add(Conv2D(32, (3, 3)))\n",
    "model.add(Activation('relu'))\n",
    "model.add(MaxPooling2D(pool_size=(2, 2)))\n",
    "\n",
    "model.add(Conv2D(64, (3, 3)))\n",
    "model.add(Activation('relu'))\n",
    "model.add(MaxPooling2D(pool_size=(2, 2)))\n",
    "\n",
    "model.add(Conv2D(64, (3, 3)))\n",
    "model.add(Activation('relu'))\n",
    "model.add(MaxPooling2D(pool_size=(2, 2)))"
   ]
  },
  {
   "cell_type": "code",
   "execution_count": 174,
   "metadata": {},
   "outputs": [
    {
     "name": "stdout",
     "output_type": "stream",
     "text": [
      "_________________________________________________________________\n",
      "Layer (type)                 Output Shape              Param #   \n",
      "=================================================================\n",
      "conv2d_117 (Conv2D)          (None, 222, 222, 32)      896       \n",
      "_________________________________________________________________\n",
      "activation_116 (Activation)  (None, 222, 222, 32)      0         \n",
      "_________________________________________________________________\n",
      "max_pooling2d_114 (MaxPoolin (None, 111, 111, 32)      0         \n",
      "_________________________________________________________________\n",
      "conv2d_118 (Conv2D)          (None, 109, 109, 32)      9248      \n",
      "_________________________________________________________________\n",
      "activation_117 (Activation)  (None, 109, 109, 32)      0         \n",
      "_________________________________________________________________\n",
      "max_pooling2d_115 (MaxPoolin (None, 54, 54, 32)        0         \n",
      "_________________________________________________________________\n",
      "conv2d_119 (Conv2D)          (None, 52, 52, 32)        9248      \n",
      "_________________________________________________________________\n",
      "activation_118 (Activation)  (None, 52, 52, 32)        0         \n",
      "_________________________________________________________________\n",
      "max_pooling2d_116 (MaxPoolin (None, 26, 26, 32)        0         \n",
      "_________________________________________________________________\n",
      "conv2d_120 (Conv2D)          (None, 24, 24, 32)        9248      \n",
      "_________________________________________________________________\n",
      "activation_119 (Activation)  (None, 24, 24, 32)        0         \n",
      "_________________________________________________________________\n",
      "max_pooling2d_117 (MaxPoolin (None, 12, 12, 32)        0         \n",
      "_________________________________________________________________\n",
      "conv2d_121 (Conv2D)          (None, 10, 10, 64)        18496     \n",
      "_________________________________________________________________\n",
      "activation_120 (Activation)  (None, 10, 10, 64)        0         \n",
      "_________________________________________________________________\n",
      "max_pooling2d_118 (MaxPoolin (None, 5, 5, 64)          0         \n",
      "_________________________________________________________________\n",
      "conv2d_122 (Conv2D)          (None, 3, 3, 64)          36928     \n",
      "_________________________________________________________________\n",
      "activation_121 (Activation)  (None, 3, 3, 64)          0         \n",
      "_________________________________________________________________\n",
      "max_pooling2d_119 (MaxPoolin (None, 1, 1, 64)          0         \n",
      "=================================================================\n",
      "Total params: 84,064.0\n",
      "Trainable params: 84,064.0\n",
      "Non-trainable params: 0.0\n",
      "_________________________________________________________________\n"
     ]
    }
   ],
   "source": [
    "model.summary()"
   ]
  },
  {
   "cell_type": "code",
   "execution_count": 175,
   "metadata": {
    "collapsed": true
   },
   "outputs": [],
   "source": [
    "X_2 = np.array(X)\n",
    "val_X_2 = np.array(val_X)\n",
    "train_features = model.predict(X_2)\n",
    "val_features = model.predict(val_X_2)"
   ]
  },
  {
   "cell_type": "code",
   "execution_count": 176,
   "metadata": {
    "collapsed": true
   },
   "outputs": [],
   "source": [
    "model = Sequential()\n",
    "model.add(Flatten(input_shape=train_features.shape[1:]))  # this converts our 3D feature maps to 1D feature vectors\n",
    "model.add(Dense(256, activation='relu', \n",
    "                kernel_regularizer = regularizers.l2(0.01), \n",
    "                activity_regularizer=regularizers.l1(0.01)))\n",
    "model.add(Dropout(0.6))\n",
    "model.add(Dense(train_multilabels.shape[1], activation = 'sigmoid'))\n",
    "\n",
    "model.compile(loss='binary_crossentropy',\n",
    "              optimizer='sgd',\n",
    "              metrics=['accuracy'])"
   ]
  },
  {
   "cell_type": "code",
   "execution_count": 177,
   "metadata": {},
   "outputs": [
    {
     "data": {
      "text/plain": [
       "<matplotlib.text.Text at 0x7f1cce3b3850>"
      ]
     },
     "execution_count": 177,
     "metadata": {},
     "output_type": "execute_result"
    },
    {
     "data": {
      "image/png": "[encoded data removed]",
      "text/plain": [
       "<matplotlib.figure.Figure at 0x7f1cce3fafd0>"
      ]
     },
     "metadata": {},
     "output_type": "display_data"
    }
   ],
   "source": [
    "history = model.fit(train_features, train_multilabels.values,\n",
    "          epochs=50,\n",
    "          batch_size=16,\n",
    "          validation_data=(val_features, val_multilabels.values),\n",
    "          verbose=0)\n",
    "model.save_weights('conv_6_model.h5')\n",
    "\n",
    "plt.plot(history.history['acc'])\n",
    "plt.xlabel(\"epoch\")\n",
    "plt.ylabel(\"accuracy\")"
   ]
  },
  {
   "cell_type": "code",
   "execution_count": 178,
   "metadata": {},
   "outputs": [
    {
     "name": "stdout",
     "output_type": "stream",
     "text": [
      "  32/1160 [..............................] - ETA: 10s\n",
      " \n",
      "Scratch CNN Predictions\n",
      "hamming loss: 0.138520871143\n",
      "jaccard similarity: 0.0\n",
      "zero one loss: 1.0\n",
      "exact match ratio: 0.0\n"
     ]
    }
   ],
   "source": [
    "out = model.predict_proba(val_features)\n",
    "out = np.array(out)\n",
    "\n",
    "y_test = val_multilabels.values\n",
    "\n",
    "y_pred = np.array([[1 if out[i,j]>=0.5 else 0 for j in range(y_test.shape[1])] for i in range(len(y_test))])\n",
    "\n",
    "print '\\n '\n",
    "print 'Scratch CNN Predictions'\n",
    "print 'hamming loss:', skmetrics.hamming_loss(y_test, y_pred)\n",
    "print 'jaccard similarity:', skmetrics.jaccard_similarity_score(y_test, y_pred)\n",
    "print 'zero one loss:', skmetrics.zero_one_loss(y_test, y_pred)\n",
    "print 'exact match ratio:', skmetrics.accuracy_score(y_test, y_pred)"
   ]
  },
  {
   "cell_type": "markdown",
   "metadata": {},
   "source": [
    "## Fit Pre-Trained Neural Net\n",
    "This code was run multiple times on AWS with slight tweaks to get different models.\n",
    "\n",
    "### Add a fully-connected layer on top and train on bottleneck features"
   ]
  },
  {
   "cell_type": "code",
   "execution_count": 7,
   "metadata": {
    "collapsed": true
   },
   "outputs": [],
   "source": [
    "# Train a small fully-connected model on the bottleneck features\n",
    "model = Sequential()\n",
    "model.add(Flatten(input_shape=train_features.shape[1:]))\n",
    "model.add(Dense(256, activation='relu'))\n",
    "model.add(Dropout(0.5))\n",
    "model.add(Dense(train_multilabels.shape[1], activation='sigmoid'))\n",
    "\n",
    "model.compile(optimizer='sgd',\n",
    "              loss='binary_crossentropy',\n",
    "              metrics=['accuracy'])\n",
    "\n",
    "history = model.fit(train_features, train_multilabels.values,\n",
    "          epochs=100,\n",
    "          batch_size=16,\n",
    "          validation_data=(val_features, val_multilabels.values),\n",
    "          verbose=0)\n",
    "model.save_weights('bottleneck_fc_model.h5')"
   ]
  },
  {
   "cell_type": "code",
   "execution_count": 22,
   "metadata": {
    "collapsed": true
   },
   "outputs": [],
   "source": [
    "# serialize model to YAML\n",
    "model_yaml = model.to_yaml()\n",
    "with open(\"model.yaml\", \"w\") as yaml_file:\n",
    "    yaml_file.write(model_yaml)"
   ]
  },
  {
   "cell_type": "code",
   "execution_count": 11,
   "metadata": {},
   "outputs": [
    {
     "name": "stdout",
     "output_type": "stream",
     "text": [
      "9216/9291 [============================>.] - ETA: 0s \b\b\b\b\b\b\b\b\b\b\b\b\b\b\b\b\b\b\b\b\b\b\b\b\b\b\b\b\b\b\b\b\b\b\b\b\b\b\b\b\b\b\b\b\b\b\b\b\b\b\b\b\b\b\b\b\b\b\b\b\b\b\b\b\b\b\b\b\b\b\b\b\b\b\b\b\b\b\b\b\b\b\b\b\b\b\b\b\b\b\b\b\b\b\b\b\b\b\b\b\b\b\b\b\b\b\b\b\b\b\b\b\b\b\b\b\b\b\b\b\b\b\b\b\b\b\b\b\b\b\b\b\b\b\b\b\b\b\b\b\b\b\b\b\b\b\b\b\b\b\b\b\b\b\b\b\b\b\b\b\b\b\b\b\b\b\b\b\b\b\b\b\b\b\b\b\b\b\b\b\b\b\b\b\b\b\b\b\b\b\b\b\b\b\b\b\b\b\b\b\b\b\b\b\b\b\b\b\b\b\b\b\b\b\b\b\b\b\b\b\b\b\b\b\b\b\b\b\b\b\b\b\b\b\b\b\b\b\b\b\b\b\b\b\b\b\b\b\b\b\b\b\b\b\b\b\b\b\b\b\b\b\b\b\b\b\b\b\b\b\b\b\b\b\b\b\b\b\b\b\b\b\b\b\b\b\b\b\b\b\b\b\b\b\b\b\b\b\b\b\b\b\b\b\b\b\b\b\b\b\b\b\b\b\b\b\b\b\b\b\b\b\b\b\b\b\b\b\b\b\b\b\b\b\b\b\b\b\b\b\b\b\b\b\b\b\b\b\b\b\b\b\b\b\b\b\b\b\b\b\b\b\b\b\b\b\b\b\b\b\b\b\b\b\b\b\b\b\b\b\b\b\b\b\b\b\b\b\b\b\b\b\b\b\b\b\b\b\b\b\b\b\b\b\b\b\b\b\b\b\b\b\b\b\b\b\b\b\b\b\b\b\b\b\b\b\b\b\b\b\b\b\b\b\b\b\b\b\b\b\b\b\b\b\b\b\b\b\b\b\b\b\b\b\b\b\b\b\b\b\b\b\b\b\b\b\b\b\b\b\b\b\b\b\b\b\b\b\b\b\b\b\b\b\b\b\b\b\b\b\b\b\b\b\b\b\b\b\b\b\b\b\b\b\b\b\b\b\b\b\b\b\b\b\b\b\b\b\b\b\b\b\b\b\b\b\b\b\b\b\b\b\b\b\b\b\b\b\b\b\b\b\b\b\b\b\b\b\b\b\b\b\b\b\b\b\b\b\b\b\b\b\b\b\b\b\b\b\b\b\b\b\b\b\b\b\b\b\b\b\b\b\b\b\b\b\b\b\b\b\b\b\b\b\b\b\b\b\b\b\b\b\b\b\b\b\b\b\b\b\b\b\b\b\b\b\b\b\b\b\b\b\b\b\b\b\b\b\b\b\b\b\b\b\b\b\b\b\b\b\b\b\b\b\b\b\b\b\b\b\b\b\b\b\b\b\b\b\b\b\b\b\b\b\b\b\b\b\b\b\b\b\b\b\b\b\b\b\b\b\b\b\b\b\b\b\b\b\b\b\b\b\b\b\b\b\b\b\b\b\b\b\b\b\b\b\b\b\b\b\b\b\b\b\b\b\b\b\b\b\b\b\b\b\b\b\b\b\b\b\b\b\b\b\b\b\b\b\b\b\b\b\b\b\b\b\b\b\b\b\b\b\b\b\b\b\b\b\b\b\b\b\b\b\b\b\b\b\b\b\b\b\b\b\b\b\b\b\b\b\b\b\b\b\b\b\b\b\b\b\b\b\b\b\b\b\b\b\b\b\b\b\b\b\b\b\b\b\b\b\b\b\b\b\b\b\b\b\b\b\b\b\b\b\b\b\b\b\b\b\b\b\b\b\b\b\b\b\b\b\b\b\b\b\b\b\b\b\b\b\b\b\b\b\b\b\b\b\b\b\b\b\b\b\b\b\b\b\b\b\b\b\b\b\b\b\b\b\b\b\b\b\b\b\b\b\b\b\b\b\b\b\b\b\b\b\b\b\b\b\b\b\b\b\b\b\b\b\b\b\b\b\b\b\b\b\b\b\b\b\b\b\b\b\b\b\b\b\b\b\b\b\b\b\b\b\b\b\b\b\b\b\b\b\b\b\b\b\b\b\b\b\b\b\b\b\b\b\b\b\b\b\b\b\b\b\b\b\b\b\b\b\b\b\b\b\b\b\b\b\b\b\b\b\b\b\b\b\b\b\b\b\b\b\b\b\b\b\b\b\b\b\b\b\b\b\b\b\b\b\b\b\b\b\b\b\b\b\b\b\b\b\b\b\b\b\b\b\b\b\b\b\b\b\b\b\b\b\b\b\b\b\b\b\b\b\b\b\b\b\b\b\b\b\b\b\b\b\b\b\b\b\b\b\b\b\b\b\b\b\b\b\b\b\b\b\b\b\b\b\b\b\b\b\b\b\b\b\b\b\b\b\b\b\b\b\b\b\b\b\b\b\b\b\b\b\b\b\b\b\b\b\b\b\b\b\b\b\b\b\b\b\b\b\b\b\b\b\b\b\b\b\b\b\b\b\b\b\b\b\b\b\b\b\b\b\b\b\b\b\b\b\b\b\b\b\b\b\b\b\b\b\b\b\b\b\b\b\b\b\b\b\b\b\b\b\b\b\b\b\b\b\b\b\b\b\b\b\b\b\b\b\b\b\b\b\b\b\b\b\b\b\b\b\b\b\b\b\b\b\b\b\b\b\b\b\b\b\b\b\b\b\b\b\b\b\b\b\b\b\b\b\b\b\b\b\b\b\b\b\b\b\b\b\b\b\b\b\b\b\b\b\b\b\b\b\b\b\b\b\b\b\b\b\b\b\b\b\b\b\b\b\b\b\b\b\b\b\b\b\b\b\b\b\b\b\b\b\b\b\b\b\b\b\b\b\b\b\b\b\b\b\b\b\b\b\b\b\b\b\b\b\b\b\b\b\b\b\b\b\b\b\b\b\b\b\b\b\b\b\b\b\b\b\b\b\b\b\b\b\b\b\b\b\b\b\b\b\b\b\b\b\b\b\b\b\b\b\b\b\b\b\b\b\b\b\b\b\b\b\b\b\b\b\b\b\b\b\b\b\b\b\b\b\b\b\b\b\b\b\b\b\b\b\b\b\b\b\b\b\b\b\b\b\b\b\b\b\b\b\b\b\b\b\b\b\b\b\b\b\b\b\b\b\b\b\b\b\b\b\b\b\b\b\b\b\b\b\b\b\b\b\b\b\b\b\b\b\b\b\b\b\b\b\b\b\b\b\b\b\b\b\b\b\b\b\b\b\b\b\b\b\b\b\b\b\b\b\b\b\b\b\b\b\b\b\b\b\b\b\b\b\b\b\b\b\b\b\b\b\b\b\b\b\b\b\b\b\b\b\b\b\b\b\b\b\b\b\b\b\b\b\b\b\b\b\b\b\b\b\b\b\b\b\b\b\b\b\b\b\b\b\b\b\b\b\b\b\b\b\b\b\b\b\b\b\b\b\b\b\b\b\b\b\b\b\b\b\b\b\b\b\b\b\b\b\b\b\b\b\b\b\b\b\b\b\b\b\b\b\b\b\b\b\b\b\b\b\b\b\b\b\b\b\b\b\b\b\b\b\b\b\b\b\b\b\b\b\b\b\b\b\b\b\b\b\b\b\b\b\b\b\b\b\b\b\b\b\b\b\b\b\b\b\b\b\b\b\b\b\b\b\b\b\b\b\b\b\b\b\b\b\b\b\b\b\b\b\b\b\b\b\b\b\b\b\b\b\b\b\b\b\b\b\b\b\b\b\b\b\b\b\b\b\b\b\b\b\b\b\b\b\b\b\b\b\b\b\b\b\b\b\b\b\b\b\b\b\b\b\b\b\b\b\b\b\b\b\b\b\b\b\b\b\b\b\b\b\b\b\b\b\b\b\b\b\b\b\b\b\b\b\b\b\b\b\b\b\b\b\b\b\b\b\b\b\b\b\b\b\b\b\b\b\b\b\b\b\b\b\b\b\b\b\b\b\b\b\b\b\b\b\b\b\b\b\b\b\b\b\b\b\b\b\b\b\b\b\b\b\b\b\b\b\b\b\b\b\b\b\b"
     ]
    }
   ],
   "source": [
    "train_probs = model.predict_proba(train_features)"
   ]
  },
  {
   "cell_type": "code",
   "execution_count": 12,
   "metadata": {},
   "outputs": [
    {
     "data": {
      "text/plain": [
       "(9291, 19)"
      ]
     },
     "execution_count": 12,
     "metadata": {},
     "output_type": "execute_result"
    }
   ],
   "source": [
    "train_probs.shape"
   ]
  },
  {
   "cell_type": "code",
   "execution_count": 13,
   "metadata": {},
   "outputs": [
    {
     "name": "stdout",
     "output_type": "stream",
     "text": [
      "1088/1160 [===========================>..] - ETA: 0s\b\b\b\b\b\b\b\b\b\b\b\b\b\b\b\b\b\b\b\b\b\b\b\b\b\b\b\b\b\b\b\b\b\b\b\b\b\b\b\b\b\b\b\b\b\b\b\b\b\b\b\b\b\b\b\b\b\b\b\b\b\b\b\b\b\b\b\b\b\b\b\b\b\b\b\b\b\b\b\b\b\b\b\b\b\b\b\b\b\b\b\b\b\b\b\b\b\b\b\b\b\b\b\b\b\b\b\b\b\b\b\b\b\b\b\b\b\b\b\b\b\b\b\b\b\b\b\b\b\b\b\b\b\b\b\b\b\b\b\b\b\b\b\b\b\b\b\b\b\b\b\b\b\b\b\b\b\b\b\b\b\b\b\b\b\b\b\b\b\b\b\b\b\b\b\b\b\b\b\b\b\b\b\b\b\b\b\b\b\b\b\b\b\b\b\b\b\b\b\b\b\b\b\b\b\b\b\b"
     ]
    }
   ],
   "source": [
    "val_probs = model.predict_proba(val_features)"
   ]
  },
  {
   "cell_type": "code",
   "execution_count": 14,
   "metadata": {},
   "outputs": [
    {
     "data": {
      "text/plain": [
       "(1160, 19)"
      ]
     },
     "execution_count": 14,
     "metadata": {},
     "output_type": "execute_result"
    }
   ],
   "source": [
    "val_probs.shape"
   ]
  },
  {
   "cell_type": "code",
   "execution_count": 18,
   "metadata": {
    "collapsed": true
   },
   "outputs": [],
   "source": [
    "# save train and validation probabilities and actual values\n",
    "np.save(open('train_probs.npy', 'w'), train_probs)\n",
    "np.save(open('val_probs.npy', 'w'), val_probs)\n",
    "np.save(open('train_multilabels.npy', 'w'), train_multilabels)\n",
    "np.save(open('val_multilabels.npy', 'w'), val_multilabels)"
   ]
  },
  {
   "cell_type": "markdown",
   "metadata": {},
   "source": [
    "### Loading model from yaml\n",
    "We saved some models for quick loading."
   ]
  },
  {
   "cell_type": "code",
   "execution_count": 5,
   "metadata": {
    "collapsed": true
   },
   "outputs": [],
   "source": [
    "yaml_file = open('model.yaml', 'r')\n",
    "loaded_model_yaml = yaml_file.read()\n",
    "yaml_file.close()\n",
    "model = model_from_yaml(loaded_model_yaml)\n",
    "# load weights into new model\n",
    "model.load_weights(\"bottleneck_fc_model.h5\")\n",
    "model.compile(optimizer='sgd',\n",
    "              loss='binary_crossentropy',\n",
    "              metrics=['accuracy'])"
   ]
  },
  {
   "cell_type": "markdown",
   "metadata": {},
   "source": [
    "### Evaluation of performance"
   ]
  },
  {
   "cell_type": "code",
   "execution_count": 17,
   "metadata": {},
   "outputs": [
    {
     "name": "stdout",
     "output_type": "stream",
     "text": [
      "('Train loss:', 0.18188104101151673)\n",
      "('Train accuracy:', 0.90423656116837048)\n",
      "('Validation loss:', 0.52511948552624932)\n",
      "('Validation accuracy:', 0.86810332701123993)\n"
     ]
    }
   ],
   "source": [
    "# built-in accuracy and loss\n",
    "score = model.evaluate(train_features, train_multilabels.values, verbose=0)\n",
    "print('Train loss:', score[0])\n",
    "print('Train accuracy:', score[1])\n",
    "\n",
    "score = model.evaluate(val_features, val_multilabels.values, verbose=0)\n",
    "print('Validation loss:', score[0])\n",
    "print('Validation accuracy:', score[1])"
   ]
  },
  {
   "cell_type": "code",
   "execution_count": 15,
   "metadata": {},
   "outputs": [
    {
     "data": {
      "text/plain": [
       "<matplotlib.text.Text at 0x7f914c037f50>"
      ]
     },
     "execution_count": 15,
     "metadata": {},
     "output_type": "execute_result"
    },
    {
     "data": {
      "image/png": "[encoded data removed]",
      "text/plain": [
       "<matplotlib.figure.Figure at 0x7f918c6a7950>"
      ]
     },
     "metadata": {},
     "output_type": "display_data"
    }
   ],
   "source": [
    "# training progress\n",
    "plt.plot(history.history['acc'])\n",
    "plt.xlabel(\"epoch\")\n",
    "plt.ylabel(\"accuracy\")"
   ]
  },
  {
   "cell_type": "code",
   "execution_count": null,
   "metadata": {
    "collapsed": true
   },
   "outputs": [],
   "source": [
    "out = model.predict_proba(val_features)\n",
    "out = np.array(out)\n",
    "\n",
    "y_test = val_multilabels.values    \n",
    "y_pred = np.array([[1 if out[i,j]>=0.5 else 0 for j in range(y_test.shape[1])] for i in range(len(y_test))])"
   ]
  },
  {
   "cell_type": "code",
   "execution_count": null,
   "metadata": {
    "collapsed": true
   },
   "outputs": [],
   "source": [
    "print 'hamming loss:', skmetrics.hamming_loss(y_test, y_pred)\n",
    "print 'jaccard similarity:', skmetrics.jaccard_similarity_score(y_test, y_pred)\n",
    "print 'zero one loss:', skmetrics.zero_one_loss(y_test, y_pred)\n",
    "print 'exact match ratio:', skmetrics.accuracy_score(y_test, y_pred)"
   ]
  },
  {
   "cell_type": "markdown",
   "metadata": {},
   "source": [
    "## Naive Baseline Models + Additional Metrics\n",
    "* all zeroes\n",
    "* all ones\n",
    "* most common set of genres\n",
    "* per-genre accuracy"
   ]
  },
  {
   "cell_type": "code",
   "execution_count": 6,
   "metadata": {
    "collapsed": true
   },
   "outputs": [],
   "source": [
    "import os\n",
    "import pickle\n",
    "\n",
    "import numpy as np\n",
    "import pandas as pd\n",
    "import sklearn.metrics as skmetrics\n",
    "from collections import Counter\n",
    "\n",
    "import matplotlib.pyplot as plt\n",
    "%matplotlib inline"
   ]
  },
  {
   "cell_type": "code",
   "execution_count": 7,
   "metadata": {
    "collapsed": true
   },
   "outputs": [],
   "source": [
    "out = open('data/cols.pkl', 'r')\n",
    "cols = pickle.load(out)\n",
    "y_pred = pd.DataFrame(np.load('data/y_pred.npy'), columns = cols)\n",
    "y_test = pd.DataFrame(np.load('data/y_test.npy'), columns = cols)"
   ]
  },
  {
   "cell_type": "markdown",
   "metadata": {},
   "source": [
    "### All Zeros"
   ]
  },
  {
   "cell_type": "code",
   "execution_count": 9,
   "metadata": {},
   "outputs": [
    {
     "name": "stdout",
     "output_type": "stream",
     "text": [
      "hamming loss: 0.138520871143\n",
      "jaccard similarity: 0.0\n",
      "zero one loss: 1.0\n",
      "exact match ratio: 0.0\n"
     ]
    }
   ],
   "source": [
    "zeros = np.zeros(y_test.shape)\n",
    "print 'hamming loss:', skmetrics.hamming_loss(y_test, zeros)\n",
    "print 'jaccard similarity:', skmetrics.jaccard_similarity_score(y_test, zeros)\n",
    "print 'zero one loss:', skmetrics.zero_one_loss(y_test, zeros)\n",
    "print 'exact match ratio:', skmetrics.accuracy_score(y_test, zeros)"
   ]
  },
  {
   "cell_type": "markdown",
   "metadata": {},
   "source": [
    "### All Ones"
   ]
  },
  {
   "cell_type": "code",
   "execution_count": 10,
   "metadata": {},
   "outputs": [
    {
     "name": "stdout",
     "output_type": "stream",
     "text": [
      "hamming loss: 0.861479128857\n",
      "jaccard similarity: 0.138520871143\n",
      "zero one loss: 1.0\n",
      "exact match ratio: 0.0\n"
     ]
    }
   ],
   "source": [
    "ones = np.ones(y_test.shape)\n",
    "print 'hamming loss:', skmetrics.hamming_loss(y_test, ones)\n",
    "print 'jaccard similarity:', skmetrics.jaccard_similarity_score(y_test, ones)\n",
    "print 'zero one loss:', skmetrics.zero_one_loss(y_test, ones)\n",
    "print 'exact match ratio:', skmetrics.accuracy_score(y_test, ones)"
   ]
  },
  {
   "cell_type": "markdown",
   "metadata": {},
   "source": [
    "### Most Common Set of Genres"
   ]
  },
  {
   "cell_type": "code",
   "execution_count": 11,
   "metadata": {},
   "outputs": [
    {
     "name": "stdout",
     "output_type": "stream",
     "text": [
      "most common combo: (0, 0, 0, 0, 0, 0, 0, 0, 0, 0, 0, 0, 1, 0, 0, 0, 0, 0, 0)\n",
      "appears 72 times\n"
     ]
    }
   ],
   "source": [
    "count = Counter()\n",
    "for index, row in y_test.iterrows():\n",
    "    count[tuple(row)] += 1\n",
    "print \"most common combo:\", count.most_common(1)[0][0]\n",
    "print \"appears {} times\".format(count.most_common(1)[0][1])"
   ]
  },
  {
   "cell_type": "code",
   "execution_count": 12,
   "metadata": {
    "collapsed": true
   },
   "outputs": [],
   "source": [
    "most_common = pd.Series(count.most_common(1)[0][0]).to_frame().T\n",
    "most_common.columns = cols\n",
    "naive = pd.concat([most_common] * len(y_test))"
   ]
  },
  {
   "cell_type": "code",
   "execution_count": 13,
   "metadata": {},
   "outputs": [
    {
     "data": {
      "text/html": [
       "<div>\n",
       "<table border=\"1\" class=\"dataframe\">\n",
       "  <thead>\n",
       "    <tr style=\"text-align: right;\">\n",
       "      <th></th>\n",
       "      <th>War</th>\n",
       "      <th>Mystery</th>\n",
       "      <th>Music</th>\n",
       "      <th>Comedy</th>\n",
       "      <th>History</th>\n",
       "      <th>Western</th>\n",
       "      <th>Animation</th>\n",
       "      <th>Adventure</th>\n",
       "      <th>Drama</th>\n",
       "      <th>Fantasy</th>\n",
       "      <th>Crime</th>\n",
       "      <th>TV Movie</th>\n",
       "      <th>Documentary</th>\n",
       "      <th>Thriller</th>\n",
       "      <th>Science Fiction</th>\n",
       "      <th>Horror</th>\n",
       "      <th>Action</th>\n",
       "      <th>Romance</th>\n",
       "      <th>Family</th>\n",
       "    </tr>\n",
       "  </thead>\n",
       "  <tbody>\n",
       "    <tr>\n",
       "      <th>0</th>\n",
       "      <td>0</td>\n",
       "      <td>0</td>\n",
       "      <td>0</td>\n",
       "      <td>0</td>\n",
       "      <td>0</td>\n",
       "      <td>0</td>\n",
       "      <td>0</td>\n",
       "      <td>0</td>\n",
       "      <td>0</td>\n",
       "      <td>0</td>\n",
       "      <td>0</td>\n",
       "      <td>0</td>\n",
       "      <td>1</td>\n",
       "      <td>0</td>\n",
       "      <td>0</td>\n",
       "      <td>0</td>\n",
       "      <td>0</td>\n",
       "      <td>0</td>\n",
       "      <td>0</td>\n",
       "    </tr>\n",
       "    <tr>\n",
       "      <th>0</th>\n",
       "      <td>0</td>\n",
       "      <td>0</td>\n",
       "      <td>0</td>\n",
       "      <td>0</td>\n",
       "      <td>0</td>\n",
       "      <td>0</td>\n",
       "      <td>0</td>\n",
       "      <td>0</td>\n",
       "      <td>0</td>\n",
       "      <td>0</td>\n",
       "      <td>0</td>\n",
       "      <td>0</td>\n",
       "      <td>1</td>\n",
       "      <td>0</td>\n",
       "      <td>0</td>\n",
       "      <td>0</td>\n",
       "      <td>0</td>\n",
       "      <td>0</td>\n",
       "      <td>0</td>\n",
       "    </tr>\n",
       "    <tr>\n",
       "      <th>0</th>\n",
       "      <td>0</td>\n",
       "      <td>0</td>\n",
       "      <td>0</td>\n",
       "      <td>0</td>\n",
       "      <td>0</td>\n",
       "      <td>0</td>\n",
       "      <td>0</td>\n",
       "      <td>0</td>\n",
       "      <td>0</td>\n",
       "      <td>0</td>\n",
       "      <td>0</td>\n",
       "      <td>0</td>\n",
       "      <td>1</td>\n",
       "      <td>0</td>\n",
       "      <td>0</td>\n",
       "      <td>0</td>\n",
       "      <td>0</td>\n",
       "      <td>0</td>\n",
       "      <td>0</td>\n",
       "    </tr>\n",
       "    <tr>\n",
       "      <th>0</th>\n",
       "      <td>0</td>\n",
       "      <td>0</td>\n",
       "      <td>0</td>\n",
       "      <td>0</td>\n",
       "      <td>0</td>\n",
       "      <td>0</td>\n",
       "      <td>0</td>\n",
       "      <td>0</td>\n",
       "      <td>0</td>\n",
       "      <td>0</td>\n",
       "      <td>0</td>\n",
       "      <td>0</td>\n",
       "      <td>1</td>\n",
       "      <td>0</td>\n",
       "      <td>0</td>\n",
       "      <td>0</td>\n",
       "      <td>0</td>\n",
       "      <td>0</td>\n",
       "      <td>0</td>\n",
       "    </tr>\n",
       "    <tr>\n",
       "      <th>0</th>\n",
       "      <td>0</td>\n",
       "      <td>0</td>\n",
       "      <td>0</td>\n",
       "      <td>0</td>\n",
       "      <td>0</td>\n",
       "      <td>0</td>\n",
       "      <td>0</td>\n",
       "      <td>0</td>\n",
       "      <td>0</td>\n",
       "      <td>0</td>\n",
       "      <td>0</td>\n",
       "      <td>0</td>\n",
       "      <td>1</td>\n",
       "      <td>0</td>\n",
       "      <td>0</td>\n",
       "      <td>0</td>\n",
       "      <td>0</td>\n",
       "      <td>0</td>\n",
       "      <td>0</td>\n",
       "    </tr>\n",
       "  </tbody>\n",
       "</table>\n",
       "</div>"
      ],
      "text/plain": [
       "   War  Mystery  Music  Comedy  History  Western  Animation  Adventure  Drama  \\\n",
       "0    0        0      0       0        0        0          0          0      0   \n",
       "0    0        0      0       0        0        0          0          0      0   \n",
       "0    0        0      0       0        0        0          0          0      0   \n",
       "0    0        0      0       0        0        0          0          0      0   \n",
       "0    0        0      0       0        0        0          0          0      0   \n",
       "\n",
       "   Fantasy  Crime  TV Movie  Documentary  Thriller  Science Fiction  Horror  \\\n",
       "0        0      0         0            1         0                0       0   \n",
       "0        0      0         0            1         0                0       0   \n",
       "0        0      0         0            1         0                0       0   \n",
       "0        0      0         0            1         0                0       0   \n",
       "0        0      0         0            1         0                0       0   \n",
       "\n",
       "   Action  Romance  Family  \n",
       "0       0        0       0  \n",
       "0       0        0       0  \n",
       "0       0        0       0  \n",
       "0       0        0       0  \n",
       "0       0        0       0  "
      ]
     },
     "execution_count": 13,
     "metadata": {},
     "output_type": "execute_result"
    }
   ],
   "source": [
    "naive.head()"
   ]
  },
  {
   "cell_type": "code",
   "execution_count": 14,
   "metadata": {},
   "outputs": [
    {
     "name": "stdout",
     "output_type": "stream",
     "text": [
      "hamming loss: 0.179809437387\n",
      "jaccard similarity: 0.0827586206897\n",
      "zero one loss: 0.937931034483\n",
      "exact match ratio: 0.0620689655172\n"
     ]
    }
   ],
   "source": [
    "print 'hamming loss:', skmetrics.hamming_loss(y_test, naive)\n",
    "print 'jaccard similarity:', skmetrics.jaccard_similarity_score(y_test, naive)\n",
    "print 'zero one loss:', skmetrics.zero_one_loss(y_test, naive)\n",
    "print 'exact match ratio:', skmetrics.accuracy_score(y_test, naive)"
   ]
  },
  {
   "cell_type": "markdown",
   "metadata": {},
   "source": [
    "### Per Genre Accuracy"
   ]
  },
  {
   "cell_type": "code",
   "execution_count": 28,
   "metadata": {
    "scrolled": false
   },
   "outputs": [
    {
     "data": {
      "image/png": "[encoded data removed]",
      "text/plain": [
       "<matplotlib.figure.Figure at 0x11b3cdd10>"
      ]
     },
     "metadata": {},
     "output_type": "display_data"
    }
   ],
   "source": [
    "genre_acc = []\n",
    "for genre in cols:\n",
    "    genre_acc.append((y_test[genre] == y_pred[genre]).mean())\n",
    "    \n",
    "# plot\n",
    "plt.figure(figsize=(10, 5))\n",
    "y_pos = np.arange(len(cols))\n",
    "plt.bar(y_pos, genre_acc, align='center', alpha=0.5)\n",
    "plt.xticks(y_pos, cols)\n",
    "plt.xticks(rotation=70)\n",
    "plt.ylabel('Accuracy')\n",
    "plt.title('Accuracy by Genre with SGD 100 Epochs')\n",
    "plt.show()"
   ]
  },
  {
   "cell_type": "markdown",
   "metadata": {},
   "source": [
    "## Additional Exploratory Ideas"
   ]
  },
  {
   "cell_type": "markdown",
   "metadata": {},
   "source": [
    "### Find the optimum threshold values on the training set"
   ]
  },
  {
   "cell_type": "code",
   "execution_count": 4,
   "metadata": {
    "collapsed": true
   },
   "outputs": [],
   "source": [
    "out = train_probs\n",
    "y_test = train_multilabels"
   ]
  },
  {
   "cell_type": "code",
   "execution_count": 5,
   "metadata": {},
   "outputs": [
    {
     "name": "stderr",
     "output_type": "stream",
     "text": [
      "/Users/harryxue/anaconda/envs/keras/lib/python2.7/site-packages/sklearn/metrics/classification.py:516: RuntimeWarning: invalid value encountered in double_scalars\n",
      "  mcc = cov_ytyp / np.sqrt(var_yt * var_yp)\n"
     ]
    }
   ],
   "source": [
    "acc = []\n",
    "accuracies = []\n",
    "best_threshold = np.zeros(out.shape[1])\n",
    "threshold = np.arange(0.1, 0.9, step=0.05)\n",
    "for i in range(out.shape[1]):\n",
    "    y_prob = np.array(out[:,i])\n",
    "    for j in threshold:\n",
    "        y_pred = [1 if prob>=j else 0 for prob in y_prob]\n",
    "        acc.append(matthews_corrcoef(y_test[:,i],y_pred))\n",
    "    acc   = np.array(acc)\n",
    "    index = np.where(acc==acc.max()) \n",
    "    accuracies.append(acc.max()) \n",
    "    best_threshold[i] = threshold[index[0][0]]\n",
    "    acc = []"
   ]
  },
  {
   "cell_type": "code",
   "execution_count": 6,
   "metadata": {},
   "outputs": [
    {
     "data": {
      "text/plain": [
       "array([ 0.2 ,  0.2 ,  0.25,  0.2 ,  0.25,  0.25,  0.3 ,  0.2 ,  0.4 ,\n",
       "        0.1 ,  0.3 ,  0.15,  0.25,  0.25,  0.15,  0.3 ,  0.25,  0.25,  0.25])"
      ]
     },
     "execution_count": 6,
     "metadata": {},
     "output_type": "execute_result"
    }
   ],
   "source": [
    "best_threshold"
   ]
  },
  {
   "cell_type": "code",
   "execution_count": 7,
   "metadata": {
    "collapsed": true
   },
   "outputs": [],
   "source": [
    "val_pred = np.array([[int(val_probs[i,j]>=best_threshold[j]) for j in range(val_probs.shape[1])] for i in range(len(val_probs))])"
   ]
  },
  {
   "cell_type": "code",
   "execution_count": 20,
   "metadata": {},
   "outputs": [
    {
     "data": {
      "text/plain": [
       "(1160, 19)"
      ]
     },
     "execution_count": 20,
     "metadata": {},
     "output_type": "execute_result"
    }
   ],
   "source": [
    "val_pred.shape"
   ]
  },
  {
   "cell_type": "code",
   "execution_count": 10,
   "metadata": {
    "collapsed": true
   },
   "outputs": [],
   "source": [
    "# Save thresholded predictions\n",
    "np.save('data/val_pred_thresholded.np', val_pred)"
   ]
  },
  {
   "cell_type": "code",
   "execution_count": 26,
   "metadata": {
    "collapsed": true
   },
   "outputs": [],
   "source": [
    "from sklearn import metrics as skmetrics"
   ]
  },
  {
   "cell_type": "code",
   "execution_count": 27,
   "metadata": {},
   "outputs": [
    {
     "name": "stdout",
     "output_type": "stream",
     "text": [
      "Neural Net Predictions\n",
      "hamming loss: 0.197277676951\n",
      "jaccard similarity: 0.242022685169\n",
      "zero one loss: 0.978448275862\n",
      "exact match ratio: 0.0215517241379\n"
     ]
    }
   ],
   "source": [
    "print 'Neural Net Predictions'\n",
    "print 'hamming loss:', skmetrics.hamming_loss(val_pred, val_multilabels)\n",
    "print 'jaccard similarity:', skmetrics.jaccard_similarity_score(val_pred, val_multilabels)\n",
    "print 'zero one loss:', skmetrics.zero_one_loss(val_pred, val_multilabels)\n",
    "print 'exact match ratio:', skmetrics.accuracy_score(val_pred, val_multilabels)"
   ]
  },
  {
   "cell_type": "code",
   "execution_count": 28,
   "metadata": {
    "collapsed": true
   },
   "outputs": [],
   "source": [
    "all_zeros = np.zeros((1160, 19))"
   ]
  },
  {
   "cell_type": "code",
   "execution_count": 29,
   "metadata": {},
   "outputs": [
    {
     "name": "stdout",
     "output_type": "stream",
     "text": [
      "hamming loss: 0.138520871143\n"
     ]
    }
   ],
   "source": [
    "print 'hamming loss:', skmetrics.hamming_loss(all_zeros, val_multilabels)\n"
   ]
  },
  {
   "cell_type": "markdown",
   "metadata": {},
   "source": [
    "### Additional metrics and visualization\n",
    "For our additional exploratory ideas, we decided to really dive into the visualization of the prediction results on the validation set from our deep neural net to try to understand what is going on."
   ]
  },
  {
   "cell_type": "code",
   "execution_count": 79,
   "metadata": {
    "collapsed": true
   },
   "outputs": [],
   "source": [
    "# Load actual and predicted multilabels on the validation dataset\n",
    "# Naive thresholding (>0.5 predicted as 1 for the genre)\n",
    "y_pred = np.load('data/y_pred.npy')\n",
    "# Raw probability estimates on validation set\n",
    "val_probs = np.load('data/val_probs.npy')\n",
    "# Thresholding using Matthew's correlation coefficient\n",
    "y_matthews = np.load('data/val_pred_thresholded.npy')\n",
    "y_actual = np.load('data/y_test.npy')\n",
    "# Genre names\n",
    "genre_names_index = pickle.load(open('data/cols.pkl', 'rb'))"
   ]
  },
  {
   "cell_type": "markdown",
   "metadata": {},
   "source": [
    "#### ROC Curves\n",
    "To see how well our neural network performed on a per-genre basis, we can plot an ROC curve for each genre:"
   ]
  },
  {
   "cell_type": "code",
   "execution_count": 58,
   "metadata": {},
   "outputs": [
    {
     "data": {
      "image/png": "[encoded data removed]",
      "text/plain": [
       "<matplotlib.figure.Figure at 0x11ec00e50>"
      ]
     },
     "metadata": {},
     "output_type": "display_data"
    }
   ],
   "source": [
    "# setup plot details\n",
    "lw = 2\n",
    "\n",
    "# Compute Precision-Recall and plot curve\n",
    "precision = dict()\n",
    "recall = dict()\n",
    "average_precision = dict()\n",
    "for i in range(y_actual.shape[1]):\n",
    "    precision[i], recall[i], _ = precision_recall_curve(y_actual[:,i],\n",
    "                                                        val_probs[:,i])\n",
    "    average_precision[i] = average_precision_score(y_actual[:, i], val_probs[:, i])\n",
    "\n",
    "# Compute micro-average ROC curve and ROC area\n",
    "precision[\"micro\"], recall[\"micro\"], _ = precision_recall_curve(y_actual.ravel(),\n",
    "    val_probs.ravel())\n",
    "average_precision[\"micro\"] = average_precision_score(y_actual, val_probs,\n",
    "                                                     average=\"micro\")\n",
    "\n",
    "\n",
    "# Plot Precision-Recall curve for each genre\n",
    "plt.clf()\n",
    "plt.plot(recall[\"micro\"], precision[\"micro\"], color='red', lw=8,\n",
    "         label='micro-average Precision-recall curve (area = {0:0.2f})'\n",
    "               ''.format(average_precision[\"micro\"]))\n",
    "for i in range(y_actual.shape[1]):\n",
    "    plt.plot(recall[i], precision[i], lw=lw,\n",
    "             label='Precision-recall curve of genre {0} (area = {1:0.2f})'\n",
    "                   ''.format(genre_names_index[i], average_precision[i]))\n",
    "\n",
    "plt.xlim([0.0, 1.0])\n",
    "plt.ylim([0.0, 1.05])\n",
    "plt.xlabel('Recall')\n",
    "plt.ylabel('Precision')\n",
    "plt.title('Precision Recall Curves for each Genre')\n",
    "plt.legend(loc=9, bbox_to_anchor=(0.5, -0.1))\n",
    "plt.show()"
   ]
  },
  {
   "cell_type": "markdown",
   "metadata": {},
   "source": [
    "Unfortunately, the performance looks rather poor (given that 0.5 is the area under curve for a completely random classifier).\n",
    "\n",
    "Our neural net seems to perform ok (AUC > 0.5) on Drama and Animation (among a few others). It performs worst on Music and Mystery.\n",
    "\n",
    "That said, given that we tried to directly tackle the challenging task of multilabel prediction, these results (though disappointing) are not terribly surprising."
   ]
  },
  {
   "cell_type": "markdown",
   "metadata": {},
   "source": [
    "## Genre Correlation Heatmaps \n",
    "Now that we have predictions on our validation dataset for genre multilabels (both using a naive thresholding of 0.5 and a more sophisticated thresholding method using Matthew's correlation coefficient), let's see how the genre correlation heatmaps compare between our predictions and the actual multilabels.\n",
    "\n",
    "This will give us a visual summary of how well (or how poorly) our thresholds reflect correlations between genres."
   ]
  },
  {
   "cell_type": "markdown",
   "metadata": {},
   "source": [
    "#### Actual Multilabels Genre Heatmap"
   ]
  },
  {
   "cell_type": "code",
   "execution_count": 107,
   "metadata": {},
   "outputs": [
    {
     "data": {
      "text/plain": [
       "<matplotlib.text.Text at 0x128f54bd0>"
      ]
     },
     "execution_count": 107,
     "metadata": {},
     "output_type": "execute_result"
    },
    {
     "data": {
      "image/png": "[encoded data removed]",
      "text/plain": [
       "<matplotlib.figure.Figure at 0x128d822d0>"
      ]
     },
     "metadata": {},
     "output_type": "display_data"
    }
   ],
   "source": [
    "actual_df = pd.DataFrame(np.corrcoef(y_actual.T), index=genre_names_index, columns=genre_names_index)\n",
    "\n",
    "# Set up the matplotlib figure\n",
    "f, ax = plt.subplots(figsize=(12, 9))\n",
    "mask = np.zeros_like(actual_df)\n",
    "mask[np.triu_indices_from(mask)] = True\n",
    "\n",
    "# Draw the heatmap using seaborn\n",
    "sns.heatmap(actual_df, mask=mask, square=True)\n",
    "ax.set_title('Co-occurrences of Genres in Actual Multilabels')"
   ]
  },
  {
   "cell_type": "markdown",
   "metadata": {},
   "source": [
    "#### Predicted Multilabels (Naive 0.5 Thresholding) Genre Heatmap"
   ]
  },
  {
   "cell_type": "code",
   "execution_count": 108,
   "metadata": {},
   "outputs": [
    {
     "data": {
      "text/plain": [
       "<matplotlib.text.Text at 0x12928ff10>"
      ]
     },
     "execution_count": 108,
     "metadata": {},
     "output_type": "execute_result"
    },
    {
     "data": {
      "image/png": "[encoded data removed]",
      "text/plain": [
       "<matplotlib.figure.Figure at 0x1273ce190>"
      ]
     },
     "metadata": {},
     "output_type": "display_data"
    }
   ],
   "source": [
    "pred_naive_df = pd.DataFrame(np.corrcoef(y_pred.T), index=genre_names_index, columns=genre_names_index)\n",
    "\n",
    "# Set up the matplotlib figure\n",
    "f, ax = plt.subplots(figsize=(12, 9))\n",
    "mask = np.zeros_like(pred_naive_df)\n",
    "mask[np.triu_indices_from(mask)] = True\n",
    "\n",
    "# Draw the heatmap using seaborn\n",
    "sns.heatmap(pred_naive_df, square=True)\n",
    "\n",
    "ax.set_title('Co-occurrences of Genres in Predicted Multilabels, Naive 0.5 Threshold')"
   ]
  },
  {
   "cell_type": "markdown",
   "metadata": {},
   "source": [
    "#### Predicted Multilabels (Matthews Correlation Thresholding) Genre Heatmap"
   ]
  },
  {
   "cell_type": "code",
   "execution_count": 110,
   "metadata": {},
   "outputs": [
    {
     "data": {
      "text/plain": [
       "<matplotlib.text.Text at 0x12990e690>"
      ]
     },
     "execution_count": 110,
     "metadata": {},
     "output_type": "execute_result"
    },
    {
     "data": {
      "image/png": "[encoded data removed]",
      "text/plain": [
       "<matplotlib.figure.Figure at 0x1286ff5d0>"
      ]
     },
     "metadata": {},
     "output_type": "display_data"
    }
   ],
   "source": [
    "matthews_df = pd.DataFrame(np.corrcoef(y_matthews.T), index=genre_names_index, columns=genre_names_index)\n",
    "\n",
    "# Set up the matplotlib figure\n",
    "f, ax = plt.subplots(figsize=(12, 9))\n",
    "mask = np.zeros_like(matthews_df)\n",
    "mask[np.triu_indices_from(mask)] = True\n",
    "\n",
    "# Draw the heatmap using seaborn\n",
    "sns.heatmap(matthews_df, square=True, mask=mask)\n",
    "\n",
    "ax.set_title('Co-occurrences of Genres in Predicted Multilabels, Matthews Threshold')"
   ]
  },
  {
   "cell_type": "markdown",
   "metadata": {},
   "source": [
    "We see that though far from perfect, Matthews Thresholding captures the correlation structure of the actual genres far better than naive thresholding with a cutoff of 0.5."
   ]
  }
 ],
 "metadata": {
  "kernelspec": {
   "display_name": "Python 2",
   "language": "python",
   "name": "python2"
  },
  "language_info": {
   "codemirror_mode": {
    "name": "ipython",
    "version": 2
   },
   "file_extension": ".py",
   "mimetype": "text/x-python",
   "name": "python",
   "nbconvert_exporter": "python",
   "pygments_lexer": "ipython2",
   "version": "2.7.13"
  }
 },
 "nbformat": 4,
 "nbformat_minor": 2
}
