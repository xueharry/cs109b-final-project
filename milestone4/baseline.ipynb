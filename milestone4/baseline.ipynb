{
 "cells": [
  {
   "cell_type": "markdown",
   "metadata": {},
   "source": [
    "# Naive Baseline Models + Additional Metrics\n",
    "* all zeroes\n",
    "* all ones\n",
    "* most common set of genres\n",
    "* per-genre accuracy"
   ]
  },
  {
   "cell_type": "code",
   "execution_count": 137,
   "metadata": {
    "collapsed": true
   },
   "outputs": [],
   "source": [
    "import os\n",
    "import pickle\n",
    "\n",
    "import numpy as np\n",
    "import pandas as pd\n",
    "import sklearn.metrics as skmetrics\n",
    "from collections import Counter\n",
    "\n",
    "import matplotlib.pyplot as plt\n",
    "%matplotlib inline"
   ]
  },
  {
   "cell_type": "code",
   "execution_count": 138,
   "metadata": {
    "collapsed": true
   },
   "outputs": [],
   "source": [
    "out = open('data/cols.pkl', 'r')\n",
    "cols = pickle.load(out)\n",
    "y_pred = pd.DataFrame(np.load('data/y_pred.npy'), columns = cols)\n",
    "y_test = pd.DataFrame(np.load('data/y_test.npy'), columns = cols)"
   ]
  },
  {
   "cell_type": "markdown",
   "metadata": {},
   "source": [
    "## Neural Net Output"
   ]
  },
  {
   "cell_type": "code",
   "execution_count": 113,
   "metadata": {},
   "outputs": [
    {
     "name": "stdout",
     "output_type": "stream",
     "text": [
      "hamming loss: 0.133620689655\n",
      "jaccard similarity: 0.159736247947\n",
      "zero one loss: 0.969827586207\n",
      "exact match ratio: 0.0301724137931\n"
     ]
    }
   ],
   "source": [
    "print 'hamming loss:', skmetrics.hamming_loss(y_test, y_pred)\n",
    "print 'jaccard similarity:', skmetrics.jaccard_similarity_score(y_test, y_pred)\n",
    "print 'zero one loss:', skmetrics.zero_one_loss(y_test, y_pred)\n",
    "print 'exact match ratio:', skmetrics.accuracy_score(y_test, y_pred)"
   ]
  },
  {
   "cell_type": "markdown",
   "metadata": {},
   "source": [
    "## All Zeros"
   ]
  },
  {
   "cell_type": "code",
   "execution_count": 115,
   "metadata": {},
   "outputs": [
    {
     "name": "stdout",
     "output_type": "stream",
     "text": [
      "hamming loss: 0.138520871143\n",
      "jaccard similarity: 0.0\n",
      "zero one loss: 1.0\n",
      "exact match ratio: 0.0\n"
     ]
    }
   ],
   "source": [
    "zeros = np.zeros(y_test.shape)\n",
    "print 'hamming loss:', skmetrics.hamming_loss(y_test, zeros)\n",
    "print 'jaccard similarity:', skmetrics.jaccard_similarity_score(y_test, zeros)\n",
    "print 'zero one loss:', skmetrics.zero_one_loss(y_test, zeros)\n",
    "print 'exact match ratio:', skmetrics.accuracy_score(y_test, zeros)"
   ]
  },
  {
   "cell_type": "markdown",
   "metadata": {},
   "source": [
    "## All Ones"
   ]
  },
  {
   "cell_type": "code",
   "execution_count": 116,
   "metadata": {},
   "outputs": [
    {
     "name": "stdout",
     "output_type": "stream",
     "text": [
      "hamming loss: 0.861479128857\n",
      "jaccard similarity: 0.138520871143\n",
      "zero one loss: 1.0\n",
      "exact match ratio: 0.0\n"
     ]
    }
   ],
   "source": [
    "ones = np.ones(y_test.shape)\n",
    "print 'hamming loss:', skmetrics.hamming_loss(y_test, ones)\n",
    "print 'jaccard similarity:', skmetrics.jaccard_similarity_score(y_test, ones)\n",
    "print 'zero one loss:', skmetrics.zero_one_loss(y_test, ones)\n",
    "print 'exact match ratio:', skmetrics.accuracy_score(y_test, ones)"
   ]
  },
  {
   "cell_type": "markdown",
   "metadata": {},
   "source": [
    "## Most Common Set of Genres"
   ]
  },
  {
   "cell_type": "code",
   "execution_count": 102,
   "metadata": {},
   "outputs": [
    {
     "name": "stdout",
     "output_type": "stream",
     "text": [
      "most common combo: (0, 0, 0, 0, 0, 0, 0, 0, 0, 0, 0, 0, 1, 0, 0, 0, 0, 0, 0)\n",
      "appears 72 times\n"
     ]
    }
   ],
   "source": [
    "count = Counter()\n",
    "for index, row in y_test.iterrows():\n",
    "    count[tuple(row)] += 1\n",
    "print \"most common combo:\", count.most_common(1)[0][0]\n",
    "print \"appears {} times\".format(count.most_common(1)[0][1])"
   ]
  },
  {
   "cell_type": "code",
   "execution_count": 108,
   "metadata": {
    "collapsed": true
   },
   "outputs": [],
   "source": [
    "most_common = pd.Series(count.most_common(1)[0][0]).to_frame().T\n",
    "most_common.columns = cols\n",
    "naive = pd.concat([most_common] * len(y_test))"
   ]
  },
  {
   "cell_type": "code",
   "execution_count": 109,
   "metadata": {},
   "outputs": [
    {
     "data": {
      "text/html": [
       "<div>\n",
       "<table border=\"1\" class=\"dataframe\">\n",
       "  <thead>\n",
       "    <tr style=\"text-align: right;\">\n",
       "      <th></th>\n",
       "      <th>War</th>\n",
       "      <th>Mystery</th>\n",
       "      <th>Music</th>\n",
       "      <th>Comedy</th>\n",
       "      <th>History</th>\n",
       "      <th>Western</th>\n",
       "      <th>Animation</th>\n",
       "      <th>Adventure</th>\n",
       "      <th>Drama</th>\n",
       "      <th>Fantasy</th>\n",
       "      <th>Crime</th>\n",
       "      <th>TV Movie</th>\n",
       "      <th>Documentary</th>\n",
       "      <th>Thriller</th>\n",
       "      <th>Science Fiction</th>\n",
       "      <th>Horror</th>\n",
       "      <th>Action</th>\n",
       "      <th>Romance</th>\n",
       "      <th>Family</th>\n",
       "    </tr>\n",
       "  </thead>\n",
       "  <tbody>\n",
       "    <tr>\n",
       "      <th>0</th>\n",
       "      <td>0</td>\n",
       "      <td>0</td>\n",
       "      <td>0</td>\n",
       "      <td>0</td>\n",
       "      <td>0</td>\n",
       "      <td>0</td>\n",
       "      <td>0</td>\n",
       "      <td>0</td>\n",
       "      <td>0</td>\n",
       "      <td>0</td>\n",
       "      <td>0</td>\n",
       "      <td>0</td>\n",
       "      <td>1</td>\n",
       "      <td>0</td>\n",
       "      <td>0</td>\n",
       "      <td>0</td>\n",
       "      <td>0</td>\n",
       "      <td>0</td>\n",
       "      <td>0</td>\n",
       "    </tr>\n",
       "    <tr>\n",
       "      <th>0</th>\n",
       "      <td>0</td>\n",
       "      <td>0</td>\n",
       "      <td>0</td>\n",
       "      <td>0</td>\n",
       "      <td>0</td>\n",
       "      <td>0</td>\n",
       "      <td>0</td>\n",
       "      <td>0</td>\n",
       "      <td>0</td>\n",
       "      <td>0</td>\n",
       "      <td>0</td>\n",
       "      <td>0</td>\n",
       "      <td>1</td>\n",
       "      <td>0</td>\n",
       "      <td>0</td>\n",
       "      <td>0</td>\n",
       "      <td>0</td>\n",
       "      <td>0</td>\n",
       "      <td>0</td>\n",
       "    </tr>\n",
       "    <tr>\n",
       "      <th>0</th>\n",
       "      <td>0</td>\n",
       "      <td>0</td>\n",
       "      <td>0</td>\n",
       "      <td>0</td>\n",
       "      <td>0</td>\n",
       "      <td>0</td>\n",
       "      <td>0</td>\n",
       "      <td>0</td>\n",
       "      <td>0</td>\n",
       "      <td>0</td>\n",
       "      <td>0</td>\n",
       "      <td>0</td>\n",
       "      <td>1</td>\n",
       "      <td>0</td>\n",
       "      <td>0</td>\n",
       "      <td>0</td>\n",
       "      <td>0</td>\n",
       "      <td>0</td>\n",
       "      <td>0</td>\n",
       "    </tr>\n",
       "    <tr>\n",
       "      <th>0</th>\n",
       "      <td>0</td>\n",
       "      <td>0</td>\n",
       "      <td>0</td>\n",
       "      <td>0</td>\n",
       "      <td>0</td>\n",
       "      <td>0</td>\n",
       "      <td>0</td>\n",
       "      <td>0</td>\n",
       "      <td>0</td>\n",
       "      <td>0</td>\n",
       "      <td>0</td>\n",
       "      <td>0</td>\n",
       "      <td>1</td>\n",
       "      <td>0</td>\n",
       "      <td>0</td>\n",
       "      <td>0</td>\n",
       "      <td>0</td>\n",
       "      <td>0</td>\n",
       "      <td>0</td>\n",
       "    </tr>\n",
       "    <tr>\n",
       "      <th>0</th>\n",
       "      <td>0</td>\n",
       "      <td>0</td>\n",
       "      <td>0</td>\n",
       "      <td>0</td>\n",
       "      <td>0</td>\n",
       "      <td>0</td>\n",
       "      <td>0</td>\n",
       "      <td>0</td>\n",
       "      <td>0</td>\n",
       "      <td>0</td>\n",
       "      <td>0</td>\n",
       "      <td>0</td>\n",
       "      <td>1</td>\n",
       "      <td>0</td>\n",
       "      <td>0</td>\n",
       "      <td>0</td>\n",
       "      <td>0</td>\n",
       "      <td>0</td>\n",
       "      <td>0</td>\n",
       "    </tr>\n",
       "  </tbody>\n",
       "</table>\n",
       "</div>"
      ],
      "text/plain": [
       "   War  Mystery  Music  Comedy  History  Western  Animation  Adventure  Drama  \\\n",
       "0    0        0      0       0        0        0          0          0      0   \n",
       "0    0        0      0       0        0        0          0          0      0   \n",
       "0    0        0      0       0        0        0          0          0      0   \n",
       "0    0        0      0       0        0        0          0          0      0   \n",
       "0    0        0      0       0        0        0          0          0      0   \n",
       "\n",
       "   Fantasy  Crime  TV Movie  Documentary  Thriller  Science Fiction  Horror  \\\n",
       "0        0      0         0            1         0                0       0   \n",
       "0        0      0         0            1         0                0       0   \n",
       "0        0      0         0            1         0                0       0   \n",
       "0        0      0         0            1         0                0       0   \n",
       "0        0      0         0            1         0                0       0   \n",
       "\n",
       "   Action  Romance  Family  \n",
       "0       0        0       0  \n",
       "0       0        0       0  \n",
       "0       0        0       0  \n",
       "0       0        0       0  \n",
       "0       0        0       0  "
      ]
     },
     "execution_count": 109,
     "metadata": {},
     "output_type": "execute_result"
    }
   ],
   "source": [
    "naive.head()"
   ]
  },
  {
   "cell_type": "code",
   "execution_count": 107,
   "metadata": {},
   "outputs": [
    {
     "name": "stdout",
     "output_type": "stream",
     "text": [
      "hamming loss: 0.179809437387\n",
      "jaccard similarity: 0.0827586206897\n",
      "zero one loss: 0.937931034483\n",
      "exact match ratio: 0.0620689655172\n"
     ]
    }
   ],
   "source": [
    "print 'hamming loss:', skmetrics.hamming_loss(y_test, naive)\n",
    "print 'jaccard similarity:', skmetrics.jaccard_similarity_score(y_test, naive)\n",
    "print 'zero one loss:', skmetrics.zero_one_loss(y_test, naive)\n",
    "print 'exact match ratio:', skmetrics.accuracy_score(y_test, naive)"
   ]
  },
  {
   "cell_type": "markdown",
   "metadata": {},
   "source": [
    "## Per Genre Accuracy"
   ]
  },
  {
   "cell_type": "code",
   "execution_count": 136,
   "metadata": {},
   "outputs": [
    {
     "data": {
      "text/plain": [
       "<matplotlib.axes._subplots.AxesSubplot at 0x1112e6110>"
      ]
     },
     "execution_count": 136,
     "metadata": {},
     "output_type": "execute_result"
    },
    {
     "data": {
      "image/png": "[encoded data removed]",
      "text/plain": [
       "<matplotlib.figure.Figure at 0x110e17c10>"
      ]
     },
     "metadata": {},
     "output_type": "display_data"
    }
   ],
   "source": [
    "genre_acc = {}\n",
    "for genre in cols:\n",
    "    genre_acc[genre] = (y_test[genre] == y_pred[genre]).mean()\n",
    "pd.DataFrame(genre_acc, index = [0]).plot.bar(\n",
    "    figsize = (10,10)\n",
    ")"
   ]
  }
 ],
 "metadata": {
  "kernelspec": {
   "display_name": "Python 2",
   "language": "python",
   "name": "python2"
  },
  "language_info": {
   "codemirror_mode": {
    "name": "ipython",
    "version": 2
   },
   "file_extension": ".py",
   "mimetype": "text/x-python",
   "name": "python",
   "nbconvert_exporter": "python",
   "pygments_lexer": "ipython2",
   "version": "2.7.13"
  }
 },
 "nbformat": 4,
 "nbformat_minor": 2
}
