{
 "cells": [
  {
   "cell_type": "code",
   "execution_count": 171,
   "metadata": {
    "collapsed": false,
    "deletable": true,
    "editable": true
   },
   "outputs": [],
   "source": [
    "import os\n",
    "import pickle\n",
    "\n",
    "import numpy as np\n",
    "import pandas as pd\n",
    "\n",
    "from keras.preprocessing.image import ImageDataGenerator\n",
    "from keras.models import Sequential\n",
    "from keras.layers import Conv2D, MaxPooling2D\n",
    "from keras.layers import Activation, Dropout, Flatten, Dense\n",
    "from keras import backend as K\n",
    "from keras import regularizers\n",
    "\n",
    "from keras.applications import VGG16\n",
    "from keras.applications.vgg16 import preprocess_input\n",
    "from keras.preprocessing import image as kimage\n",
    "\n",
    "import sklearn.metrics as skmetrics\n",
    "\n",
    "import matplotlib.pyplot as plt\n",
    "%matplotlib inline"
   ]
  },
  {
   "cell_type": "markdown",
   "metadata": {
    "deletable": true,
    "editable": true
   },
   "source": [
    "# Small Network From Scratch\n",
    "\n",
    "TODO:\n"
   ]
  },
  {
   "cell_type": "markdown",
   "metadata": {
    "deletable": true,
    "editable": true
   },
   "source": []
  },
  {
   "cell_type": "markdown",
   "metadata": {
    "deletable": true,
    "editable": true
   },
   "source": [
    "## Load training and validation images"
   ]
  },
  {
   "cell_type": "code",
   "execution_count": 26,
   "metadata": {
    "collapsed": true,
    "deletable": true,
    "editable": true
   },
   "outputs": [],
   "source": [
    "train_dir = \"data/posters_split/train/\"\n",
    "validation_dir = \"data/posters_split/validation/\""
   ]
  },
  {
   "cell_type": "code",
   "execution_count": 27,
   "metadata": {
    "collapsed": true,
    "deletable": true,
    "editable": true
   },
   "outputs": [],
   "source": [
    "train_filenames = os.listdir(train_dir)\n",
    "n_train = len(train_filenames)\n",
    "\n",
    "validation_filenames = os.listdir(validation_dir)\n",
    "n_validation = len(validation_filenames)"
   ]
  },
  {
   "cell_type": "code",
   "execution_count": 46,
   "metadata": {
    "collapsed": true,
    "deletable": true,
    "editable": true
   },
   "outputs": [],
   "source": [
    "# Load train images in arrays\n",
    "images=[None]*n_train\n",
    "X=[None]*n_train\n",
    "\n",
    "for i, train_filename in enumerate(train_filenames):\n",
    "    images[i] = kimage.load_img(train_dir + train_filename, target_size=(224, 224))\n",
    "    X[i] = kimage.img_to_array(images[i])\n",
    "    X[i] = np.expand_dims(X[i], axis=0)\n",
    "    X[i] = preprocess_input(X[i]).reshape(224,224,3)  "
   ]
  },
  {
   "cell_type": "code",
   "execution_count": 47,
   "metadata": {
    "collapsed": true,
    "deletable": true,
    "editable": true
   },
   "outputs": [],
   "source": [
    "# Load validation images in arrays\n",
    "val_images=[None]*n_validation\n",
    "val_X=[None]*n_validation\n",
    "\n",
    "for i, validation_filename in enumerate(validation_filenames):\n",
    "    val_images[i] = kimage.load_img(validation_dir + validation_filename, target_size=(224, 224))\n",
    "    val_X[i] = kimage.img_to_array(val_images[i])\n",
    "    val_X[i] = np.expand_dims(val_X[i], axis=0)\n",
    "    val_X[i] = preprocess_input(val_X[i]).reshape(224,224,3)  "
   ]
  },
  {
   "cell_type": "markdown",
   "metadata": {
    "deletable": true,
    "editable": true
   },
   "source": [
    "## Create first convolutional layer"
   ]
  },
  {
   "cell_type": "code",
   "execution_count": 30,
   "metadata": {
    "collapsed": true,
    "deletable": true,
    "editable": true
   },
   "outputs": [],
   "source": [
    "#Single layer CNN\n",
    "model = Sequential()\n",
    "model.add(Conv2D(32, (3, 3), input_shape=(224, 224, 3)))\n",
    "model.add(Activation('relu'))\n",
    "model.add(MaxPooling2D(pool_size=(2, 2)))"
   ]
  },
  {
   "cell_type": "code",
   "execution_count": null,
   "metadata": {
    "collapsed": true,
    "deletable": true,
    "editable": true
   },
   "outputs": [],
   "source": []
  },
  {
   "cell_type": "code",
   "execution_count": 31,
   "metadata": {
    "collapsed": false,
    "deletable": true,
    "editable": true
   },
   "outputs": [
    {
     "name": "stdout",
     "output_type": "stream",
     "text": [
      "_________________________________________________________________\n",
      "Layer (type)                 Output Shape              Param #   \n",
      "=================================================================\n",
      "conv2d_3 (Conv2D)            (None, 222, 222, 32)      896       \n",
      "_________________________________________________________________\n",
      "activation_5 (Activation)    (None, 222, 222, 32)      0         \n",
      "_________________________________________________________________\n",
      "max_pooling2d_3 (MaxPooling2 (None, 111, 111, 32)      0         \n",
      "=================================================================\n",
      "Total params: 896.0\n",
      "Trainable params: 896.0\n",
      "Non-trainable params: 0.0\n",
      "_________________________________________________________________\n"
     ]
    }
   ],
   "source": [
    "model.summary()"
   ]
  },
  {
   "cell_type": "code",
   "execution_count": 32,
   "metadata": {
    "collapsed": false,
    "deletable": true,
    "editable": true
   },
   "outputs": [],
   "source": [
    "X_1 = np.array(X)\n",
    "val_X_1 = np.array(val_X)\n",
    "train_features = model.predict(X_1)\n",
    "val_features = model.predict(val_X_1)"
   ]
  },
  {
   "cell_type": "code",
   "execution_count": null,
   "metadata": {
    "collapsed": true,
    "deletable": true,
    "editable": true
   },
   "outputs": [],
   "source": []
  },
  {
   "cell_type": "markdown",
   "metadata": {
    "deletable": true,
    "editable": true
   },
   "source": [
    "## Get genres for each of the movies from their filenames"
   ]
  },
  {
   "cell_type": "code",
   "execution_count": 33,
   "metadata": {
    "collapsed": true,
    "deletable": true,
    "editable": true
   },
   "outputs": [],
   "source": [
    "genre_dict = pickle.load(open(\"data/genre_dict.pickle\", 'rb'))\n",
    "\n",
    "# Get movie information (including genre labels) for train and validation data from filenames\n",
    "train_movie_names = os.listdir(\"data/posters_split/train/\")\n",
    "# Unique id for each movie\n",
    "train_ids = [filename.split(\"-\")[-1].split(\"_\")[0] for filename in train_movie_names]\n",
    "train_ids = [int(id) for id in train_ids]\n",
    "# List of genre ids for each movie\n",
    "train_genre_ids = [map(int, os.path.splitext(filename)[0].split(\"-\")[-1].split(\"_\")[1:]) for filename in train_movie_names]\n",
    "\n",
    "val_movie_names = os.listdir(\"data/posters_split/validation/\")\n",
    "# Unique id for each movie\n",
    "val_ids = [filename.split(\"-\")[-1].split(\"_\")[0] for filename in val_movie_names]\n",
    "val_ids = [int(id) for id in val_ids]\n",
    "# List of genre ids for each movie\n",
    "val_genre_ids = [map(int, os.path.splitext(filename)[0].split(\"-\")[-1].split(\"_\")[1:]) for filename in val_movie_names]"
   ]
  },
  {
   "cell_type": "markdown",
   "metadata": {
    "deletable": true,
    "editable": true
   },
   "source": [
    "## Create binary encoded response vectors for train and validation datasets"
   ]
  },
  {
   "cell_type": "code",
   "execution_count": 34,
   "metadata": {
    "collapsed": true,
    "deletable": true,
    "editable": true
   },
   "outputs": [],
   "source": [
    "train_multilabels = pd.DataFrame(index=train_ids)\n",
    "\n",
    "# multilabel binary encoding by genre\n",
    "for genre_id, genre in genre_dict.items():\n",
    "    train_multilabels[genre] = [int(int(genre_id) in genre_list) for genre_list in train_genre_ids]\n",
    "    \n",
    "val_multilabels = pd.DataFrame(index=val_ids)\n",
    "\n",
    "# multilabel binary encoding by genre\n",
    "for genre_id, genre in genre_dict.items():\n",
    "    val_multilabels[genre] = [int(int(genre_id) in genre_list) for genre_list in val_genre_ids]"
   ]
  },
  {
   "cell_type": "markdown",
   "metadata": {
    "deletable": true,
    "editable": true
   },
   "source": [
    "## Add a fully connected layer on top and train on features from first layer"
   ]
  },
  {
   "cell_type": "code",
   "execution_count": 35,
   "metadata": {
    "collapsed": true,
    "deletable": true,
    "editable": true
   },
   "outputs": [],
   "source": [
    "model = Sequential()\n",
    "model.add(Flatten(input_shape=train_features.shape[1:]))  # this converts our 3D feature maps to 1D feature vectors\n",
    "model.add(Dense(256, activation='relu'))\n",
    "model.add(Dropout(0.5))\n",
    "model.add(Dense(train_multilabels.shape[1], activation = 'sigmoid'))\n",
    "\n",
    "model.compile(loss='binary_crossentropy',\n",
    "              optimizer='sgd',\n",
    "              metrics=['accuracy'])"
   ]
  },
  {
   "cell_type": "code",
   "execution_count": 36,
   "metadata": {
    "collapsed": false,
    "deletable": true,
    "editable": true
   },
   "outputs": [
    {
     "data": {
      "text/plain": [
       "pandas.core.frame.DataFrame"
      ]
     },
     "execution_count": 36,
     "metadata": {},
     "output_type": "execute_result"
    }
   ],
   "source": [
    "type(train_multilabels)"
   ]
  },
  {
   "cell_type": "code",
   "execution_count": 43,
   "metadata": {
    "collapsed": false,
    "deletable": true,
    "editable": true
   },
   "outputs": [],
   "source": [
    "history = model.fit(train_features, train_multilabels.values,\n",
    "          epochs=10,\n",
    "          batch_size=16,\n",
    "          validation_data=(val_features, val_multilabels.values),\n",
    "          verbose=0)\n",
    "model.save_weights('bottleneck_fc_model.h5')"
   ]
  },
  {
   "cell_type": "code",
   "execution_count": 44,
   "metadata": {
    "collapsed": false,
    "deletable": true,
    "editable": true
   },
   "outputs": [
    {
     "name": "stdout",
     "output_type": "stream",
     "text": [
      "('Train loss: ', 4.1524270704033528)\n",
      "('Train accuracy:', 0.74058079714411207)\n",
      "('Validation loss:', 4.1605181167865624)\n",
      "('Validation accuracy:', 0.7400634412107796)\n"
     ]
    }
   ],
   "source": [
    "score_scr = model.evaluate(train_features, train_multilabels.values, verbose = 0)\n",
    "print(\"Train loss: \", score_scr[0])\n",
    "print('Train accuracy:', score_scr[1])\n",
    "\n",
    "score_scr = model.evaluate(val_features, val_multilabels.values, verbose=0)\n",
    "print('Validation loss:', score_scr[0])\n",
    "print('Validation accuracy:', score_scr[1])"
   ]
  },
  {
   "cell_type": "code",
   "execution_count": 45,
   "metadata": {
    "collapsed": false,
    "deletable": true,
    "editable": true
   },
   "outputs": [
    {
     "data": {
      "text/plain": [
       "<matplotlib.text.Text at 0x7f1b843d11d0>"
      ]
     },
     "execution_count": 45,
     "metadata": {},
     "output_type": "execute_result"
    },
    {
     "data": {
      "image/png": "[encoded data removed]",
      "text/plain": [
       "<matplotlib.figure.Figure at 0x7f1b844a6b10>"
      ]
     },
     "metadata": {},
     "output_type": "display_data"
    }
   ],
   "source": [
    "plt.plot(history.history['acc'])\n",
    "plt.xlabel(\"epoch\")\n",
    "plt.ylabel(\"accuracy\")"
   ]
  },
  {
   "cell_type": "markdown",
   "metadata": {},
   "source": [
    "## More intense from scratch"
   ]
  },
  {
   "cell_type": "code",
   "execution_count": 173,
   "metadata": {
    "collapsed": false
   },
   "outputs": [],
   "source": [
    "#Single layer CNN\n",
    "model = Sequential()\n",
    "model.add(Conv2D(32, (3, 3), input_shape=(224, 224, 3)))\n",
    "model.add(Activation('relu'))\n",
    "model.add(MaxPooling2D(pool_size=(2, 2)))\n",
    "\n",
    "model.add(Conv2D(32, (3, 3)))\n",
    "model.add(Activation('relu'))\n",
    "model.add(MaxPooling2D(pool_size=(2, 2)))\n",
    "\n",
    "model.add(Conv2D(32, (3, 3)))\n",
    "model.add(Activation('relu'))\n",
    "model.add(MaxPooling2D(pool_size=(2, 2)))\n",
    "\n",
    "model.add(Conv2D(32, (3, 3)))\n",
    "model.add(Activation('relu'))\n",
    "model.add(MaxPooling2D(pool_size=(2, 2)))\n",
    "\n",
    "model.add(Conv2D(64, (3, 3)))\n",
    "model.add(Activation('relu'))\n",
    "model.add(MaxPooling2D(pool_size=(2, 2)))\n",
    "\n",
    "model.add(Conv2D(64, (3, 3)))\n",
    "model.add(Activation('relu'))\n",
    "model.add(MaxPooling2D(pool_size=(2, 2)))"
   ]
  },
  {
   "cell_type": "code",
   "execution_count": 174,
   "metadata": {
    "collapsed": false
   },
   "outputs": [
    {
     "name": "stdout",
     "output_type": "stream",
     "text": [
      "_________________________________________________________________\n",
      "Layer (type)                 Output Shape              Param #   \n",
      "=================================================================\n",
      "conv2d_117 (Conv2D)          (None, 222, 222, 32)      896       \n",
      "_________________________________________________________________\n",
      "activation_116 (Activation)  (None, 222, 222, 32)      0         \n",
      "_________________________________________________________________\n",
      "max_pooling2d_114 (MaxPoolin (None, 111, 111, 32)      0         \n",
      "_________________________________________________________________\n",
      "conv2d_118 (Conv2D)          (None, 109, 109, 32)      9248      \n",
      "_________________________________________________________________\n",
      "activation_117 (Activation)  (None, 109, 109, 32)      0         \n",
      "_________________________________________________________________\n",
      "max_pooling2d_115 (MaxPoolin (None, 54, 54, 32)        0         \n",
      "_________________________________________________________________\n",
      "conv2d_119 (Conv2D)          (None, 52, 52, 32)        9248      \n",
      "_________________________________________________________________\n",
      "activation_118 (Activation)  (None, 52, 52, 32)        0         \n",
      "_________________________________________________________________\n",
      "max_pooling2d_116 (MaxPoolin (None, 26, 26, 32)        0         \n",
      "_________________________________________________________________\n",
      "conv2d_120 (Conv2D)          (None, 24, 24, 32)        9248      \n",
      "_________________________________________________________________\n",
      "activation_119 (Activation)  (None, 24, 24, 32)        0         \n",
      "_________________________________________________________________\n",
      "max_pooling2d_117 (MaxPoolin (None, 12, 12, 32)        0         \n",
      "_________________________________________________________________\n",
      "conv2d_121 (Conv2D)          (None, 10, 10, 64)        18496     \n",
      "_________________________________________________________________\n",
      "activation_120 (Activation)  (None, 10, 10, 64)        0         \n",
      "_________________________________________________________________\n",
      "max_pooling2d_118 (MaxPoolin (None, 5, 5, 64)          0         \n",
      "_________________________________________________________________\n",
      "conv2d_122 (Conv2D)          (None, 3, 3, 64)          36928     \n",
      "_________________________________________________________________\n",
      "activation_121 (Activation)  (None, 3, 3, 64)          0         \n",
      "_________________________________________________________________\n",
      "max_pooling2d_119 (MaxPoolin (None, 1, 1, 64)          0         \n",
      "=================================================================\n",
      "Total params: 84,064.0\n",
      "Trainable params: 84,064.0\n",
      "Non-trainable params: 0.0\n",
      "_________________________________________________________________\n"
     ]
    }
   ],
   "source": [
    "model.summary()"
   ]
  },
  {
   "cell_type": "code",
   "execution_count": 175,
   "metadata": {
    "collapsed": false
   },
   "outputs": [],
   "source": [
    "X_2 = np.array(X)\n",
    "val_X_2 = np.array(val_X)\n",
    "train_features = model.predict(X_2)\n",
    "val_features = model.predict(val_X_2)"
   ]
  },
  {
   "cell_type": "code",
   "execution_count": 176,
   "metadata": {
    "collapsed": true
   },
   "outputs": [],
   "source": [
    "model = Sequential()\n",
    "model.add(Flatten(input_shape=train_features.shape[1:]))  # this converts our 3D feature maps to 1D feature vectors\n",
    "model.add(Dense(256, activation='relu', \n",
    "                kernel_regularizer = regularizers.l2(0.01), \n",
    "                activity_regularizer=regularizers.l1(0.01)))\n",
    "model.add(Dropout(0.6))\n",
    "model.add(Dense(train_multilabels.shape[1], activation = 'sigmoid'))\n",
    "\n",
    "model.compile(loss='binary_crossentropy',\n",
    "              optimizer='sgd',\n",
    "              metrics=['accuracy'])"
   ]
  },
  {
   "cell_type": "code",
   "execution_count": 177,
   "metadata": {
    "collapsed": false
   },
   "outputs": [
    {
     "data": {
      "text/plain": [
       "<matplotlib.text.Text at 0x7f1cce3b3850>"
      ]
     },
     "execution_count": 177,
     "metadata": {},
     "output_type": "execute_result"
    },
    {
     "data": {
      "image/png": "[encoded data removed]",
      "text/plain": [
       "<matplotlib.figure.Figure at 0x7f1cce3fafd0>"
      ]
     },
     "metadata": {},
     "output_type": "display_data"
    }
   ],
   "source": [
    "history = model.fit(train_features, train_multilabels.values,\n",
    "          epochs=50,\n",
    "          batch_size=16,\n",
    "          validation_data=(val_features, val_multilabels.values),\n",
    "          verbose=0)\n",
    "model.save_weights('conv_6_model.h5')\n",
    "\n",
    "plt.plot(history.history['acc'])\n",
    "plt.xlabel(\"epoch\")\n",
    "plt.ylabel(\"accuracy\")"
   ]
  },
  {
   "cell_type": "code",
   "execution_count": 178,
   "metadata": {
    "collapsed": false
   },
   "outputs": [
    {
     "name": "stdout",
     "output_type": "stream",
     "text": [
      "  32/1160 [..............................] - ETA: 10s\n",
      " \n",
      "Scratch CNN Predictions\n",
      "hamming loss: 0.138520871143\n",
      "jaccard similarity: 0.0\n",
      "zero one loss: 1.0\n",
      "exact match ratio: 0.0\n"
     ]
    }
   ],
   "source": [
    "out = model.predict_proba(val_features)\n",
    "out = np.array(out)\n",
    "\n",
    "y_test = val_multilabels.values\n",
    "\n",
    "y_pred = np.array([[1 if out[i,j]>=0.5 else 0 for j in range(y_test.shape[1])] for i in range(len(y_test))])\n",
    "\n",
    "print '\\n '\n",
    "print 'Scratch CNN Predictions'\n",
    "print 'hamming loss:', skmetrics.hamming_loss(y_test, y_pred)\n",
    "print 'jaccard similarity:', skmetrics.jaccard_similarity_score(y_test, y_pred)\n",
    "print 'zero one loss:', skmetrics.zero_one_loss(y_test, y_pred)\n",
    "print 'exact match ratio:', skmetrics.accuracy_score(y_test, y_pred)"
   ]
  },
  {
   "cell_type": "code",
   "execution_count": null,
   "metadata": {
    "collapsed": true
   },
   "outputs": [],
   "source": []
  }
 ],
 "metadata": {
  "anaconda-cloud": {},
  "kernelspec": {
   "display_name": "Python [Root]",
   "language": "python",
   "name": "Python [Root]"
  },
  "language_info": {
   "codemirror_mode": {
    "name": "ipython",
    "version": 2
   },
   "file_extension": ".py",
   "mimetype": "text/x-python",
   "name": "python",
   "nbconvert_exporter": "python",
   "pygments_lexer": "ipython2",
   "version": "2.7.12"
  }
 },
 "nbformat": 4,
 "nbformat_minor": 1
}
